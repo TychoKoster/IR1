{
 "cells": [
  {
   "cell_type": "markdown",
   "metadata": {},
   "source": [
    "# Information Retrieval 1#\n",
    "## Assignment 2: Retrieval models [100 points] ##"
   ]
  },
  {
   "cell_type": "markdown",
   "metadata": {},
   "source": [
    "In this assignment you will get familiar with basic and advanced information retrieval concepts. You will implement different information retrieval ranking models and evaluate their performance.\n",
    "\n",
    "We provide you with a Indri index. To query the index, you'll use a Python package ([pyndri](https://github.com/cvangysel/pyndri)) that allows easy access to the underlying document statistics.\n",
    "\n",
    "For evaluation you'll use the [TREC Eval](https://github.com/usnistgov/trec_eval) utility, provided by the National Institute of Standards and Technology of the United States. TREC Eval is the de facto standard way to compute Information Retrieval measures and is frequently referenced in scientific papers.\n",
    "\n",
    "This is a **groups-of-three assignment**, the deadline is **Wednesday, January 31st**. Code quality, informative comments and convincing analysis of the results will be considered when grading. Submission should be done through blackboard, questions can be asked on the course [Piazza](piazza.com/university_of_amsterdam/spring2018/52041inr6y/home).\n",
    "\n",
    "### Technicalities (must-read!) ###\n",
    "\n",
    "The assignment directory is organized as follows:\n",
    "   * `./assignment.ipynb` (this file): the description of the assignment.\n",
    "   * `./index/`: the index we prepared for you.\n",
    "   * `./ap_88_90/`: directory with ground-truth and evaluation sets:\n",
    "      * `qrel_test`: test query relevance collection (**test set**).\n",
    "      * `qrel_validation`: validation query relevance collection (**validation set**).\n",
    "      * `topics_title`: semicolon-separated file with query identifiers and terms.\n",
    "\n",
    "You will need the following software packages (tested with Python 3.5 inside [Anaconda](https://conda.io/docs/user-guide/install/index.html)):\n",
    "   * Python 3.5 and Jupyter\n",
    "   * Indri + Pyndri (Follow the installation instructions [here](https://github.com/nickvosk/pyndri/blob/master/README.md))\n",
    "   * gensim [link](https://radimrehurek.com/gensim/install.html)\n",
    "   * TREC Eval [link](https://github.com/usnistgov/trec_eval)"
   ]
  },
  {
   "cell_type": "markdown",
   "metadata": {},
   "source": [
    "### TREC Eval primer ###\n",
    "The TREC Eval utility can be downloaded and compiled as follows:\n",
    "\n",
    "    git clone https://github.com/usnistgov/trec_eval.git\n",
    "    cd trec_eval\n",
    "    make\n",
    "\n",
    "TREC Eval computes evaluation scores given two files: ground-truth information regarding relevant documents, named *query relevance* or *qrel*, and a ranking of documents for a set of queries, referred to as a *run*. The *qrel* will be supplied by us and should not be changed. For every retrieval model (or combinations thereof) you will generate a run of the top-1000 documents for every query. The format of the *run* file is as follows:\n",
    "\n",
    "    $query_identifier Q0 $document_identifier $rank_of_document_for_query $query_document_similarity $run_identifier\n",
    "    \n",
    "where\n",
    "   * `$query_identifier` is the unique identifier corresponding to a query (usually this follows a sequential numbering).\n",
    "   * `Q0` is a legacy field that you can ignore.\n",
    "   * `$document_identifier` corresponds to the unique identifier of a document (e.g., APXXXXXXX where AP denotes the collection and the Xs correspond to a unique numerical identifier).\n",
    "   * `$rank_of_document_for_query` denotes the rank of the document for the particular query. This field is ignored by TREC Eval and is only maintained for legacy support. The ranks are computed by TREC Eval itself using the `$query_document_similarity` field (see next). However, it remains good practice to correctly compute this field.\n",
    "   * `$query_document_similarity` is a score indicating the similarity between query and document where a higher score denotes greater similarity.\n",
    "   * `$run_identifier` is an identifier of the run. This field is for your own convenience and has no purpose beyond bookkeeping.\n",
    "   \n",
    "For example, say we have two queries: `Q1` and `Q2` and we rank three documents (`DOC1`, `DOC2`, `DOC3`). For query `Q1`, we find the following similarity scores `score(Q1, DOC1) = 1.0`, `score(Q1, DOC2) = 0.5`, `score(Q1, DOC3) = 0.75`; and for `Q2`: `score(Q2, DOC1) = -0.1`, `score(Q2, DOC2) = 1.25`, `score(Q1, DOC3) = 0.0`. We can generate run using the following snippet:"
   ]
  },
  {
   "cell_type": "code",
   "execution_count": 28,
   "metadata": {
    "scrolled": false
   },
   "outputs": [
    {
     "name": "stdout",
     "output_type": "stream",
     "text": [
      "Q1 Q0 DOC1 1 1.0 example\n",
      "Q1 Q0 DOC3 2 0.75 example\n",
      "Q1 Q0 DOC2 3 0.5 example\n",
      "Q2 Q0 DOC2 1 1.25 example\n",
      "Q2 Q0 DOC3 2 0.0 example\n",
      "Q2 Q0 DOC1 3 -0.1 example\n"
     ]
    }
   ],
   "source": [
    "import logging\n",
    "import sys\n",
    "import os\n",
    "\n",
    "def write_run(model_name, data, out_f,\n",
    "              max_objects_per_query=sys.maxsize,\n",
    "              skip_sorting=False):\n",
    "    \"\"\"\n",
    "    Write a run to an output file.\n",
    "    Parameters:\n",
    "        - model_name: identifier of run.\n",
    "        - data: dictionary mapping topic_id to object_assesments;\n",
    "            object_assesments is an iterable (list or tuple) of\n",
    "            (relevance, object_id) pairs.\n",
    "            The object_assesments iterable is sorted by decreasing order.\n",
    "        - out_f: output file stream.\n",
    "        - max_objects_per_query: cut-off for number of objects per query.\n",
    "    \"\"\"\n",
    "    for subject_id, object_assesments in data.items():\n",
    "        if not object_assesments:\n",
    "            logging.warning('Received empty ranking for %s; ignoring.',\n",
    "                            subject_id)\n",
    "\n",
    "            continue\n",
    "\n",
    "        # Probe types, to make sure everything goes alright.\n",
    "        # assert isinstance(object_assesments[0][0], float) or \\\n",
    "        #     isinstance(object_assesments[0][0], np.float32)\n",
    "        assert isinstance(object_assesments[0][1], str) or \\\n",
    "            isinstance(object_assesments[0][1], bytes)\n",
    "\n",
    "        if not skip_sorting:\n",
    "            object_assesments = sorted(object_assesments, reverse=True)\n",
    "\n",
    "        if max_objects_per_query < sys.maxsize:\n",
    "            object_assesments = object_assesments[:max_objects_per_query]\n",
    "\n",
    "        if isinstance(subject_id, bytes):\n",
    "            subject_id = subject_id.decode('utf8')\n",
    "\n",
    "        for rank, (relevance, object_id) in enumerate(object_assesments):\n",
    "            if isinstance(object_id, bytes):\n",
    "                object_id = object_id.decode('utf8')\n",
    "\n",
    "            out_f.write(\n",
    "                '{subject} Q0 {object} {rank} {relevance} '\n",
    "                '{model_name}\\n'.format(\n",
    "                    subject=subject_id,\n",
    "                    object=object_id,\n",
    "                    rank=rank + 1,\n",
    "                    relevance=relevance,\n",
    "                    model_name=model_name))\n",
    "            \n",
    "# The following writes the run to standard output.\n",
    "# In your code, you should write the runs to local\n",
    "# storage in order to pass them to trec_eval.\n",
    "write_run(\n",
    "    model_name='example',\n",
    "    data={\n",
    "        'Q1': ((1.0, 'DOC1'), (0.5, 'DOC2'), (0.75, 'DOC3')),\n",
    "        'Q2': ((-0.1, 'DOC1'), (1.25, 'DOC2'), (0.0, 'DOC3')),\n",
    "    },\n",
    "    out_f=sys.stdout,\n",
    "    max_objects_per_query=1000)"
   ]
  },
  {
   "cell_type": "markdown",
   "metadata": {},
   "source": [
    "Now, imagine that we know that `DOC1` is relevant and `DOC3` is non-relevant for `Q1`. In addition, for `Q2` we only know of the relevance of `DOC3`. The query relevance file looks like:\n",
    "\n",
    "    Q1 0 DOC1 1\n",
    "    Q1 0 DOC3 0\n",
    "    Q2 0 DOC3 1\n",
    "    \n",
    "We store the run and qrel in files `example.run` and `example.qrel` respectively on disk. We can now use TREC Eval to compute evaluation measures. In this example, we're only interested in Mean Average Precision and we'll only show this below for brevity. However, TREC Eval outputs much more information such as NDCG, recall, precision, etc.\n",
    "\n",
    "    $ trec_eval -m all_trec -q example.qrel example.run | grep -E \"^map\\s\"\n",
    "    > map                   \tQ1\t1.0000\n",
    "    > map                   \tQ2\t0.5000\n",
    "    > map                   \tall\t0.7500\n",
    "    \n",
    "Now that we've discussed the output format of rankings and how you can compute evaluation measures from these rankings, we'll now proceed with an overview of the indexing framework you'll use."
   ]
  },
  {
   "cell_type": "markdown",
   "metadata": {},
   "source": [
    "### Pyndri primer ###\n",
    "For this assignment you will use [Pyndri](https://github.com/cvangysel/pyndri) [[1](https://arxiv.org/abs/1701.00749)], a python interface for [Indri](https://www.lemurproject.org/indri.php). We have indexed the document collection and you can query the index using Pyndri. We will start by giving you some examples of what Pyndri can do:\n",
    "\n",
    "First we read the document collection index with Pyndri:"
   ]
  },
  {
   "cell_type": "code",
   "execution_count": 29,
   "metadata": {
    "scrolled": true
   },
   "outputs": [],
   "source": [
    "import pyndri\n",
    "\n",
    "index = pyndri.Index('index/')"
   ]
  },
  {
   "cell_type": "markdown",
   "metadata": {},
   "source": [
    "The loaded index can be used to access a collection of documents in an easy manner. We'll give you some examples to get some idea of what it can do, it is up to you to figure out how to use it for the remainder of the assignment.\n",
    "\n",
    "First let's look at the number of documents, since Pyndri indexes the documents using incremental identifiers we can simply take the lowest index and the maximum document and consider the difference:"
   ]
  },
  {
   "cell_type": "code",
   "execution_count": 30,
   "metadata": {},
   "outputs": [
    {
     "name": "stdout",
     "output_type": "stream",
     "text": [
      "There are 164597 documents in this collection.\n"
     ]
    }
   ],
   "source": [
    "print(\"There are %d documents in this collection.\" % (index.maximum_document() - index.document_base()))"
   ]
  },
  {
   "cell_type": "markdown",
   "metadata": {},
   "source": [
    "Let's take the first document out of the collection and take a look at it:"
   ]
  },
  {
   "cell_type": "code",
   "execution_count": 31,
   "metadata": {
    "scrolled": true
   },
   "outputs": [
    {
     "name": "stdout",
     "output_type": "stream",
     "text": [
      "('AP890425-0001', (1360, 192, 363, 0, 880, 0, 200, 0, 894, 412, 92160, 3, 192, 0, 363, 34, 1441, 0, 174134, 0, 200, 0, 894, 412, 2652, 0, 810, 107, 49, 4903, 420, 0, 1, 48, 35, 489, 0, 35, 687, 192, 243, 0, 249311, 1877, 0, 1651, 1174, 0, 2701, 117, 412, 0, 810, 391, 245233, 1225, 5838, 16, 0, 233156, 3496, 0, 393, 17, 0, 2435, 4819, 930, 0, 0, 200, 0, 894, 0, 22, 398, 145, 0, 3, 271, 115, 0, 1176, 2777, 292, 0, 725, 192, 0, 0, 50046, 0, 1901, 1130, 0, 192, 0, 408, 0, 243779, 0, 0, 553, 192, 0, 363, 0, 3747, 0, 0, 0, 0, 1176, 0, 1239, 0, 0, 1115, 17, 0, 0, 585, 192, 1963, 0, 0, 412, 54356, 0, 773, 0, 0, 0, 192, 0, 0, 1130, 0, 363, 0, 545, 192, 0, 1174, 1901, 1130, 0, 4, 398, 145, 39, 0, 577, 0, 355, 0, 491, 0, 6025, 0, 0, 193156, 88, 34, 437, 0, 0, 1852, 0, 828, 0, 1588, 0, 0, 0, 2615, 0, 0, 107, 49, 420, 0, 0, 190, 7, 714, 2701, 0, 237, 192, 157, 0, 412, 34, 437, 0, 0, 200, 6025, 26, 0, 0, 0, 0, 363, 0, 22, 398, 145, 0, 200, 638, 126222, 6018, 0, 880, 0, 0, 161, 0, 0, 319, 894, 2701, 0, 0, 0, 301, 1200, 0, 363, 251, 430, 0, 207, 0, 76143, 1773, 0, 243779, 0, 0, 72030, 0, 55, 4903, 420, 0, 2701, 1496, 420, 0, 25480, 0, 420, 0, 0, 200, 0, 392, 2949, 0, 1738, 0, 61, 0, 71, 79, 0, 200, 903, 0, 188, 53, 6, 0, 476, 2, 0, 2028, 97, 334, 0, 0, 200, 178, 0, 0, 107, 49, 0, 214, 0, 0, 0, 114, 3866, 1505, 195, 79893, 574, 0, 198, 2160, 0, 192, 0, 420, 0, 384, 0, 2701, 0, 114, 6025, 1549, 74627, 0, 238, 0, 0, 0, 3729, 0, 192, 0, 79893, 0, 0, 729, 3141, 129, 0, 192, 196764, 39, 0, 0, 714, 63, 0, 55, 420, 3356, 0, 0, 117, 412, 0, 0, 79758, 0, 1901, 1130, 4067, 2133, 0, 0, 875, 72, 0, 0, 336, 2789, 0, 0, 25, 920, 121, 104, 0, 3162, 0, 0, 420, 0, 2178, 0, 0, 386, 192545, 159306, 0, 0, 0, 1914, 0, 200, 0, 1794, 0, 2654, 0, 0, 25480, 420, 0, 2795, 0, 0, 229690, 0, 32559, 0, 0, 392, 253919, 0, 0, 0, 0, 379, 0, 0, 114, 0, 553, 10, 0, 1128, 0, 23610, 248, 151, 0, 418, 0, 651, 0, 36, 0, 0, 645, 0, 0, 513, 0, 0, 25480, 420, 34, 0, 0, 0, 15, 0, 3348, 0, 3496, 0, 35, 687, 0, 1, 48, 0, 0, 2803, 0, 0, 714, 1274, 0, 114, 62, 1006, 70268, 1200, 2357, 0, 497, 0, 497, 125, 0, 913, 4647, 3985, 0, 0, 3370, 245233, 0, 0, 687, 0, 4, 1288, 0, 0, 0, 0, 715, 0, 0, 687, 583, 0, 0, 1627, 0, 0, 11, 357, 1359, 0, 849, 0, 0, 1518, 462, 245233, 0, 0, 0, 0, 0, 0, 171, 70268, 0))\n"
     ]
    }
   ],
   "source": [
    "example_document = index.document(index.document_base())\n",
    "print(example_document)"
   ]
  },
  {
   "cell_type": "markdown",
   "metadata": {},
   "source": [
    "Here we see a document consists of two things, a string representing the external document identifier and an integer list representing the identifiers of words that make up the document. Pyndri uses integer representations for words or terms, thus a token_id is an integer that represents a word whereas the token is the actual text of the word/term. Every id has a unique token and vice versa with the exception of stop words: words so common that there are uninformative, all of these receive the zero id.\n",
    "\n",
    "To see what some ids and their matching tokens we take a look at the dictionary of the index:"
   ]
  },
  {
   "cell_type": "code",
   "execution_count": 32,
   "metadata": {},
   "outputs": [
    {
     "name": "stdout",
     "output_type": "stream",
     "text": [
      "[(1, 'new'), (2, 'percent'), (3, 'two'), (4, '1'), (5, 'people'), (6, 'million'), (7, '000'), (8, 'government'), (9, 'president'), (10, 'years'), (11, 'state'), (12, '2'), (13, 'states'), (14, 'three'), (15, 'time')]\n"
     ]
    }
   ],
   "source": [
    "token2id, id2token, _ = index.get_dictionary()\n",
    "print(list(id2token.items())[:15])"
   ]
  },
  {
   "cell_type": "markdown",
   "metadata": {},
   "source": [
    "Using this dictionary we can see the tokens for the (non-stop) words in our example document:"
   ]
  },
  {
   "cell_type": "code",
   "execution_count": 33,
   "metadata": {},
   "outputs": [
    {
     "name": "stdout",
     "output_type": "stream",
     "text": [
      "['52', 'students', 'arrested', 'takeover', 'university', 'massachusetts', 'building', 'fifty', 'two', 'students', 'arrested', 'tuesday', 'evening', 'occupying', 'university', 'massachusetts', 'building', 'overnight', 'protest', 'defense', 'department', 'funded', 'research', 'new', 'york', 'city', 'thousands', 'city', 'college', 'students', 'got', 'unscheduled', 'holiday', 'demonstrators', 'occupied', 'campus', 'administration', 'building', 'protest', 'possible', 'tuition', 'increases', 'prompting', 'officials', 'suspend', 'classes', '60', 'police', 'riot', 'gear', 'arrived', 'university', 'massachusetts', '5', 'p', 'm', 'two', 'hours', 'later', 'bus', 'drove', 'away', '29', 'students', 'camped', 'memorial', 'hall', 'students', 'charged', 'trespassing', '23', 'students', 'arrested', 'lying', 'bus', 'prevent', 'leaving', 'police', '300', 'students', 'stood', 'building', 'chanting', 'looking', 'students', 'hall', 'arrested', '35', 'students', 'occupied', 'memorial', 'hall', '1', 'p', 'm', 'monday', 'declined', 'offer', 'meet', 'administrators', 'provosts', 'office', 'tuesday', 'morning', 'presented', 'list', 'demands', 'halt', 'defense', 'department', 'research', '25', '000', 'student', 'campus', '40', 'students', 'left', 'building', 'tuesday', 'morning', 'university', 'administrators', 'told', 'arrested', '5', 'p', 'm', 'university', 'spokeswoman', 'jeanne', 'hopkins', 'takeover', 'second', 'western', 'massachusetts', 'campus', 'seven', 'protesters', 'arrested', 'april', '19', 'charges', 'disorderly', 'conduct', 'trespassing', 'demonstrating', 'military', 'funded', 'research', 'campus', 'particularly', 'research', 'anthrax', 'research', 'university', 'non', 'classified', 'researchers', 'make', 'work', 'public', 'university', 'rules', '11', '6', 'million', '22', 'percent', 'grant', 'money', 'received', 'university', 'came', 'defense', 'department', '1988', 'school', 'chancellor', 'joseph', 'd', 'duffey', 'issued', 'statement', 'telling', 'students', 'research', 'continue', 'campus', 'school', 'administrators', 'decide', 'differently', 'policy', 'negotiated', 'students', 'duffey', 'latest', 'occupation', 'began', 'students', 'rallying', 'monday', 'student', 'union', 'military', 'research', 'marched', 'administration', 'building', 'ducked', 'memorial', 'hall', 'en', 'route', 'followed', 'members', 'local', 'chapter', 'american', 'friends', 'service', 'committee', 'contended', 'research', 'dangerous', 'town', 'promotes', 'militarism', 'banned', 'university', 'argued', 'purpose', 'anthrax', 'research', 'peaceful', 'strain', 'bacteria', 'non', 'virulent', 'study', 'school', '23', 'years', 'incident', 'amherst', 'health', 'board', 'scheduled', 'hearing', 'wednesday', 'question', 'safety', 'anthrax', 'research', 'tuesday', 'time', '1969', 'classes', 'city', 'college', 'new', 'york', 'canceled', 'student', 'protests', 'school', 'spokesman', 'charles', 'deciccio', 'protesters', 'demanding', 'face', 'face', 'meeting', 'gov', 'mario', 'cuomo', 'feared', 'tuition', 'college', '1', '250', 'increased', 'college', 'staff', 'reduced', 'state', 'budget', 'cuts', 'governor', 'immediate', 'comment', 'tuition', 'set', 'deciccio']\n"
     ]
    }
   ],
   "source": [
    "print([id2token[word_id] for word_id in example_document[1] if word_id > 0])"
   ]
  },
  {
   "cell_type": "markdown",
   "metadata": {},
   "source": [
    "The reverse can also be done, say we want to look for news about the \"University of Massachusetts\", the tokens of that query can be converted to ids using the reverse dictionary:"
   ]
  },
  {
   "cell_type": "code",
   "execution_count": 34,
   "metadata": {},
   "outputs": [
    {
     "name": "stdout",
     "output_type": "stream",
     "text": [
      "Query by tokens: ['university', '', 'massachusetts']\n",
      "Query by ids with stopwords: [200, 0, 894]\n",
      "Query by ids without stopwords: [200, 894]\n"
     ]
    }
   ],
   "source": [
    "query_tokens = index.tokenize(\"University of Massachusetts\")\n",
    "print(\"Query by tokens:\", query_tokens)\n",
    "query_id_tokens = [token2id.get(query_token,0) for query_token in query_tokens]\n",
    "print(\"Query by ids with stopwords:\", query_id_tokens)\n",
    "query_id_tokens = [word_id for word_id in query_id_tokens if word_id > 0]\n",
    "print(\"Query by ids without stopwords:\", query_id_tokens)"
   ]
  },
  {
   "cell_type": "markdown",
   "metadata": {},
   "source": [
    "Naturally we can now match the document and query in the id space, let's see how often a word from the query occurs in our example document:"
   ]
  },
  {
   "cell_type": "code",
   "execution_count": 35,
   "metadata": {},
   "outputs": [
    {
     "name": "stdout",
     "output_type": "stream",
     "text": [
      "Document AP890425-0001 has 13 word matches with query: \"university  massachusetts\".\n",
      "Document AP890425-0001 and query \"university  massachusetts\" have a 2.5% overlap.\n"
     ]
    }
   ],
   "source": [
    "matching_words = sum([True for word_id in example_document[1] if word_id in query_id_tokens])\n",
    "print(\"Document %s has %d word matches with query: \\\"%s\\\".\" % (example_document[0], matching_words, ' '.join(query_tokens)))\n",
    "print(\"Document %s and query \\\"%s\\\" have a %.01f%% overlap.\" % (example_document[0], ' '.join(query_tokens),matching_words/float(len(example_document[1]))*100))"
   ]
  },
  {
   "cell_type": "markdown",
   "metadata": {},
   "source": [
    "While this is certainly not everything Pyndri can do, it should give you an idea of how to use it. Please take a look at the [examples](https://github.com/cvangysel/pyndri) as it will help you a lot with this assignment.\n",
    "\n",
    "**CAUTION**: Avoid printing out the whole index in this Notebook as it will generate a lot of output and is likely to corrupt the Notebook."
   ]
  },
  {
   "cell_type": "markdown",
   "metadata": {},
   "source": [
    "### Parsing the query file\n",
    "You can parse the query file (`ap_88_89/topics_title`) using the following snippet:"
   ]
  },
  {
   "cell_type": "code",
   "execution_count": 36,
   "metadata": {},
   "outputs": [
    {
     "name": "stdout",
     "output_type": "stream",
     "text": [
      "OrderedDict([('51', 'Airbus Subsidies'), ('52', 'South African Sanctions'), ('53', 'Leveraged Buyouts'), ('54', 'Satellite Launch Contracts'), ('55', 'Insider Trading'), ('56', 'Prime (Lending) Rate Moves, Predictions'), ('57', 'MCI'), ('58', 'Rail Strikes'), ('59', 'Weather Related Fatalities'), ('60', 'Merit-Pay vs. Seniority'), ('61', 'Israeli Role in Iran-Contra Affair'), ('62', \"Military Coups D'etat\"), ('63', 'Machine Translation'), ('64', 'Hostage-Taking'), ('65', 'Information Retrieval Systems'), ('66', 'Natural Language Processing'), ('67', 'Politically Motivated Civil Disturbances'), ('68', 'Health Hazards from Fine-Diameter Fibers'), ('69', 'Attempts to Revive the SALT II Treaty'), ('70', 'Surrogate Motherhood'), ('71', 'Border Incursions'), ('72', 'Demographic Shifts in the U.S.'), ('73', 'Demographic Shifts across National Boundaries'), ('74', 'Conflicting Policy'), ('75', 'Automation'), ('76', 'U.S. Constitution - Original Intent'), ('77', 'Poaching'), ('78', 'Greenpeace'), ('79', 'FRG Political Party Positions'), ('80', '1988 Presidential Candidates Platforms'), ('81', 'Financial crunch for televangelists in the wake of the PTL scandal'), ('82', 'Genetic Engineering'), ('83', 'Measures to Protect the Atmosphere'), ('84', 'Alternative/renewable Energy Plant & Equipment Installation'), ('85', 'Official Corruption'), ('86', 'Bank Failures'), ('87', 'Criminal Actions Against Officers of Failed Financial Institutions'), ('88', 'Crude Oil Price Trends'), ('89', '\"Downstream\" Investments by OPEC Member States'), ('90', 'Data on Proven Reserves of Oil & Natural Gas Producers'), ('91', 'U.S. Army Acquisition of Advanced Weapons Systems'), ('92', 'International Military Equipment Sales'), ('93', 'What Backing Does the National Rifle Association Have?'), ('94', 'Computer-aided Crime'), ('95', 'Computer-aided Crime Detection'), ('96', 'Computer-Aided Medical Diagnosis'), ('97', 'Fiber Optics Applications'), ('98', 'Fiber Optics Equipment Manufacturers'), ('99', 'Iran-Contra Affair'), ('100', 'Controlling the Transfer of High Technology'), ('101', 'Design of the \"Star Wars\" Anti-missile Defense System'), ('102', \"Laser Research Applicable to the U.S.'s Strategic Defense Initiative\"), ('103', 'Welfare Reform'), ('104', 'Catastrophic Health Insurance'), ('105', '\"Black Monday\"'), ('106', 'U.S. Control of Insider Trading'), ('107', 'Japanese Regulation of Insider Trading'), ('108', 'Japanese Protectionist Measures'), ('109', 'Find Innovative Companies'), ('110', 'Black Resistance Against the South African Government'), ('111', 'Nuclear Proliferation'), ('112', 'Funding Biotechnology'), ('113', 'New Space Satellite Applications'), ('114', 'Non-commercial Satellite Launches'), ('115', 'Impact of the 1986 Immigration Law'), ('116', 'Generic Drug Substitutions'), ('117', 'Capacity of the U.S. Cellular Telephone Network'), ('118', 'International Terrorists'), ('119', 'Actions Against International Terrorists'), ('120', 'Economic Impact of International Terrorism'), ('121', 'Death from Cancer'), ('122', 'RDT&E of New Cancer Fighting Drugs'), ('123', 'Research into & Control of Carcinogens'), ('124', 'Alternatives to Traditional Cancer Therapies'), ('125', 'Anti-smoking Actions by Government'), ('126', 'Medical Ethics and Modern Technology'), ('127', 'U.S.-U.S.S.R. Arms Control Agreements'), ('128', 'Privatization of State Assets'), ('129', 'Soviet Spying on the U.S.'), ('130', 'Jewish Emigration and U.S.-USSR Relations'), ('131', 'McDonnell Douglas Contracts for Military Aircraft'), ('132', '\"Stealth\" Aircraft'), ('133', 'Hubble Space Telescope'), ('134', 'The Human Genome Project'), ('135', 'Possible Contributions of Gene Mapping to Medicine'), ('136', 'Diversification by Pacific Telesis'), ('137', 'Expansion in the U.S. Theme Park Industry'), ('138', 'Iranian Support for Lebanese Hostage-takers'), ('139', \"Iran's Islamic Revolution - Domestic and Foreign Social Consequences\"), ('140', 'Political Impact of Islamic Fundamentalism'), ('141', \"Japan's Handling of its Trade Surplus with the U.S.\"), ('142', 'Impact of Government Regulated Grain Farming on International Relations'), ('143', 'Why Protect U.S. Farmers?'), ('144', 'Management Problems at the United Nations'), ('145', 'Influence of the \"Pro-Israel Lobby\"'), ('146', 'Negotiating an End to the Nicaraguan Civil War'), ('147', 'Productivity Trends in the U.S. Economy'), ('148', 'Conflict in the Horn of Africa'), ('149', 'Industrial Espionage'), ('150', 'U.S. Political Campaign Financing'), ('151', 'Coping with overcrowded prisons'), ('152', 'Accusations of Cheating by Contractors on U.S. Defense Projects'), ('153', 'Insurance Coverage which pays for Long Term Care'), ('154', 'Oil Spills'), ('155', 'Right Wing Christian Fundamentalism in U.S.'), ('156', 'Efforts to enact Gun Control Legislation'), ('157', 'Causes and treatments of multiple sclerosis (MS)'), ('158', 'Term limitations for members of the U.S. Congress'), ('159', 'Electric Car Development'), ('160', 'Vitamins - The Cure for or Cause of Human Ailments'), ('161', 'Acid Rain'), ('162', 'Automobile Recalls'), ('163', 'Vietnam Veterans and Agent Orange'), ('164', 'Generic Drugs - Illegal Activities by Manufacturers'), ('165', 'Tobacco company advertising and the young'), ('166', 'Standardized testing and cultural bias'), ('167', 'Regulation of the showing of violence and explicit sex in motion picture theaters, on television, and on video cassettes.'), ('168', 'Financing AMTRAK'), ('169', 'Cost of Garbage/Trash Removal'), ('170', 'The Consequences of Implantation of Silicone Gel Breast Devices'), ('171', \"Use of Mutual Funds in an Individual's Retirement Strategy\"), ('172', 'The Effectiveness of Medical Products and Related Programs Utilized in the Cessation of Smoking.'), ('173', 'Smoking Bans'), ('174', 'Hazardous Waste Cleanup'), ('175', 'NRA Prevention of Gun Control Legislation'), ('176', 'Real-life private investigators'), ('177', 'English as the Official Language in U.S.'), ('178', 'Dog Maulings'), ('179', 'U. S. Restaurants in Foreign Lands'), ('180', 'Ineffectiveness of U.S. Embargoes/Sanctions'), ('181', 'Abuse of the Elderly by Family Members, and Medical and Nonmedical Personnel, and Initiatives Being Taken to Minimize This Mistreatment'), ('182', 'Commercial Overfishing Creates Food Fish Deficit'), ('183', 'Asbestos Related Lawsuits'), ('184', 'Corporate Pension Plans/Funds'), ('185', 'Reform of the U.S. Welfare System'), ('186', 'Difference of Learning Levels Among Inner City and More Suburban School Students'), ('187', 'Signs of the Demise of Independent Publishing'), ('188', 'Beachfront Erosion'), ('189', 'Real Motives for Murder'), ('190', 'Instances of Fraud Involving the Use of a Computer'), ('191', 'Efforts to Improve U.S. Schooling'), ('192', 'Oil Spill Cleanup'), ('193', 'Toys R Dangerous'), ('194', 'The Amount of Money Earned by Writers'), ('195', 'Stock Market Perturbations Attributable to Computer Initiated Trading'), ('196', 'School Choice Voucher System and its effects upon the entire U.S. educational program'), ('197', 'Reform of the jurisprudence system to stop juries from granting unreasonable monetary awards'), ('198', 'Gene Therapy and Its Benefits to Humankind'), ('199', 'Legality of Medically Assisted Suicides'), ('200', 'Impact of foreign textile imports on U.S. textile industry')])\n"
     ]
    }
   ],
   "source": [
    "import collections\n",
    "import io\n",
    "import logging\n",
    "import sys\n",
    "import time\n",
    "\n",
    "def parse_topics(file_or_files,\n",
    "                 max_topics=sys.maxsize, delimiter=';'):\n",
    "    assert max_topics >= 0 or max_topics is None\n",
    "\n",
    "    topics = collections.OrderedDict()\n",
    "\n",
    "    if not isinstance(file_or_files, list) and \\\n",
    "            not isinstance(file_or_files, tuple):\n",
    "        if hasattr(file_or_files, '__iter__'):\n",
    "            file_or_files = list(file_or_files)\n",
    "        else:\n",
    "            file_or_files = [file_or_files]\n",
    "\n",
    "    for f in file_or_files:\n",
    "        assert isinstance(f, io.IOBase)\n",
    "\n",
    "        for line in f:\n",
    "            assert(isinstance(line, str))\n",
    "\n",
    "            line = line.strip()\n",
    "\n",
    "            if not line:\n",
    "                continue\n",
    "\n",
    "            topic_id, terms = line.split(delimiter, 1)\n",
    "\n",
    "            if topic_id in topics and (topics[topic_id] != terms):\n",
    "                    logging.error('Duplicate topic \"%s\" (%s vs. %s).',\n",
    "                                  topic_id,\n",
    "                                  topics[topic_id],\n",
    "                                  terms)\n",
    "\n",
    "            topics[topic_id] = terms\n",
    "\n",
    "            if max_topics > 0 and len(topics) >= max_topics:\n",
    "                break\n",
    "\n",
    "    return topics\n",
    "\n",
    "with open('./ap_88_89/topics_title', 'r') as f_topics:\n",
    "    print(parse_topics([f_topics]))"
   ]
  },
  {
   "cell_type": "markdown",
   "metadata": {},
   "source": [
    "### Task 1: Implement and compare lexical IR methods [35 points] ### \n",
    "\n",
    "In this task you will implement a number of lexical methods for IR using the **Pyndri** framework. Then you will evaluate these methods on the dataset we have provided using **TREC Eval**.\n",
    "\n",
    "Use the **Pyndri** framework to get statistics of the documents (term frequency, document frequency, collection frequency; **you are not allowed to use the query functionality of Pyndri**) and implement the following scoring methods in **Python**:\n",
    "\n",
    "- [TF-IDF](http://nlp.stanford.edu/IR-book/html/htmledition/tf-idf-weighting-1.html) and \n",
    "- [BM25](http://nlp.stanford.edu/IR-book/html/htmledition/okapi-bm25-a-non-binary-model-1.html) with k1=1.2 and b=0.75. **[5 points]**\n",
    "- Language models ([survey](https://drive.google.com/file/d/0B-zklbckv9CHc0c3b245UW90NE0/view))\n",
    "    - Jelinek-Mercer (explore different values of 𝛌 in the range [0.1, 0.5, 0.9]). **[5 points]**\n",
    "    - Dirichlet Prior (explore different values of 𝛍 [500, 1000, 1500]). **[5 points]**\n",
    "    - Absolute discounting (explore different values of 𝛅 in the range [0.1, 0.5, 0.9]). **[5 points]**\n",
    "    - [Positional Language Models](http://sifaka.cs.uiuc.edu/~ylv2/pub/sigir09-plm.pdf) define a language model for each position of a document, and score a document based on the scores of its PLMs. The PLM is estimated based on propagated counts of words within a document through a proximity-based density function, which both captures proximity heuristics and achieves an effect of “soft” passage retrieval. Implement the PLM, all five kernels, but only the Best position strategy to score documents. Use 𝛔 equal to 50, and Dirichlet smoothing with 𝛍 optimized on the validation set (decide how to optimize this value yourself and motivate your decision in the report). **[10 points]**\n",
    "    \n",
    "Implement the above methods and report evaluation measures (on the test set) using the hyper parameter values you optimized on the validation set (also report the values of the hyper parameters). Use TREC Eval to obtain the results and report on `NDCG@10`, Mean Average Precision (`MAP@1000`), `Precision@5` and `Recall@1000`.\n",
    "\n",
    "For the language models, create plots showing `NDCG@10` with varying values of the parameters. You can do this by chaining small scripts using shell scripting (preferred) or execute trec_eval using Python's `subprocess`.\n",
    "\n",
    "Compute significance of the results using a [two-tailed paired Student t-test](https://docs.scipy.org/doc/scipy/reference/generated/scipy.stats.ttest_rel.html) **[5 points]**. Be wary of false rejection of the null hypothesis caused by the [multiple comparisons problem](https://en.wikipedia.org/wiki/Multiple_comparisons_problem). There are multiple ways to mitigate this problem and it is up to you to choose one.\n",
    "\n",
    "Analyse the results by identifying specific queries where different methods succeed or fail and discuss possible reasons that cause these differences. This is *very important* in order to understand who the different retrieval functions behave.\n",
    "\n",
    "**NOTE**: Don’t forget to use log computations in your calculations to avoid underflows. "
   ]
  },
  {
   "cell_type": "markdown",
   "metadata": {},
   "source": [
    "**IMPORTANT**: You should structure your code around the helper functions we provide below."
   ]
  },
  {
   "cell_type": "code",
   "execution_count": 165,
   "metadata": {},
   "outputs": [
    {
     "name": "stdout",
     "output_type": "stream",
     "text": [
      "Gathering statistics about 456 terms.\n"
     ]
    }
   ],
   "source": [
    "with open('./ap_88_89/topics_title', 'r') as f_topics:\n",
    "    queries = parse_topics([f_topics])\n",
    "\n",
    "index = pyndri.Index('index/')\n",
    "\n",
    "num_documents = index.maximum_document() - index.document_base()\n",
    "\n",
    "dictionary = pyndri.extract_dictionary(index)\n",
    "\n",
    "tokenized_queries = {\n",
    "    query_id: [dictionary.translate_token(token)\n",
    "               for token in index.tokenize(query_string)\n",
    "               if dictionary.has_token(token)]\n",
    "    for query_id, query_string in queries.items()}\n",
    "\n",
    "query_term_ids = set(\n",
    "    query_term_id\n",
    "    for query_term_ids in tokenized_queries.values()\n",
    "    for query_term_id in query_term_ids)\n",
    "\n",
    "print('Gathering statistics about', len(query_term_ids), 'terms.')\n",
    "\n",
    "# inverted index creation.\n",
    "\n",
    "document_lengths = {}\n",
    "unique_terms_per_document = {}\n",
    "\n",
    "inverted_index = collections.defaultdict(dict)\n",
    "collection_frequencies = collections.defaultdict(int)\n",
    "total_terms = 0\n",
    "document_freqs = {}\n",
    "\n",
    "for int_doc_id in range(index.document_base(), index.maximum_document()):\n",
    "    ext_doc_id, doc_token_ids = index.document(int_doc_id)\n",
    "\n",
    "    document_bow = collections.Counter(\n",
    "        token_id for token_id in doc_token_ids\n",
    "        if token_id > 0)\n",
    "    \n",
    "    document_length = sum(document_bow.values())\n",
    "\n",
    "    document_lengths[int_doc_id] = document_length\n",
    "    total_terms += document_length\n",
    "\n",
    "    unique_terms_per_document[int_doc_id] = len(document_bow)\n",
    "\n",
    "    for query_term_id in query_term_ids:\n",
    "        assert query_term_id is not None\n",
    "\n",
    "        document_term_frequency = document_bow.get(query_term_id, 0)\n",
    "\n",
    "        if document_term_frequency == 0:\n",
    "            continue\n",
    "\n",
    "        collection_frequencies[query_term_id] += document_term_frequency\n",
    "        inverted_index[query_term_id][int_doc_id] = document_term_frequency\n",
    "\n",
    "avg_doc_length = total_terms / num_documents\n",
    "\n",
    "# print('Inverted index creation took', time.time() - start_time, 'seconds.')"
   ]
  },
  {
   "cell_type": "code",
   "execution_count": 192,
   "metadata": {},
   "outputs": [
    {
     "name": "stdout",
     "output_type": "stream",
     "text": [
      "150\n",
      "164597\n",
      "Retrieving using DP\n"
     ]
    }
   ],
   "source": [
    "def run_retrieval(model_name, score_fn, params):\n",
    "    \"\"\"\n",
    "    Runs a retrieval method for all the queries and writes the TREC-friendly results in a file.\n",
    "    \n",
    "    :param model_name: the name of the model (a string)\n",
    "    :param score_fn: the scoring function (a function - see below for an example) \n",
    "    :param params: params needed for chosen model\n",
    "    \"\"\"\n",
    "    if model_name == 'JM' or model_name == 'DP' or model_name == 'AD':\n",
    "        params_string = '-'.join(map(str, params))\n",
    "        run_out_path = '{0}-{1}.run'.format(model_name, params_string)\n",
    "    else:\n",
    "        run_out_path = '{}.run'.format(model_name)    \n",
    "        \n",
    "    # Don't run twice\n",
    "    if os.path.exists(run_out_path):\n",
    "        return\n",
    "\n",
    "    retrieval_start_time = time.time()\n",
    "\n",
    "    print('Retrieving using', model_name)\n",
    "    \n",
    "    data = {}\n",
    "    for query_id in queries:\n",
    "        doc_ids = top1000_query_docs[query_id]\n",
    "        \n",
    "        scores = []\n",
    "        for doc_id in doc_ids:\n",
    "            ext_doc_id, _ = index.document(doc_id)\n",
    "            score = 0\n",
    "            if model_name == 'tfidf':\n",
    "                for query_token in tokenized_queries[query_id]:\n",
    "                    score += score_fn(doc_id, query_token, inverted_index, num_documents)\n",
    "            elif model_name == 'BM25':\n",
    "                k1 = params[0]\n",
    "                b = params[1]\n",
    "                score = score_fn(doc_id, tokenized_queries[query_id], inverted_index, document_lengths, k1, b)\n",
    "            elif model_name == 'JM' or model_name == 'DP' or model_name == 'AD':\n",
    "                param = params[0]  \n",
    "                query_tokens = tokenized_queries[query_id]\n",
    "                lm = score_fn(doc_id, query_tokens, inverted_index, collection_frequencies, unique_terms_per_document, model_name, param)\n",
    "                # Calculate P(q|d)\n",
    "                P_q_d = 1\n",
    "                for query_token in query_tokens:\n",
    "                    P_q_d *= lm[query_token]\n",
    "                score = P_q_d\n",
    "            elif model_name == 'PLM':\n",
    "                sigma = params[0]\n",
    "                mu = params[1]\n",
    "                query_tokens = tokenized_queries[query_id]\n",
    "                score = score_fn(doc_id, query_tokens, inverted_index, collection_frequencies, index, sigma, mu)\n",
    "            scores.append((score, ext_doc_id))\n",
    "        data[query_id] = scores\n",
    "    \n",
    "    # The dictionary data should have the form: query_id --> (document_score, external_doc_id)\n",
    "    \n",
    "    with open(run_out_path, 'w') as f_out:\n",
    "        write_run(\n",
    "            model_name=model_name,\n",
    "            data=data,\n",
    "            out_f=f_out,\n",
    "            max_objects_per_query=1000)\n",
    "        \n",
    "# Any parameters needed for the corresponding score function in the order in which the function takes them as argument\n",
    "print(len(queries))\n",
    "plm_params = [50, 500]\n",
    "bm25_params = [1.2, 0.75]\n",
    "jm_params = [0.5]\n",
    "ad_params = [0.9]\n",
    "dp_params = [1500]\n",
    "print(len(document_lengths))\n",
    "run_retrieval('DP', makeLM, dp_params)\n"
   ]
  },
  {
   "cell_type": "code",
   "execution_count": null,
   "metadata": {},
   "outputs": [],
   "source": [
    "ext_to_doc_id = {}\n",
    "# Dictionary for the external doc id to integer doc id\n",
    "for i in range(1,num_documents+1):\n",
    "    ext_to_doc_id[index.document(i)[0]] = i\n",
    "    \n",
    "# Returns the top 1000 of the tfidf scores of a query id\n",
    "def run_retrieval_top1000(query_id, ext_to_doc_id):\n",
    "    with open('tfidf.run', 'r') as f_out:\n",
    "        scores = f_out.readlines() \n",
    "    for i in range(0, len(scores), 1000):\n",
    "        score = scores[i].split()\n",
    "        if score[0] == query_id:\n",
    "            index_query = i\n",
    "            break\n",
    "    top1000_doc_ids = []\n",
    "    for i in range(index_query, index_query+1000):\n",
    "        ext_doc_id = scores[i].split()[2]\n",
    "        top1000_doc_ids.append(ext_to_doc_id[ext_doc_id])\n",
    "    return top1000_doc_ids\n",
    "top1000_doc_ids = run_retrieval_top1000('51', ext_to_doc_id)\n"
   ]
  },
  {
   "cell_type": "code",
   "execution_count": 178,
   "metadata": {},
   "outputs": [],
   "source": [
    "# Dictionary for the top 1000 doc ids with highest tfidf scores per query {query_id : [Top1000]}\n",
    "top1000_query_docs = {}\n",
    "for query_id in queries:\n",
    "    top1000_query_docs[query_id] = run_retrieval_top1000(query_id, ext_to_doc_id)"
   ]
  },
  {
   "cell_type": "code",
   "execution_count": 38,
   "metadata": {
    "scrolled": true
   },
   "outputs": [
    {
     "name": "stdout",
     "output_type": "stream",
     "text": [
      "Test results AD:\n",
      "('all', '0.1834')\n",
      "('all', '0.4581')\n",
      "('all', '0.5500')\n",
      "('all', '0.6491')\n",
      "\n",
      "Test results JM:\n",
      "('all', '0.1736')\n",
      "('all', '0.4488')\n",
      "('all', '0.5169')\n",
      "('all', '0.6491')\n",
      "\n",
      "Test results DP:\n",
      "('all', '0.1882')\n",
      "('all', '0.4597')\n",
      "('all', '0.5466')\n",
      "('all', '0.6491')\n",
      "\n",
      "Test results BM25:\n",
      "('all', '0.2015')\n",
      "('all', '0.4750')\n",
      "('all', '0.5552')\n",
      "('all', '0.6491')\n",
      "\n",
      "Test results tfidf:\n",
      "('all', '0.2200')\n",
      "('all', '0.4920')\n",
      "('all', '0.5641')\n",
      "('all', '0.6491')\n",
      "\n"
     ]
    }
   ],
   "source": [
    "import numpy as np\n",
    "\n",
    "# Evaluate the Language models with the use of the TREC evaluations methods\n",
    "def evaluate(run_file, qrel_file):\n",
    "    qrel_location = \"ap_88_89/\" + qrel_file\n",
    "    \n",
    "    map_1000 = !trec_eval/trec_eval -m all_trec -q {qrel_location} {run_file} | grep \"map_cut_1000\"  \n",
    "    ndcg_10 = !trec_eval/trec_eval -m all_trec -q {qrel_location} {run_file} | grep \"ndcg_cut_10\"\n",
    "    precision_5 = !trec_eval/trec_eval -m all_trec -q {qrel_location} {run_file} | grep \"P_5\"  \n",
    "    recall_1000 = !trec_eval/trec_eval -m all_trec -q {qrel_location} {run_file} | grep \"recall_1000\"  \n",
    "    # Retrieve id and score from trec_eval output\n",
    "    map_1000 = [(score.split()[1], score.split()[2]) for score in np.array(map_1000)]\n",
    "    ndcg_10 = [(score.split()[1], score.split()[2]) for score in np.array(ndcg_10)]\n",
    "    precision_5 = [(score.split()[1], score.split()[2]) for score in np.array(precision_5)]\n",
    "    recall_1000 = [(score.split()[1], score.split()[2]) for score in np.array(recall_1000)]\n",
    "\n",
    "    return map_1000, ndcg_10, precision_5, recall_1000\n",
    "\n",
    "# Compute all values for all different parameter values and different smoothing techniques\n",
    "map_1000_AD_1, ndcg_10_AD_1, precision_5_AD_1, recall_1000_AD_1 = evaluate('AD-0.1.run', 'qrel_validation')\n",
    "map_1000_AD_5, ndcg_10_AD_5, precision_5_AD_5, recall_1000_AD_5 = evaluate('AD-0.5.run', 'qrel_validation')\n",
    "map_1000_AD_9, ndcg_10_AD_9, precision_5_AD_9, recall_1000_AD_9 = evaluate('AD-0.9.run', 'qrel_validation')\n",
    "\n",
    "map_1000_JM_1, ndcg_10_JM_1, precision_5_JM_1, recall_1000_JM_1 = evaluate('JM-0.1.run', 'qrel_validation')\n",
    "map_1000_JM_5, ndcg_10_JM_5, precision_5_JM_5, recall_1000_JM_5 = evaluate('JM-0.5.run', 'qrel_validation')\n",
    "map_1000_JM_9, ndcg_10_JM_9, precision_5_JM_9, recall_1000_JM_9 = evaluate('JM-0.9.run', 'qrel_validation')\n",
    "\n",
    "map_1000_DP_500, ndcg_10_DP_500, precision_5_DP_500, recall_1000_DP_500 = evaluate('DP-500.run', 'qrel_validation')\n",
    "map_1000_DP_1000, ndcg_10_DP_1000, precision_5_DP_1000, recall_1000_DP_1000 = evaluate('DP-1000.run', 'qrel_validation')\n",
    "map_1000_DP_1500, ndcg_10_DP_1500, precision_5_DP_1500, recall_1000_DP_1500 = evaluate('DP-1500.run', 'qrel_validation')\n",
    "\n",
    "map_1000_tfidf, ndcg_10_tfidf, precision_5_tfidf, recall_1000_tfidf = evaluate('tfidf.run', 'qrel_validation')\n",
    "\n",
    "map_1000_BM25, ndcg_10_BM25, precision_5_BM25, recall_1000_BM25 = evaluate('BM25.run', 'qrel_validation')\n",
    "\n",
    "map_1000_AD_5_test, ndcg_10_AD_5_test, precision_5_AD_5_test, recall_1000_AD_5_test = evaluate('AD-0.5.run', 'qrel_test')\n",
    "map_1000_JM_5_test, ndcg_10_JM_5_test, precision_5_JM_5_test, recall_1000_JM_5_test = evaluate('JM-0.5.run', 'qrel_test')\n",
    "map_1000_DP_1000_test, ndcg_10_DP_1000_test, precision_5_DP_1000_test, recall_1000_DP_1000_test = evaluate('DP-1000.run', 'qrel_test')\n",
    "map_1000_BM25_test, ndcg_10_BM25_test, precision_5_BM25_test, recall_1000_BM25_test = evaluate('BM25.run', 'qrel_test')\n",
    "map_1000_tfidf_test, ndcg_10_tfidf_test, precision_5_tfidf_test, recall_1000_tfidf_test = evaluate('tfidf.run', 'qrel_test')\n",
    "\n",
    "print(\"Test results AD:\")\n",
    "print(map_1000_AD_5_test[-1])\n",
    "print(ndcg_10_AD_5_test[-1])\n",
    "print(precision_5_AD_5_test[-1])\n",
    "print(recall_1000_AD_5_test[-1])\n",
    "print(\"\")\n",
    "\n",
    "print(\"Test results JM:\")\n",
    "print(map_1000_JM_5_test[-1])\n",
    "print(ndcg_10_JM_5_test[-1])\n",
    "print(precision_5_JM_5_test[-1])\n",
    "print(recall_1000_JM_5_test[-1])\n",
    "print(\"\")\n",
    "\n",
    "print(\"Test results DP:\")\n",
    "print(map_1000_DP_1000_test[-1])\n",
    "print(ndcg_10_DP_1000_test[-1])\n",
    "print(precision_5_DP_1000_test[-1])\n",
    "print(recall_1000_DP_1000_test[-1])\n",
    "print(\"\")\n",
    "\n",
    "print(\"Test results BM25:\")\n",
    "print(map_1000_BM25_test[-1])\n",
    "print(ndcg_10_BM25_test[-1])\n",
    "print(precision_5_BM25_test[-1])\n",
    "print(recall_1000_BM25_test[-1])\n",
    "print(\"\")\n",
    "\n",
    "print(\"Test results tfidf:\")\n",
    "print(map_1000_tfidf_test[-1])\n",
    "print(ndcg_10_tfidf_test[-1])\n",
    "print(precision_5_tfidf_test[-1])\n",
    "print(recall_1000_tfidf_test[-1])\n",
    "print(\"\")"
   ]
  },
  {
   "cell_type": "code",
   "execution_count": 40,
   "metadata": {},
   "outputs": [
    {
     "data": {
      "image/png": "[encoded data removed]",
      "text/plain": [
       "<matplotlib.figure.Figure at 0x7f9d78a8b6d8>"
      ]
     },
     "metadata": {},
     "output_type": "display_data"
    },
    {
     "data": {
      "image/png": "[encoded data removed]",
      "text/plain": [
       "<matplotlib.figure.Figure at 0x7f9d810a29b0>"
      ]
     },
     "metadata": {},
     "output_type": "display_data"
    },
    {
     "data": {
      "image/png": "[encoded data removed]",
      "text/plain": [
       "<matplotlib.figure.Figure at 0x7f9d96eb5390>"
      ]
     },
     "metadata": {},
     "output_type": "display_data"
    }
   ],
   "source": [
    "# Plot different ndcg values per parameter change to retrieve optimal parameter.\n",
    "import matplotlib.pyplot as plt\n",
    "plt.plot([0.1,0.5,0.9], [ndcg_10_AD_1[-1][1],ndcg_10_AD_5[-1][1],ndcg_10_AD_9[-1][1]])\n",
    "plt.show()\n",
    "plt.plot([0.1,0.5,0.9], [ndcg_10_JM_1[-1][1],ndcg_10_JM_5[-1][1],ndcg_10_JM_9[-1][1]])\n",
    "plt.show()\n",
    "plt.plot([500,1000,1500], [ndcg_10_DP_500[-1][1],ndcg_10_DP_1000[-1][1],ndcg_10_DP_1500[-1][1]])\n",
    "plt.show()\n",
    "\n"
   ]
  },
  {
   "cell_type": "code",
   "execution_count": 42,
   "metadata": {},
   "outputs": [
    {
     "data": {
      "text/plain": [
       "3.096249787983831"
      ]
     },
     "execution_count": 42,
     "metadata": {},
     "output_type": "execute_result"
    }
   ],
   "source": [
    "import math\n",
    "\n",
    "# Term frequency per document\n",
    "def calculate_tf(document_id, query_term_id, inverted_index):\n",
    "    try:\n",
    "        document_term_frequency = inverted_index[query_term_id][document_id]\n",
    "        log_tf = 1 + math.log(document_term_frequency)\n",
    "        return log_tf\n",
    "    except KeyError:\n",
    "        return 0\n",
    "\n",
    "# Compute tf-idf values\n",
    "def tfidf(int_document_id, query_term_id, inverted_index, N):\n",
    "    \"\"\"\n",
    "    Scoring function for a document and a query term\n",
    "    \n",
    "    :param int_document_id: the document id\n",
    "    :param query_token_id: the query term id (assuming you have split the query to tokens)\n",
    "    :param document_term_freq: the document term frequency of the query term \n",
    "    \"\"\"\n",
    "    \n",
    "    log_tf = calculate_tf(int_document_id, query_term_id, inverted_index)\n",
    "    document_frequency = len(inverted_index[query_term_id])\n",
    "    log_idf = math.log(N) - math.log(document_frequency)\n",
    "    score = log_tf*log_idf\n",
    "    return score\n",
    "\n",
    "tfidf(2, 20, inverted_index, num_documents)\n",
    "# combining the two functions above: \n",
    "# run_retrieval('tfidf', tfidf)\n",
    "# TODO implement the rest of the retrieval functions \n",
    "\n",
    "# TODO implement tools to help you with the analysis of the results."
   ]
  },
  {
   "cell_type": "code",
   "execution_count": 43,
   "metadata": {},
   "outputs": [
    {
     "data": {
      "text/plain": [
       "7.5346740771599805"
      ]
     },
     "execution_count": 43,
     "metadata": {},
     "output_type": "execute_result"
    }
   ],
   "source": [
    "# Compute BM25 values\n",
    "def BM25(document_id, query_ids, inverted_index, document_lengths, k1, b):\n",
    "    N = len(document_lengths)\n",
    "    unique_query_terms = set(query_ids)\n",
    "    l_d = document_lengths[document_id]\n",
    "    total_length = sum(document_lengths.values())\n",
    "    l_avg = total_length/N\n",
    "    BM25 = 0\n",
    "    for query_term_id in unique_query_terms:\n",
    "        try:\n",
    "            log_tf = calculate_tf(document_id, query_term_id, inverted_index)\n",
    "            document_frequency = len(inverted_index[query_term_id])\n",
    "            log_idf = math.log(N) - math.log(document_frequency)\n",
    "            BM25 += ((k1 + 1)*log_tf)/(k1*((1 - b) + b * (l_d/l_avg)) + log_tf) * log_idf\n",
    "        except KeyError:\n",
    "            BM25 += 0\n",
    "    return BM25\n",
    "\n",
    "BM25(99783, tokenized_queries['90'], inverted_index, document_lengths, 1.2, 0.75)"
   ]
  },
  {
   "cell_type": "code",
   "execution_count": 44,
   "metadata": {},
   "outputs": [
    {
     "data": {
      "text/plain": [
       "0.004776927520830531"
      ]
     },
     "execution_count": 44,
     "metadata": {},
     "output_type": "execute_result"
    }
   ],
   "source": [
    "# Jelinek-Mercer smoothing technique\n",
    "def JM_smoothing(document_id, query_term_id, collection_frequencies, document_lengths, inverted_index, l):\n",
    "    log_tf = calculate_tf(document_id, query_term_id, inverted_index)\n",
    "    tf_C = collection_frequencies[query_term_id]\n",
    "    log_tf_C = 1 + math.log(tf_C)\n",
    "    doc_length = document_lengths[document_id]\n",
    "    len_C = sum(document_lengths.values())\n",
    "    P_JM = l*(log_tf/doc_length) + (1 - l)*(log_tf_C)/len_C\n",
    "    return P_JM\n",
    "\n",
    "l = 0.9\n",
    "JM_smoothing(99783, 1275, collection_frequencies, document_lengths, inverted_index, l)"
   ]
  },
  {
   "cell_type": "code",
   "execution_count": 45,
   "metadata": {},
   "outputs": [
    {
     "data": {
      "text/plain": [
       "0.002994628735132055"
      ]
     },
     "execution_count": 45,
     "metadata": {},
     "output_type": "execute_result"
    }
   ],
   "source": [
    "# Dirichlet prior smoothing technique\n",
    "def DP_smoothing(document_id, query_term_id, document_lengths, inverted_index, collection_frequencies, mu):\n",
    "    log_tf = calculate_tf(document_id, query_term_id, inverted_index)\n",
    "    doc_length = document_lengths[document_id]\n",
    "    tf_C = collection_frequencies[query_term_id]\n",
    "    P_w_C = tf_C/sum(collection_frequencies.values())\n",
    "    P_DP = (doc_length/(doc_length + mu))*(log_tf/doc_length) + (mu/(mu + doc_length))*P_w_C\n",
    "    return P_DP\n",
    "\n",
    "mu = 500\n",
    "DP_smoothing(99783, 1275, document_lengths, inverted_index, collection_frequencies, mu)"
   ]
  },
  {
   "cell_type": "code",
   "execution_count": 46,
   "metadata": {},
   "outputs": [
    {
     "data": {
      "text/plain": [
       "0.0051056100822080355"
      ]
     },
     "execution_count": 46,
     "metadata": {},
     "output_type": "execute_result"
    }
   ],
   "source": [
    "# Absolute discounting smoothing technique\n",
    "def AD_smoothing(document_id, query_term_id, document_lengths, inverted_index, collection_frequencies, unique_terms_per_document, delta):\n",
    "    log_tf = calculate_tf(document_id, query_term_id, inverted_index)\n",
    "    doc_length = document_lengths[document_id]\n",
    "    d_u = unique_terms_per_document[document_id]\n",
    "    tf_C = collection_frequencies[query_term_id]\n",
    "    P_w_C = tf_C/sum(collection_frequencies.values())\n",
    "    P_AD = max(log_tf - delta, 0)/doc_length + ((delta*d_u)/doc_length) * P_w_C\n",
    "    return P_AD\n",
    "\n",
    "delta = 0.1\n",
    "AD_smoothing(99783, 1275, document_lengths, inverted_index, collection_frequencies, unique_terms_per_document, delta)"
   ]
  },
  {
   "cell_type": "code",
   "execution_count": 47,
   "metadata": {},
   "outputs": [],
   "source": [
    "from collections import defaultdict\n",
    "\n",
    "# Create a language model based on the smoothing technique used\n",
    "def makeLM(document_id, query_ids, inverted_index, collection_frequencies, unique_terms_per_document, smoothing, param):\n",
    "    doc_length = document_lengths[document_id]\n",
    "    len_C = sum(document_lengths.values())\n",
    "    prob_query = defaultdict(float)\n",
    "    for query_id in query_ids:\n",
    "        log_tf = calculate_tf(document_id, query_id, inverted_index)\n",
    "        tf_C = collection_frequencies[query_id]\n",
    "        log_tf_C = 1 + math.log(tf_C)\n",
    "        P_w_C = tf_C/sum(collection_frequencies.values())\n",
    "        if smoothing == \"AD\":\n",
    "            d_u = unique_terms_per_document[document_id]\n",
    "            P_w_C = tf_C/sum(collection_frequencies.values())\n",
    "            prob_query[query_id] = max(log_tf - param, 0)/doc_length + ((param*d_u)/doc_length) * P_w_C\n",
    "        elif smoothing == \"DP\":\n",
    "            P_w_C = tf_C/sum(collection_frequencies.values())\n",
    "            prob_query[query_id] = (doc_length/(doc_length + param))*(log_tf/doc_length) + (param/(param + doc_length))*P_w_C\n",
    "        elif smoothing == \"JM\":\n",
    "            prob_query[query_id] = param*(log_tf/doc_length) + (1 - param)*(log_tf_C)/len_C\n",
    "    return prob_query\n",
    "\n",
    "smoothing = \"DP\"\n",
    "param = 0.1\n",
    "doc_id = 99783\n",
    "LM = makeLM(doc_id, query_term_ids, inverted_index, collection_frequencies, unique_terms_per_document, smoothing, param)\n"
   ]
  },
  {
   "cell_type": "code",
   "execution_count": 48,
   "metadata": {},
   "outputs": [
    {
     "data": {
      "text/plain": [
       "0.00200784812289836"
      ]
     },
     "execution_count": 48,
     "metadata": {},
     "output_type": "execute_result"
    }
   ],
   "source": [
    "# Compute term frequency per position\n",
    "def TFPP(document_id, word_id, inverted_index, tokens, sigma, j):\n",
    "    tf_sum = 0\n",
    "    Z_i = 0\n",
    "    for i in range(len(tokens)):\n",
    "        if tokens[i] == word_id:\n",
    "            tf_i = 1\n",
    "        else:\n",
    "            tf_i = 0\n",
    "        kernel = Gaussian(j, i, sigma)\n",
    "        Z_i += kernel\n",
    "        tf_sum += tf_i*kernel\n",
    "    return tf_sum, Z_i\n",
    "\n",
    "# Calculate Language model per position\n",
    "def LMPP(document_id, word_id, inverted_index, collection_frequencies, index, sigma, j, mu):\n",
    "    tokens = index.document(document_id)[1]\n",
    "    tf_C = collection_frequencies[word_id]\n",
    "    P_w_C = tf_C/sum(collection_frequencies.values())\n",
    "    tf_w, Z_i = TFPP(document_id, word_id, inverted_index, tokens, sigma, j)    \n",
    "    P_w_D = (tf_w + mu*P_w_C)/(Z_i + mu)\n",
    "    return P_w_D\n",
    "\n",
    "# 5 different kernel implementations\n",
    "def Gaussian(i, j, sigma):\n",
    "    return math.exp((-(i - j)**2)/(2*sigma**2))\n",
    "\n",
    "def Triangle(i, j, sigma):\n",
    "    if abs(i - j) <= sigma:\n",
    "        return 1 - abs(i - j)/sigma\n",
    "    else:\n",
    "        return 0\n",
    "\n",
    "def Cosine(i, j, sigma):\n",
    "    if abs(i - j) <= sigma:\n",
    "        return 0.5*(1 + math.cos((abs((i - j) * math.pi))/sigma))\n",
    "    else:\n",
    "        return 0\n",
    "\n",
    "def Circle(i, j, sigma):\n",
    "    if abs(i - j) <= sigma:\n",
    "        return math.sqrt((1 - ((abs(i - j))/sigma)))\n",
    "    else:\n",
    "        return 0\n",
    "    \n",
    "def Passage(i, j, sigma):\n",
    "    if abs(i - j) <= sigma:\n",
    "        return 1\n",
    "    else:\n",
    "        return 0\n",
    "\n",
    "mu = 500\n",
    "j = 2\n",
    "sigma = 50\n",
    "doc_id = 99783\n",
    "term_id = 1275\n",
    "LMPP(doc_id, term_id, inverted_index, collection_frequencies, index, sigma, j, mu)"
   ]
  },
  {
   "cell_type": "code",
   "execution_count": 49,
   "metadata": {},
   "outputs": [],
   "source": [
    "# Retrieve the test and validation set\n",
    "with open(\"ap_88_89/qrel_test\") as f:\n",
    "    test_set = f.readlines()\n",
    "with open(\"ap_88_89/qrel_validation\") as f:\n",
    "    val_set = f.readlines()\n"
   ]
  },
  {
   "cell_type": "code",
   "execution_count": 50,
   "metadata": {},
   "outputs": [
    {
     "data": {
      "text/plain": [
       "-4.723197087353424"
      ]
     },
     "execution_count": 50,
     "metadata": {},
     "output_type": "execute_result"
    }
   ],
   "source": [
    "from collections import Counter\n",
    "\n",
    "# Computes the S(Q,D,j) of a query and a document\n",
    "def PLM_score(document_id, query_ids, inverted_index, collection_frequencies, index, sigma, j, mu):\n",
    "    score = 0\n",
    "    query_counter = Counter(query_ids)\n",
    "    unique_tokens = set(index.document(document_id)[1])\n",
    "    unique_query_ids = set(query_ids)\n",
    "    # Only calculate P_w_Q for words in query, for other words P_w_Q = 0\n",
    "    for word_id in unique_query_ids:\n",
    "        P_w_Q = query_counter[word_id]/len(query_ids)\n",
    "        P_w_D = LMPP(document_id, word_id, inverted_index, collection_frequencies, index, sigma, j, mu)\n",
    "        if P_w_D != 0:\n",
    "            score += P_w_Q*math.log(P_w_Q/P_w_D)\n",
    "    return -score\n",
    "\n",
    "# Computes the best position strategy S(Q,D) of a document and a query \n",
    "def best_position_strategy(document_id, query_ids, inverted_index, collection_frequencies, index, sigma, mu):\n",
    "    tokens = index.document(document_id)[1]\n",
    "    highest_score = PLM_score(document_id, query_ids, inverted_index, collection_frequencies, index, sigma, 0, mu)\n",
    "    for j in range(1, len(tokens)): \n",
    "        score = PLM_score(document_id, query_ids, inverted_index, collection_frequencies, index, sigma, j, mu)\n",
    "        if score > highest_score:\n",
    "            highest_score = score\n",
    "    return highest_score\n",
    "\n",
    "# print(index.document(doc_id)[1])\n",
    "query = [5063, 151114, 4414, 4160, 78152]\n",
    "best_position_strategy(doc_id, query, inverted_index, collection_frequencies, index, sigma, mu)"
   ]
  },
  {
   "cell_type": "code",
   "execution_count": null,
   "metadata": {},
   "outputs": [],
   "source": []
  },
  {
   "cell_type": "markdown",
   "metadata": {},
   "source": [
    "### Task 2: Latent Semantic Models (LSMs) [15 points] ###\n",
    "\n",
    "In this task you will experiment with applying distributional semantics methods ([LSI](http://lsa3.colorado.edu/papers/JASIS.lsi.90.pdf) **[5 points]** and [LDA](https://www.cs.princeton.edu/~blei/papers/BleiNgJordan2003.pdf) **[5 points]**) for retrieval.\n",
    "\n",
    "You do not need to implement LSI or LDA on your own. Instead, you can use [gensim](http://radimrehurek.com/gensim/index.html). An example on how to integrate Pyndri with Gensim for word2vec can be found [here](https://github.com/cvangysel/pyndri/blob/master/examples/word2vec.py). For the remaining latent vector space models, you will need to implement connector classes (such as `IndriSentences`) by yourself.\n",
    "\n",
    "In order to use a latent semantic model for retrieval, you need to:\n",
    "   * build a representation of the query **q**,\n",
    "   * build a representation of the document **d**,\n",
    "   * calculate the similarity between **q** and **d** (e.g., cosine similarity, KL-divergence).\n",
    "     \n",
    "The exact implementation here depends on the latent semantic model you are using. \n",
    "   \n",
    "Each of these LSMs come with various hyperparameters to tune. Make a choice on the parameters, and explicitly mention the reasons that led you to these decisions. You can use the validation set to optimize hyper parameters you see fit; motivate your decisions. In addition, mention clearly how the query/document representations were constructed for each LSM and explain your choices.\n",
    "\n",
    "In this experiment, you will first obtain an initial top-1000 ranking for each query using TF-IDF in **Task 1**, and then re-rank the documents using the LSMs. Use TREC Eval to obtain the results and report on `NDCG@10`, Mean Average Precision (`MAP@1000`), `Precision@5` and `Recall@1000`.\n",
    "\n",
    "Perform significance testing **[5 points]** (similar as in Task 1) in the class of semantic matching methods."
   ]
  },
  {
   "cell_type": "code",
   "execution_count": 189,
   "metadata": {},
   "outputs": [],
   "source": [
    "def cosine_similarity(vec1, vec2):\n",
    "    return vec1.dot(vec2)\n",
    "\n",
    "def kl_divergence(a, b):\n",
    "    return np.sum(a * np.log(a)) - np.sum(a * np.log(b))\n",
    "\n",
    "def top_1000(query_ids):\n",
    "    document_ids = itertools.chain(*[list(inverted_index[i].keys()) for i in query_term_ids])\n",
    "    scores = []\n",
    "    for document_id in document_ids:\n",
    "        total_score = 0\n",
    "        \n",
    "        for query_id in query_ids:\n",
    "            total_score += tfidf(document_ids, query_id)\n",
    "        scores.append((document_idid, total_score))\n",
    "        \n",
    "    scores.sort(key=lambda x: x[1], reverse=True)\n",
    "    return [x[0] for x in scores][:1000]"
   ]
  },
  {
   "cell_type": "code",
   "execution_count": 190,
   "metadata": {},
   "outputs": [],
   "source": [
    "# http://www.pythonexample.com/code/gensim-python-tutorial/ was used\n",
    "\n",
    "import gensim\n",
    "\n",
    "class Corpus(gensim.interfaces.CorpusABC):\n",
    "\n",
    "    def __init__(self, index, dictionary, max_documents=None):\n",
    "        assert isinstance(index, pyndri.Index)\n",
    "\n",
    "        self.index = index\n",
    "        self.dictionary = dictionary\n",
    "\n",
    "        self.max_documents = max_documents\n",
    "    \n",
    "    def _maximum_document(self):\n",
    "        if self.max_documents is None:\n",
    "            return self.index.maximum_document()\n",
    "        else:\n",
    "            return min(\n",
    "                self.max_documents + self.index.document_base(),\n",
    "                self.index.maximum_document())\n",
    "    \n",
    "    def _tokens2bow(self, tokens):\n",
    "        tokens = [token_id for token_id in tokens if token_id > 0]\n",
    "        token_dict = collections.defaultdict(int)\n",
    "        \n",
    "        for token_id in tokens:\n",
    "            token_dict[token_id] += 1\n",
    "            \n",
    "        return [(key, value) for key, value in token_dict.items()]  \n",
    "    \n",
    "    def __iter__(self):\n",
    "        for internal_document_id in range(self.index.document_base(), self.index.maximum_document()):\n",
    "            external_document_id, token_ids = self.index.document(internal_document_id)\n",
    "            \n",
    "            yield self._tokens2bow(token_ids)\n",
    "            \n",
    "    def __len__(self):\n",
    "        return self._maximum_document() - self.index.document_base()"
   ]
  },
  {
   "cell_type": "code",
   "execution_count": 191,
   "metadata": {},
   "outputs": [
    {
     "name": "stderr",
     "output_type": "stream",
     "text": [
      "WARNING:gensim.models.lsimodel:no word id mapping provided; initializing from corpus, assuming identity\n",
      "WARNING:gensim.models.ldamodel:no word id mapping provided; initializing from corpus, assuming identity\n"
     ]
    },
    {
     "ename": "ValueError",
     "evalue": "too many values to unpack (expected 2)",
     "output_type": "error",
     "traceback": [
      "\u001b[0;31m---------------------------------------------------------------------------\u001b[0m",
      "\u001b[0;31mValueError\u001b[0m                                Traceback (most recent call last)",
      "\u001b[0;32m<ipython-input-191-c346284c55b0>\u001b[0m in \u001b[0;36m<module>\u001b[0;34m()\u001b[0m\n\u001b[1;32m     23\u001b[0m     \u001b[0;31m# Get the sorted top 1000 rankings of documents using tf-idf scores\u001b[0m\u001b[0;34m\u001b[0m\u001b[0;34m\u001b[0m\u001b[0m\n\u001b[1;32m     24\u001b[0m \u001b[0;34m\u001b[0m\u001b[0m\n\u001b[0;32m---> 25\u001b[0;31m     \u001b[0mdocuments\u001b[0m \u001b[0;34m=\u001b[0m \u001b[0mgensim\u001b[0m\u001b[0;34m.\u001b[0m\u001b[0mmatutils\u001b[0m\u001b[0;34m.\u001b[0m\u001b[0mcorpus2dense\u001b[0m\u001b[0;34m(\u001b[0m\u001b[0;34m[\u001b[0m\u001b[0mlsi\u001b[0m\u001b[0;34m[\u001b[0m\u001b[0mcorpus\u001b[0m\u001b[0;34m]\u001b[0m\u001b[0;34m]\u001b[0m\u001b[0;34m,\u001b[0m \u001b[0mnum_terms\u001b[0m\u001b[0;34m=\u001b[0m\u001b[0mnum_topics\u001b[0m\u001b[0;34m)\u001b[0m\u001b[0;34m\u001b[0m\u001b[0m\n\u001b[0m\u001b[1;32m     26\u001b[0m     \u001b[0mquery\u001b[0m \u001b[0;34m=\u001b[0m \u001b[0mgensim\u001b[0m\u001b[0;34m.\u001b[0m\u001b[0mmatutils\u001b[0m\u001b[0;34m.\u001b[0m\u001b[0mcorpus2dense\u001b[0m\u001b[0;34m(\u001b[0m\u001b[0;34m[\u001b[0m\u001b[0mlsi\u001b[0m\u001b[0;34m[\u001b[0m\u001b[0mdocument_vector\u001b[0m\u001b[0;34m]\u001b[0m\u001b[0;34m]\u001b[0m\u001b[0;34m,\u001b[0m \u001b[0mnum_terms\u001b[0m\u001b[0;34m=\u001b[0m\u001b[0mnum_topics\u001b[0m\u001b[0;34m)\u001b[0m\u001b[0;34m\u001b[0m\u001b[0m\n\u001b[1;32m     27\u001b[0m     \u001b[0mindices\u001b[0m \u001b[0;34m=\u001b[0m \u001b[0mget_top_1000\u001b[0m\u001b[0;34m(\u001b[0m\u001b[0mquery_term_ids\u001b[0m\u001b[0;34m)\u001b[0m\u001b[0;34m\u001b[0m\u001b[0m\n",
      "\u001b[0;32m/usr/local/lib/python3.5/dist-packages/gensim/matutils.py\u001b[0m in \u001b[0;36mcorpus2dense\u001b[0;34m(corpus, num_terms, num_docs, dtype)\u001b[0m\n\u001b[1;32m    298\u001b[0m         \u001b[0;32massert\u001b[0m \u001b[0mdocno\u001b[0m \u001b[0;34m+\u001b[0m \u001b[0;36m1\u001b[0m \u001b[0;34m==\u001b[0m \u001b[0mnum_docs\u001b[0m\u001b[0;34m\u001b[0m\u001b[0m\n\u001b[1;32m    299\u001b[0m     \u001b[0;32melse\u001b[0m\u001b[0;34m:\u001b[0m\u001b[0;34m\u001b[0m\u001b[0m\n\u001b[0;32m--> 300\u001b[0;31m         \u001b[0mresult\u001b[0m \u001b[0;34m=\u001b[0m \u001b[0mnp\u001b[0m\u001b[0;34m.\u001b[0m\u001b[0mcolumn_stack\u001b[0m\u001b[0;34m(\u001b[0m\u001b[0msparse2full\u001b[0m\u001b[0;34m(\u001b[0m\u001b[0mdoc\u001b[0m\u001b[0;34m,\u001b[0m \u001b[0mnum_terms\u001b[0m\u001b[0;34m)\u001b[0m \u001b[0;32mfor\u001b[0m \u001b[0mdoc\u001b[0m \u001b[0;32min\u001b[0m \u001b[0mcorpus\u001b[0m\u001b[0;34m)\u001b[0m\u001b[0;34m\u001b[0m\u001b[0m\n\u001b[0m\u001b[1;32m    301\u001b[0m     \u001b[0;32mreturn\u001b[0m \u001b[0mresult\u001b[0m\u001b[0;34m.\u001b[0m\u001b[0mastype\u001b[0m\u001b[0;34m(\u001b[0m\u001b[0mdtype\u001b[0m\u001b[0;34m)\u001b[0m\u001b[0;34m\u001b[0m\u001b[0m\n\u001b[1;32m    302\u001b[0m \u001b[0;34m\u001b[0m\u001b[0m\n",
      "\u001b[0;32m/usr/local/lib/python3.5/dist-packages/numpy/lib/shape_base.py\u001b[0m in \u001b[0;36mcolumn_stack\u001b[0;34m(tup)\u001b[0m\n\u001b[1;32m    362\u001b[0m     \"\"\"\n\u001b[1;32m    363\u001b[0m     \u001b[0marrays\u001b[0m \u001b[0;34m=\u001b[0m \u001b[0;34m[\u001b[0m\u001b[0;34m]\u001b[0m\u001b[0;34m\u001b[0m\u001b[0m\n\u001b[0;32m--> 364\u001b[0;31m     \u001b[0;32mfor\u001b[0m \u001b[0mv\u001b[0m \u001b[0;32min\u001b[0m \u001b[0mtup\u001b[0m\u001b[0;34m:\u001b[0m\u001b[0;34m\u001b[0m\u001b[0m\n\u001b[0m\u001b[1;32m    365\u001b[0m         \u001b[0marr\u001b[0m \u001b[0;34m=\u001b[0m \u001b[0marray\u001b[0m\u001b[0;34m(\u001b[0m\u001b[0mv\u001b[0m\u001b[0;34m,\u001b[0m \u001b[0mcopy\u001b[0m\u001b[0;34m=\u001b[0m\u001b[0;32mFalse\u001b[0m\u001b[0;34m,\u001b[0m \u001b[0msubok\u001b[0m\u001b[0;34m=\u001b[0m\u001b[0;32mTrue\u001b[0m\u001b[0;34m)\u001b[0m\u001b[0;34m\u001b[0m\u001b[0m\n\u001b[1;32m    366\u001b[0m         \u001b[0;32mif\u001b[0m \u001b[0marr\u001b[0m\u001b[0;34m.\u001b[0m\u001b[0mndim\u001b[0m \u001b[0;34m<\u001b[0m \u001b[0;36m2\u001b[0m\u001b[0;34m:\u001b[0m\u001b[0;34m\u001b[0m\u001b[0m\n",
      "\u001b[0;32m/usr/local/lib/python3.5/dist-packages/gensim/matutils.py\u001b[0m in \u001b[0;36m<genexpr>\u001b[0;34m(.0)\u001b[0m\n\u001b[1;32m    298\u001b[0m         \u001b[0;32massert\u001b[0m \u001b[0mdocno\u001b[0m \u001b[0;34m+\u001b[0m \u001b[0;36m1\u001b[0m \u001b[0;34m==\u001b[0m \u001b[0mnum_docs\u001b[0m\u001b[0;34m\u001b[0m\u001b[0m\n\u001b[1;32m    299\u001b[0m     \u001b[0;32melse\u001b[0m\u001b[0;34m:\u001b[0m\u001b[0;34m\u001b[0m\u001b[0m\n\u001b[0;32m--> 300\u001b[0;31m         \u001b[0mresult\u001b[0m \u001b[0;34m=\u001b[0m \u001b[0mnp\u001b[0m\u001b[0;34m.\u001b[0m\u001b[0mcolumn_stack\u001b[0m\u001b[0;34m(\u001b[0m\u001b[0msparse2full\u001b[0m\u001b[0;34m(\u001b[0m\u001b[0mdoc\u001b[0m\u001b[0;34m,\u001b[0m \u001b[0mnum_terms\u001b[0m\u001b[0;34m)\u001b[0m \u001b[0;32mfor\u001b[0m \u001b[0mdoc\u001b[0m \u001b[0;32min\u001b[0m \u001b[0mcorpus\u001b[0m\u001b[0;34m)\u001b[0m\u001b[0;34m\u001b[0m\u001b[0m\n\u001b[0m\u001b[1;32m    301\u001b[0m     \u001b[0;32mreturn\u001b[0m \u001b[0mresult\u001b[0m\u001b[0;34m.\u001b[0m\u001b[0mastype\u001b[0m\u001b[0;34m(\u001b[0m\u001b[0mdtype\u001b[0m\u001b[0;34m)\u001b[0m\u001b[0;34m\u001b[0m\u001b[0m\n\u001b[1;32m    302\u001b[0m \u001b[0;34m\u001b[0m\u001b[0m\n",
      "\u001b[0;32m/usr/local/lib/python3.5/dist-packages/gensim/matutils.py\u001b[0m in \u001b[0;36msparse2full\u001b[0;34m(doc, length)\u001b[0m\n\u001b[1;32m    241\u001b[0m     \u001b[0mdoc\u001b[0m \u001b[0;34m=\u001b[0m \u001b[0;34m(\u001b[0m\u001b[0;34m(\u001b[0m\u001b[0mint\u001b[0m\u001b[0;34m(\u001b[0m\u001b[0mid_\u001b[0m\u001b[0;34m)\u001b[0m\u001b[0;34m,\u001b[0m \u001b[0mfloat\u001b[0m\u001b[0;34m(\u001b[0m\u001b[0mval_\u001b[0m\u001b[0;34m)\u001b[0m\u001b[0;34m)\u001b[0m \u001b[0;32mfor\u001b[0m \u001b[0;34m(\u001b[0m\u001b[0mid_\u001b[0m\u001b[0;34m,\u001b[0m \u001b[0mval_\u001b[0m\u001b[0;34m)\u001b[0m \u001b[0;32min\u001b[0m \u001b[0mdoc\u001b[0m\u001b[0;34m)\u001b[0m\u001b[0;34m\u001b[0m\u001b[0m\n\u001b[1;32m    242\u001b[0m \u001b[0;34m\u001b[0m\u001b[0m\n\u001b[0;32m--> 243\u001b[0;31m     \u001b[0mdoc\u001b[0m \u001b[0;34m=\u001b[0m \u001b[0mdict\u001b[0m\u001b[0;34m(\u001b[0m\u001b[0mdoc\u001b[0m\u001b[0;34m)\u001b[0m\u001b[0;34m\u001b[0m\u001b[0m\n\u001b[0m\u001b[1;32m    244\u001b[0m     \u001b[0;31m# overwrite some of the zeroes with explicit values\u001b[0m\u001b[0;34m\u001b[0m\u001b[0;34m\u001b[0m\u001b[0m\n\u001b[1;32m    245\u001b[0m     \u001b[0mresult\u001b[0m\u001b[0;34m[\u001b[0m\u001b[0mlist\u001b[0m\u001b[0;34m(\u001b[0m\u001b[0mdoc\u001b[0m\u001b[0;34m)\u001b[0m\u001b[0;34m]\u001b[0m \u001b[0;34m=\u001b[0m \u001b[0mlist\u001b[0m\u001b[0;34m(\u001b[0m\u001b[0mitervalues\u001b[0m\u001b[0;34m(\u001b[0m\u001b[0mdoc\u001b[0m\u001b[0;34m)\u001b[0m\u001b[0;34m)\u001b[0m\u001b[0;34m\u001b[0m\u001b[0m\n",
      "\u001b[0;32m/usr/local/lib/python3.5/dist-packages/gensim/matutils.py\u001b[0m in \u001b[0;36m<genexpr>\u001b[0;34m(.0)\u001b[0m\n\u001b[1;32m    239\u001b[0m     \u001b[0mresult\u001b[0m \u001b[0;34m=\u001b[0m \u001b[0mnp\u001b[0m\u001b[0;34m.\u001b[0m\u001b[0mzeros\u001b[0m\u001b[0;34m(\u001b[0m\u001b[0mlength\u001b[0m\u001b[0;34m,\u001b[0m \u001b[0mdtype\u001b[0m\u001b[0;34m=\u001b[0m\u001b[0mnp\u001b[0m\u001b[0;34m.\u001b[0m\u001b[0mfloat32\u001b[0m\u001b[0;34m)\u001b[0m  \u001b[0;31m# fill with zeroes (default value)\u001b[0m\u001b[0;34m\u001b[0m\u001b[0m\n\u001b[1;32m    240\u001b[0m     \u001b[0;31m# convert indices to int as numpy 1.12 no longer indexes by floats\u001b[0m\u001b[0;34m\u001b[0m\u001b[0;34m\u001b[0m\u001b[0m\n\u001b[0;32m--> 241\u001b[0;31m     \u001b[0mdoc\u001b[0m \u001b[0;34m=\u001b[0m \u001b[0;34m(\u001b[0m\u001b[0;34m(\u001b[0m\u001b[0mint\u001b[0m\u001b[0;34m(\u001b[0m\u001b[0mid_\u001b[0m\u001b[0;34m)\u001b[0m\u001b[0;34m,\u001b[0m \u001b[0mfloat\u001b[0m\u001b[0;34m(\u001b[0m\u001b[0mval_\u001b[0m\u001b[0;34m)\u001b[0m\u001b[0;34m)\u001b[0m \u001b[0;32mfor\u001b[0m \u001b[0;34m(\u001b[0m\u001b[0mid_\u001b[0m\u001b[0;34m,\u001b[0m \u001b[0mval_\u001b[0m\u001b[0;34m)\u001b[0m \u001b[0;32min\u001b[0m \u001b[0mdoc\u001b[0m\u001b[0;34m)\u001b[0m\u001b[0;34m\u001b[0m\u001b[0m\n\u001b[0m\u001b[1;32m    242\u001b[0m \u001b[0;34m\u001b[0m\u001b[0m\n\u001b[1;32m    243\u001b[0m     \u001b[0mdoc\u001b[0m \u001b[0;34m=\u001b[0m \u001b[0mdict\u001b[0m\u001b[0;34m(\u001b[0m\u001b[0mdoc\u001b[0m\u001b[0;34m)\u001b[0m\u001b[0;34m\u001b[0m\u001b[0m\n",
      "\u001b[0;31mValueError\u001b[0m: too many values to unpack (expected 2)"
     ]
    }
   ],
   "source": [
    "from collections import defaultdict\n",
    "\n",
    "num_topics = 10\n",
    "\n",
    "corpus =  Corpus(index, dictionary)\n",
    "\n",
    "data = defaultdict(list)\n",
    "\n",
    "# Create document representations (LSM/LDA) which also resorts by these scores\n",
    "\n",
    "lsi = gensim.models.lsimodel.LsiModel(corpus=corpus, num_topics=num_topics)\n",
    "#lsi.save('LSI_models/LSI1') # Should just use the given function?\n",
    "\n",
    "lda = gensim.models.ldamodel.LdaModel(corpus=corpus, num_topics=num_topics)\n",
    "#lda.save('LDA_models/LDA1')\n",
    "\n",
    "for query_id, query_term_ids in tokenized_queries.items():\n",
    "    document_bow = collections.Counter(token_id for token_id in query_term_ids)\n",
    "    document_vector = []\n",
    "    for token_id in query_term_ids:\n",
    "        document_vector.append((token_id, document_bow[token_id]))\n",
    "        \n",
    "    # Get the sorted top 1000 rankings of documents using tf-idf scores\n",
    "    \n",
    "    documents = gensim.matutils.corpus2dense([lsi[corpus]], num_terms=num_topics)\n",
    "    query = gensim.matutils.corpus2dense([lsi[document_vector]], num_terms=num_topics)\n",
    "    indices = get_top_1000(query_term_ids)\n",
    "    \n",
    "    similarities = cosine_similarity(latent_query.T, docs)\n",
    "    for internal_document_id in indices:\n",
    "        external_document_id, document_token_ids = corpus.index.document(internal_document_id)\n",
    "        score = similarities[0][internal_document_id]\n",
    "        data[query_id].append((score, external_document_id))\n",
    "\n",
    "with open(run_out_path, 'w') as f_out:\n",
    "    write_run(\n",
    "        model_name=model_name,\n",
    "        data=data,\n",
    "        out_f=f_out,\n",
    "        max_objects_per_query=1000)"
   ]
  },
  {
   "cell_type": "code",
   "execution_count": null,
   "metadata": {},
   "outputs": [],
   "source": [
    "import matplotlib.pyplot as plt\n",
    "\n",
    "# Report on the measures NDCG@10, Mean Average Precision (MAP@1000), Precision@5 and Recall@1000 using trec_eval\n",
    "\n",
    "file_name = \"\"\n",
    "eval_method = '(ndcg_cut_10\\W+all)'\n",
    "qrel_set = 'ap_88_89/qrel_validation'\n",
    "cmd = 'trec_eval/trec_eval -m all_trec -q \"' + qrel_set + '\" \"' + file_name + '\" | grep -E \"' + eval_methods + '\"'\n",
    "ndcg_10 = float(subprocess.check_output(cmd, shell=True).decode('utf-8').split('\\t')[2].strip())"
   ]
  },
  {
   "cell_type": "markdown",
   "metadata": {},
   "source": [
    "### Task 3:  Word embeddings for ranking [20 points] (open-ended) ###\n",
    "\n",
    "First create word embeddings on the corpus we provided using [word2vec](http://arxiv.org/abs/1411.2738) -- [gensim implementation](https://radimrehurek.com/gensim/models/word2vec.html). You should extract the indexed documents using pyndri and provide them to gensim for training a model (see example [here](https://github.com/nickvosk/pyndri/blob/master/examples/word2vec.py)).\n",
    "   \n",
    "This is an open-ended task. It is left up you to decide how you will combine word embeddings to derive query and document representations. Note that since we provide the implementation for training word2vec, you will be graded based on your creativity on combining word embeddings for building query and document representations.\n",
    "\n",
    "Note: If you want to experiment with pre-trained word embeddings on a different corpus, you can use the word embeddings we provide alongside the assignment (./data/reduced_vectors_google.txt.tar.gz). These are the [google word2vec word embeddings](https://code.google.com/archive/p/word2vec/), reduced to only the words that appear in the document collection we use in this assignment."
   ]
  },
  {
   "cell_type": "code",
   "execution_count": 102,
   "metadata": {},
   "outputs": [],
   "source": [
    "import pyndri.compat\n",
    "import copy\n",
    "\n",
    "# Train the word 2 vec embedding based on the example given in the assignment\n",
    "def train_word2vec(corpus):\n",
    "    \n",
    "    word2vec_init = gensim.models.Word2Vec(\n",
    "    size=300,  # Embedding size\n",
    "    window=5,  # One-sided window size\n",
    "    sg=True,  # Skip-gram.\n",
    "    min_count=5,  # Minimum word frequency.\n",
    "    sample=1e-3,  # Sub-sample threshold.\n",
    "    hs=False,  # Hierarchical softmax.\n",
    "    negative=10,  # Number of negative examples.\n",
    "    iter=1,  # Number of iterations.\n",
    "    workers=8,  # Number of workers.\n",
    ")\n",
    "    word2vec_init.build_vocab(corpus, trim_rule=None)\n",
    "\n",
    "    models = [word2vec_init]\n",
    "    model = copy.deepcopy(models[-1])\n",
    "    model.train(corpus, total_examples=model.corpus_count, epochs=model.iter)\n",
    "\n",
    "    models.append(model)\n",
    "    return models\n",
    "    \n",
    "# Retrieve corpus from pydnri\n",
    "corpus = pyndri.compat.IndriSentences(index, dictionary)\n",
    "models = train_word2vec(corpus)\n",
    "\n"
   ]
  },
  {
   "cell_type": "code",
   "execution_count": 171,
   "metadata": {},
   "outputs": [],
   "source": [
    "# Represent text with the use of tf-idf weights\n",
    "def text_representation(word2vec_model, tokens, N):\n",
    "    tokens = tokens.split()\n",
    "    token_counter = Counter(tokens)\n",
    "    embedded_tokens = [word2vec_model.wv[token.lower()] for token in tokens]\n",
    "    token_weights = []\n",
    "    for i in range(len(tokens)):\n",
    "        token_id = token2id[tokens[i]]\n",
    "        document_frequency = len(inverted_index[token_id])\n",
    "        # Compute the tf_idf weights per word in query\n",
    "        log_idf = math.log(N) - math.log(document_frequency)\n",
    "        term_frequency = token_counter[tokens[i]]\n",
    "        log_tf = 1 + math.log(term_frequency)\n",
    "        token_weights.append(log_tf*log_idf)\n",
    "    # Average over them to compute query weight\n",
    "    avg_token_weights = np.array(token_weights)/sum(token_weights)\n",
    "    representation = []\n",
    "    for i in range(len(tokens)):\n",
    "        representation.append(embedded_tokens[i]*avg_token_weights[i])\n",
    "    return sum(representation)\n",
    "# text_representation(models[1], queries['161'].lower(), num_documents)\n"
   ]
  },
  {
   "cell_type": "code",
   "execution_count": 172,
   "metadata": {},
   "outputs": [
    {
     "name": "stdout",
     "output_type": "stream",
     "text": [
      "12\n"
     ]
    }
   ],
   "source": [
    "print(dictionary[122])"
   ]
  },
  {
   "cell_type": "code",
   "execution_count": 185,
   "metadata": {},
   "outputs": [],
   "source": [
    "# Examples for the report results\n",
    "query = 'acid'\n",
    "query_vector_acid = text_representation(models[1], query, num_documents)\n",
    "query = \"rain\"\n",
    "query_vector_rain = text_representation(models[1], query, num_documents)\n",
    "query = \"acid rain\"\n",
    "query_vector_acid_rain = text_representation(models[1], query, num_documents)\n",
    "query = \"political\"\n",
    "query_vector = text_representation(models[1], query, num_documents)\n",
    "query = \"campaign\"\n",
    "query_vector_c = text_representation(models[1], query, num_documents)\n",
    "query = \"political campaign\"\n",
    "query_vector_p_c = text_representation(models[1], query, num_documents)\n"
   ]
  },
  {
   "cell_type": "code",
   "execution_count": 188,
   "metadata": {},
   "outputs": [
    {
     "name": "stdout",
     "output_type": "stream",
     "text": [
      "[   ('political', 1.0000001192092896),\n",
      "    ('politics', 0.6508501172065735),\n",
      "    ('allegiances', 0.6247718334197998),\n",
      "    ('repudiation', 0.6204284429550171),\n",
      "    ('ideologically', 0.6204048991203308),\n",
      "    ('resolutely', 0.6200169324874878),\n",
      "    ('apolitical', 0.6140182614326477),\n",
      "    ('politicans', 0.6131746172904968),\n",
      "    ('espouses', 0.6130253076553345),\n",
      "    ('ideologies', 0.6124864220619202)]\n",
      "[   ('campaign', 1.0000003576278687),\n",
      "    ('campaigns', 0.794968843460083),\n",
      "    ('campaigning', 0.73048996925354),\n",
      "    ('estrich', 0.6640328168869019),\n",
      "    ('gores', 0.6527309417724609),\n",
      "    ('sasso', 0.6496798396110535),\n",
      "    ('gephardts', 0.6389736533164978),\n",
      "    ('atwater', 0.6307360529899597),\n",
      "    ('fundraising', 0.6277785897254944),\n",
      "    ('dach', 0.6268733143806458)]\n",
      "[   ('campaign', 0.8933532238006592),\n",
      "    ('political', 0.8200625777244568),\n",
      "    ('campaigns', 0.7580133080482483),\n",
      "    ('mudslinging', 0.7025280594825745),\n",
      "    ('campaigning', 0.6957234740257263),\n",
      "    ('fundraising', 0.6890807747840881),\n",
      "    ('gops', 0.6776778101921082),\n",
      "    ('rhetorical', 0.6738211512565613),\n",
      "    ('electability', 0.6724709272384644),\n",
      "    ('inevitability', 0.6719797253608704)]\n"
     ]
    }
   ],
   "source": [
    "# Pretty print the vector similarities for the report\n",
    "import pprint\n",
    "pp = pprint.PrettyPrinter(indent=4)\n",
    "pp.pprint(models[1].wv.similar_by_vector(query_vector_acid))\n",
    "pp.pprint(models[1].wv.similar_by_vector(query_vector_rain))\n",
    "pp.pprint(models[1].wv.similar_by_vector(query_vector_acid_rain))\n",
    "pp.pprint(models[1].wv.similar_by_vector(query_vector))\n",
    "pp.pprint(models[1].wv.similar_by_vector(query_vector_c))\n",
    "pp.pprint(models[1].wv.similar_by_vector(query_vector_p_c))\n"
   ]
  },
  {
   "cell_type": "markdown",
   "metadata": {},
   "source": [
    "### Task 4: Learning to rank (LTR) [15 points] (open-ended) ###\n",
    "\n",
    "In this task you will get an introduction into learning to rank for information retrieval.\n",
    "\n",
    "You can explore different ways for devising features for the model. Obviously, you can use the retrieval methods you implemented in Task 1, Task 2 and Task 3 as features. Think about other features you can use (e.g. query/document length). Creativity on devising new features and providing motivation for them will be taken into account when grading.\n",
    "\n",
    "For every query, first create a document candidate set using the top-1000 documents using TF-IDF, and subsequently compute features given a query and a document. Note that the feature values of different retrieval methods are likely to be distributed differently.\n",
    "\n",
    "You are adviced to start some pointwise learning to rank algorithm e.g. logistic regression, implemented in [scikit-learn](http://scikit-learn.org/stable/modules/generated/sklearn.linear_model.LogisticRegression.html).\n",
    "Train your LTR model using 10-fold cross validation on the test set. More advanced learning to rank algorithms will be appreciated when grading."
   ]
  },
  {
   "cell_type": "code",
   "execution_count": 217,
   "metadata": {},
   "outputs": [
    {
     "data": {
      "text/plain": [
       "0.7013213151695176"
      ]
     },
     "execution_count": 217,
     "metadata": {},
     "output_type": "execute_result"
    }
   ],
   "source": [
    "import numpy as np\n",
    "import sklearn\n",
    "import sklearn.linear_model\n",
    "\n",
    "# Compute the different weight scores\n",
    "def get_features(document_id, query):\n",
    "    query_term_ids = set(\n",
    "    query_term_id\n",
    "    for query_term_id in query)\n",
    "    tfidf_score = 0\n",
    "    for query_term in query_term_ids:\n",
    "        tfidf_score += tfidf(document_id, query_term_id, inverted_index, num_documents)\n",
    "    bm25_score = BM25(document_id, query_term_ids, inverted_index, document_lengths, 1.2, 0.75)\n",
    "    return np.asarray([tfidf_score, bm25_score])\n",
    "\n",
    "\n",
    "def make_dataset(qrel_file):\n",
    "\n",
    "    x = []\n",
    "    y = []\n",
    "    \n",
    "    with open('ap_88_89/' + qrel_file, 'r') as f:\n",
    "        for line in f:\n",
    "            query_id, _, ext_document_id, actual_score = line.split(\" \")\n",
    "            \n",
    "            if query_id in queries:\n",
    "                query_tokens = index.tokenize(queries[query_id])\n",
    "                query = [token2id.get(query_token,0) for query_token in query_tokens]\n",
    "                query = [word_id for word_id in query if word_id > 0]\n",
    "                \n",
    "                if not index.document_ids([ext_document_id]):\n",
    "                    continue\n",
    "                document_id = index.document_ids([ext_document_id])[0][1]\n",
    "                document = index.document(document_id)\n",
    "\n",
    "                x.append(get_features(document_id, query))\n",
    "                y.append(float(actual_score[0]))\n",
    "        \n",
    "    return (np.asarray(x), np.asarray(y))\n",
    "    \n",
    "data_points_used = 30000    \n",
    "    \n",
    "x, y = make_dataset('qrel_test')\n",
    "\n",
    "logist_model = sklearn.linear_model.LogisticRegression()\n",
    "logist_model.fit(x[:data_points_used], y[:data_points_used])\n",
    "logist_model.score(x[data_points_used::], y[data_points_used::])"
   ]
  },
  {
   "cell_type": "markdown",
   "metadata": {
    "collapsed": true
   },
   "source": [
    "### Task 4: Write a report [15 points; instant FAIL if not provided] ###\n",
    "\n",
    "The report should be a PDF file created using the [sigconf ACM template](https://www.acm.org/publications/proceedings-template) and will determine a significant part of your grade.\n",
    "\n",
    "   * It should explain what you have implemented, motivate your experiments and detail what you expect to learn from them. **[10 points]**\n",
    "   * Lastly, provide a convincing analysis of your results and conclude the report accordingly. **[10 points]**\n",
    "      * Do all methods perform similarly on all queries? Why?\n",
    "      * Is there a single retrieval model that outperforms all other retrieval models (i.e., silver bullet)?\n",
    "      * ...\n",
    "\n",
    "**Hand in the report and your self-contained implementation source files.** Only send us the files that matter, organized in a well-documented zip/tgz file with clear instructions on how to reproduce your results. That is, we want to be able to regenerate all your results with minimal effort. You can assume that the index and ground-truth information is present in the same file structure as the one we have provided.\n"
   ]
  },
  {
   "cell_type": "code",
   "execution_count": null,
   "metadata": {},
   "outputs": [],
   "source": []
  },
  {
   "cell_type": "code",
   "execution_count": null,
   "metadata": {},
   "outputs": [],
   "source": []
  },
  {
   "cell_type": "code",
   "execution_count": null,
   "metadata": {},
   "outputs": [],
   "source": []
  },
  {
   "cell_type": "code",
   "execution_count": null,
   "metadata": {},
   "outputs": [],
   "source": []
  }
 ],
 "metadata": {
  "anaconda-cloud": {},
  "kernelspec": {
   "display_name": "Python 3",
   "language": "python",
   "name": "python3"
  },
  "language_info": {
   "codemirror_mode": {
    "name": "ipython",
    "version": 3
   },
   "file_extension": ".py",
   "mimetype": "text/x-python",
   "name": "python",
   "nbconvert_exporter": "python",
   "pygments_lexer": "ipython3",
   "version": "3.5.2"
  }
 },
 "nbformat": 4,
 "nbformat_minor": 1
}
