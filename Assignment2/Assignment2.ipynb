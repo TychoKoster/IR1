{
 "cells": [
  {
   "cell_type": "markdown",
   "metadata": {},
   "source": [
    "# Information Retrieval 1#\n",
    "## Assignment 2: Retrieval models [100 points] ##"
   ]
  },
  {
   "cell_type": "markdown",
   "metadata": {},
   "source": [
    "In this assignment you will get familiar with basic and advanced information retrieval concepts. You will implement different information retrieval ranking models and evaluate their performance.\n",
    "\n",
    "We provide you with a Indri index. To query the index, you'll use a Python package ([pyndri](https://github.com/cvangysel/pyndri)) that allows easy access to the underlying document statistics.\n",
    "\n",
    "For evaluation you'll use the [TREC Eval](https://github.com/usnistgov/trec_eval) utility, provided by the National Institute of Standards and Technology of the United States. TREC Eval is the de facto standard way to compute Information Retrieval measures and is frequently referenced in scientific papers.\n",
    "\n",
    "This is a **groups-of-three assignment**, the deadline is **Wednesday, January 31st**. Code quality, informative comments and convincing analysis of the results will be considered when grading. Submission should be done through blackboard, questions can be asked on the course [Piazza](piazza.com/university_of_amsterdam/spring2018/52041inr6y/home).\n",
    "\n",
    "### Technicalities (must-read!) ###\n",
    "\n",
    "The assignment directory is organized as follows:\n",
    "   * `./assignment.ipynb` (this file): the description of the assignment.\n",
    "   * `./index/`: the index we prepared for you.\n",
    "   * `./ap_88_90/`: directory with ground-truth and evaluation sets:\n",
    "      * `qrel_test`: test query relevance collection (**test set**).\n",
    "      * `qrel_validation`: validation query relevance collection (**validation set**).\n",
    "      * `topics_title`: semicolon-separated file with query identifiers and terms.\n",
    "\n",
    "You will need the following software packages (tested with Python 3.5 inside [Anaconda](https://conda.io/docs/user-guide/install/index.html)):\n",
    "   * Python 3.5 and Jupyter\n",
    "   * Indri + Pyndri (Follow the installation instructions [here](https://github.com/nickvosk/pyndri/blob/master/README.md))\n",
    "   * gensim [link](https://radimrehurek.com/gensim/install.html)\n",
    "   * TREC Eval [link](https://github.com/usnistgov/trec_eval)"
   ]
  },
  {
   "cell_type": "code",
   "execution_count": null,
   "metadata": {},
   "outputs": [],
   "source": []
  },
  {
   "cell_type": "markdown",
   "metadata": {},
   "source": [
    "### TREC Eval primer ###\n",
    "The TREC Eval utility can be downloaded and compiled as follows:\n",
    "\n",
    "    git clone https://github.com/usnistgov/trec_eval.git\n",
    "    cd trec_eval\n",
    "    make\n",
    "\n",
    "TREC Eval computes evaluation scores given two files: ground-truth information regarding relevant documents, named *query relevance* or *qrel*, and a ranking of documents for a set of queries, referred to as a *run*. The *qrel* will be supplied by us and should not be changed. For every retrieval model (or combinations thereof) you will generate a run of the top-1000 documents for every query. The format of the *run* file is as follows:\n",
    "\n",
    "    $query_identifier Q0 $document_identifier $rank_of_document_for_query $query_document_similarity $run_identifier\n",
    "    \n",
    "where\n",
    "   * `$query_identifier` is the unique identifier corresponding to a query (usually this follows a sequential numbering).\n",
    "   * `Q0` is a legacy field that you can ignore.\n",
    "   * `$document_identifier` corresponds to the unique identifier of a document (e.g., APXXXXXXX where AP denotes the collection and the Xs correspond to a unique numerical identifier).\n",
    "   * `$rank_of_document_for_query` denotes the rank of the document for the particular query. This field is ignored by TREC Eval and is only maintained for legacy support. The ranks are computed by TREC Eval itself using the `$query_document_similarity` field (see next). However, it remains good practice to correctly compute this field.\n",
    "   * `$query_document_similarity` is a score indicating the similarity between query and document where a higher score denotes greater similarity.\n",
    "   * `$run_identifier` is an identifier of the run. This field is for your own convenience and has no purpose beyond bookkeeping.\n",
    "   \n",
    "For example, say we have two queries: `Q1` and `Q2` and we rank three documents (`DOC1`, `DOC2`, `DOC3`). For query `Q1`, we find the following similarity scores `score(Q1, DOC1) = 1.0`, `score(Q1, DOC2) = 0.5`, `score(Q1, DOC3) = 0.75`; and for `Q2`: `score(Q2, DOC1) = -0.1`, `score(Q2, DOC2) = 1.25`, `score(Q1, DOC3) = 0.0`. We can generate run using the following snippet:"
   ]
  },
  {
   "cell_type": "code",
   "execution_count": 2,
   "metadata": {
    "scrolled": false
   },
   "outputs": [
    {
     "name": "stdout",
     "output_type": "stream",
     "text": [
      "Q2 Q0 DOC2 1 1.25 example\n",
      "Q2 Q0 DOC3 2 0.0 example\n",
      "Q2 Q0 DOC1 3 -0.1 example\n",
      "Q1 Q0 DOC1 1 1.0 example\n",
      "Q1 Q0 DOC3 2 0.75 example\n",
      "Q1 Q0 DOC2 3 0.5 example\n"
     ]
    }
   ],
   "source": [
    "import logging\n",
    "import sys\n",
    "import os\n",
    "\n",
    "def write_run(model_name, data, out_f,\n",
    "              max_objects_per_query=sys.maxsize,\n",
    "              skip_sorting=False):\n",
    "    \"\"\"\n",
    "    Write a run to an output file.\n",
    "    Parameters:\n",
    "        - model_name: identifier of run.\n",
    "        - data: dictionary mapping topic_id to object_assesments;\n",
    "            object_assesments is an iterable (list or tuple) of\n",
    "            (relevance, object_id) pairs.\n",
    "            The object_assesments iterable is sorted by decreasing order.\n",
    "        - out_f: output file stream.\n",
    "        - max_objects_per_query: cut-off for number of objects per query.\n",
    "    \"\"\"\n",
    "    for subject_id, object_assesments in data.items():\n",
    "        if not object_assesments:\n",
    "            logging.warning('Received empty ranking for %s; ignoring.',\n",
    "                            subject_id)\n",
    "\n",
    "            continue\n",
    "\n",
    "        # Probe types, to make sure everything goes alright.\n",
    "        # assert isinstance(object_assesments[0][0], float) or \\\n",
    "        #     isinstance(object_assesments[0][0], np.float32)\n",
    "        assert isinstance(object_assesments[0][1], str) or \\\n",
    "            isinstance(object_assesments[0][1], bytes)\n",
    "\n",
    "        if not skip_sorting:\n",
    "            object_assesments = sorted(object_assesments, reverse=True)\n",
    "\n",
    "        if max_objects_per_query < sys.maxsize:\n",
    "            object_assesments = object_assesments[:max_objects_per_query]\n",
    "\n",
    "        if isinstance(subject_id, bytes):\n",
    "            subject_id = subject_id.decode('utf8')\n",
    "\n",
    "        for rank, (relevance, object_id) in enumerate(object_assesments):\n",
    "            if isinstance(object_id, bytes):\n",
    "                object_id = object_id.decode('utf8')\n",
    "\n",
    "            out_f.write(\n",
    "                '{subject} Q0 {object} {rank} {relevance} '\n",
    "                '{model_name}\\n'.format(\n",
    "                    subject=subject_id,\n",
    "                    object=object_id,\n",
    "                    rank=rank + 1,\n",
    "                    relevance=relevance,\n",
    "                    model_name=model_name))\n",
    "            \n",
    "# The following writes the run to standard output.\n",
    "# In your code, you should write the runs to local\n",
    "# storage in order to pass them to trec_eval.\n",
    "write_run(\n",
    "    model_name='example',\n",
    "    data={\n",
    "        'Q1': ((1.0, 'DOC1'), (0.5, 'DOC2'), (0.75, 'DOC3')),\n",
    "        'Q2': ((-0.1, 'DOC1'), (1.25, 'DOC2'), (0.0, 'DOC3')),\n",
    "    },\n",
    "    out_f=sys.stdout,\n",
    "    max_objects_per_query=1000)"
   ]
  },
  {
   "cell_type": "markdown",
   "metadata": {},
   "source": [
    "Now, imagine that we know that `DOC1` is relevant and `DOC3` is non-relevant for `Q1`. In addition, for `Q2` we only know of the relevance of `DOC3`. The query relevance file looks like:\n",
    "\n",
    "    Q1 0 DOC1 1\n",
    "    Q1 0 DOC3 0\n",
    "    Q2 0 DOC3 1\n",
    "    \n",
    "We store the run and qrel in files `example.run` and `example.qrel` respectively on disk. We can now use TREC Eval to compute evaluation measures. In this example, we're only interested in Mean Average Precision and we'll only show this below for brevity. However, TREC Eval outputs much more information such as NDCG, recall, precision, etc.\n",
    "\n",
    "    $ trec_eval -m all_trec -q example.qrel example.run | grep -E \"^map\\s\"\n",
    "    > map                   \tQ1\t1.0000\n",
    "    > map                   \tQ2\t0.5000\n",
    "    > map                   \tall\t0.7500\n",
    "    \n",
    "Now that we've discussed the output format of rankings and how you can compute evaluation measures from these rankings, we'll now proceed with an overview of the indexing framework you'll use."
   ]
  },
  {
   "cell_type": "markdown",
   "metadata": {},
   "source": [
    "### Pyndri primer ###\n",
    "For this assignment you will use [Pyndri](https://github.com/cvangysel/pyndri) [[1](https://arxiv.org/abs/1701.00749)], a python interface for [Indri](https://www.lemurproject.org/indri.php). We have indexed the document collection and you can query the index using Pyndri. We will start by giving you some examples of what Pyndri can do:\n",
    "\n",
    "First we read the document collection index with Pyndri:"
   ]
  },
  {
   "cell_type": "code",
   "execution_count": 3,
   "metadata": {
    "scrolled": true
   },
   "outputs": [],
   "source": [
    "import pyndri\n",
    "\n",
    "index = pyndri.Index('index/')"
   ]
  },
  {
   "cell_type": "markdown",
   "metadata": {},
   "source": [
    "The loaded index can be used to access a collection of documents in an easy manner. We'll give you some examples to get some idea of what it can do, it is up to you to figure out how to use it for the remainder of the assignment.\n",
    "\n",
    "First let's look at the number of documents, since Pyndri indexes the documents using incremental identifiers we can simply take the lowest index and the maximum document and consider the difference:"
   ]
  },
  {
   "cell_type": "code",
   "execution_count": 4,
   "metadata": {},
   "outputs": [
    {
     "name": "stdout",
     "output_type": "stream",
     "text": [
      "There are 164597 documents in this collection.\n"
     ]
    }
   ],
   "source": [
    "print(\"There are %d documents in this collection.\" % (index.maximum_document() - index.document_base()))"
   ]
  },
  {
   "cell_type": "markdown",
   "metadata": {},
   "source": [
    "Let's take the first document out of the collection and take a look at it:"
   ]
  },
  {
   "cell_type": "code",
   "execution_count": 5,
   "metadata": {
    "scrolled": true
   },
   "outputs": [
    {
     "name": "stdout",
     "output_type": "stream",
     "text": [
      "('AP890425-0001', (1360, 192, 363, 0, 880, 0, 200, 0, 894, 412, 92160, 3, 192, 0, 363, 34, 1441, 0, 174134, 0, 200, 0, 894, 412, 2652, 0, 810, 107, 49, 4903, 420, 0, 1, 48, 35, 489, 0, 35, 687, 192, 243, 0, 249311, 1877, 0, 1651, 1174, 0, 2701, 117, 412, 0, 810, 391, 245233, 1225, 5838, 16, 0, 233156, 3496, 0, 393, 17, 0, 2435, 4819, 930, 0, 0, 200, 0, 894, 0, 22, 398, 145, 0, 3, 271, 115, 0, 1176, 2777, 292, 0, 725, 192, 0, 0, 50046, 0, 1901, 1130, 0, 192, 0, 408, 0, 243779, 0, 0, 553, 192, 0, 363, 0, 3747, 0, 0, 0, 0, 1176, 0, 1239, 0, 0, 1115, 17, 0, 0, 585, 192, 1963, 0, 0, 412, 54356, 0, 773, 0, 0, 0, 192, 0, 0, 1130, 0, 363, 0, 545, 192, 0, 1174, 1901, 1130, 0, 4, 398, 145, 39, 0, 577, 0, 355, 0, 491, 0, 6025, 0, 0, 193156, 88, 34, 437, 0, 0, 1852, 0, 828, 0, 1588, 0, 0, 0, 2615, 0, 0, 107, 49, 420, 0, 0, 190, 7, 714, 2701, 0, 237, 192, 157, 0, 412, 34, 437, 0, 0, 200, 6025, 26, 0, 0, 0, 0, 363, 0, 22, 398, 145, 0, 200, 638, 126222, 6018, 0, 880, 0, 0, 161, 0, 0, 319, 894, 2701, 0, 0, 0, 301, 1200, 0, 363, 251, 430, 0, 207, 0, 76143, 1773, 0, 243779, 0, 0, 72030, 0, 55, 4903, 420, 0, 2701, 1496, 420, 0, 25480, 0, 420, 0, 0, 200, 0, 392, 2949, 0, 1738, 0, 61, 0, 71, 79, 0, 200, 903, 0, 188, 53, 6, 0, 476, 2, 0, 2028, 97, 334, 0, 0, 200, 178, 0, 0, 107, 49, 0, 214, 0, 0, 0, 114, 3866, 1505, 195, 79893, 574, 0, 198, 2160, 0, 192, 0, 420, 0, 384, 0, 2701, 0, 114, 6025, 1549, 74627, 0, 238, 0, 0, 0, 3729, 0, 192, 0, 79893, 0, 0, 729, 3141, 129, 0, 192, 196764, 39, 0, 0, 714, 63, 0, 55, 420, 3356, 0, 0, 117, 412, 0, 0, 79758, 0, 1901, 1130, 4067, 2133, 0, 0, 875, 72, 0, 0, 336, 2789, 0, 0, 25, 920, 121, 104, 0, 3162, 0, 0, 420, 0, 2178, 0, 0, 386, 192545, 159306, 0, 0, 0, 1914, 0, 200, 0, 1794, 0, 2654, 0, 0, 25480, 420, 0, 2795, 0, 0, 229690, 0, 32559, 0, 0, 392, 253919, 0, 0, 0, 0, 379, 0, 0, 114, 0, 553, 10, 0, 1128, 0, 23610, 248, 151, 0, 418, 0, 651, 0, 36, 0, 0, 645, 0, 0, 513, 0, 0, 25480, 420, 34, 0, 0, 0, 15, 0, 3348, 0, 3496, 0, 35, 687, 0, 1, 48, 0, 0, 2803, 0, 0, 714, 1274, 0, 114, 62, 1006, 70268, 1200, 2357, 0, 497, 0, 497, 125, 0, 913, 4647, 3985, 0, 0, 3370, 245233, 0, 0, 687, 0, 4, 1288, 0, 0, 0, 0, 715, 0, 0, 687, 583, 0, 0, 1627, 0, 0, 11, 357, 1359, 0, 849, 0, 0, 1518, 462, 245233, 0, 0, 0, 0, 0, 0, 171, 70268, 0))\n"
     ]
    }
   ],
   "source": [
    "example_document = index.document(index.document_base())\n",
    "print(example_document)"
   ]
  },
  {
   "cell_type": "markdown",
   "metadata": {},
   "source": [
    "Here we see a document consists of two things, a string representing the external document identifier and an integer list representing the identifiers of words that make up the document. Pyndri uses integer representations for words or terms, thus a token_id is an integer that represents a word whereas the token is the actual text of the word/term. Every id has a unique token and vice versa with the exception of stop words: words so common that there are uninformative, all of these receive the zero id.\n",
    "\n",
    "To see what some ids and their matching tokens we take a look at the dictionary of the index:"
   ]
  },
  {
   "cell_type": "code",
   "execution_count": 6,
   "metadata": {},
   "outputs": [
    {
     "name": "stdout",
     "output_type": "stream",
     "text": [
      "[(1, 'new'), (2, 'percent'), (3, 'two'), (4, '1'), (5, 'people'), (6, 'million'), (7, '000'), (8, 'government'), (9, 'president'), (10, 'years'), (11, 'state'), (12, '2'), (13, 'states'), (14, 'three'), (15, 'time')]\n"
     ]
    }
   ],
   "source": [
    "token2id, id2token, _ = index.get_dictionary()\n",
    "print(list(id2token.items())[:15])"
   ]
  },
  {
   "cell_type": "markdown",
   "metadata": {},
   "source": [
    "Using this dictionary we can see the tokens for the (non-stop) words in our example document:"
   ]
  },
  {
   "cell_type": "code",
   "execution_count": 7,
   "metadata": {},
   "outputs": [
    {
     "name": "stdout",
     "output_type": "stream",
     "text": [
      "['52', 'students', 'arrested', 'takeover', 'university', 'massachusetts', 'building', 'fifty', 'two', 'students', 'arrested', 'tuesday', 'evening', 'occupying', 'university', 'massachusetts', 'building', 'overnight', 'protest', 'defense', 'department', 'funded', 'research', 'new', 'york', 'city', 'thousands', 'city', 'college', 'students', 'got', 'unscheduled', 'holiday', 'demonstrators', 'occupied', 'campus', 'administration', 'building', 'protest', 'possible', 'tuition', 'increases', 'prompting', 'officials', 'suspend', 'classes', '60', 'police', 'riot', 'gear', 'arrived', 'university', 'massachusetts', '5', 'p', 'm', 'two', 'hours', 'later', 'bus', 'drove', 'away', '29', 'students', 'camped', 'memorial', 'hall', 'students', 'charged', 'trespassing', '23', 'students', 'arrested', 'lying', 'bus', 'prevent', 'leaving', 'police', '300', 'students', 'stood', 'building', 'chanting', 'looking', 'students', 'hall', 'arrested', '35', 'students', 'occupied', 'memorial', 'hall', '1', 'p', 'm', 'monday', 'declined', 'offer', 'meet', 'administrators', 'provosts', 'office', 'tuesday', 'morning', 'presented', 'list', 'demands', 'halt', 'defense', 'department', 'research', '25', '000', 'student', 'campus', '40', 'students', 'left', 'building', 'tuesday', 'morning', 'university', 'administrators', 'told', 'arrested', '5', 'p', 'm', 'university', 'spokeswoman', 'jeanne', 'hopkins', 'takeover', 'second', 'western', 'massachusetts', 'campus', 'seven', 'protesters', 'arrested', 'april', '19', 'charges', 'disorderly', 'conduct', 'trespassing', 'demonstrating', 'military', 'funded', 'research', 'campus', 'particularly', 'research', 'anthrax', 'research', 'university', 'non', 'classified', 'researchers', 'make', 'work', 'public', 'university', 'rules', '11', '6', 'million', '22', 'percent', 'grant', 'money', 'received', 'university', 'came', 'defense', 'department', '1988', 'school', 'chancellor', 'joseph', 'd', 'duffey', 'issued', 'statement', 'telling', 'students', 'research', 'continue', 'campus', 'school', 'administrators', 'decide', 'differently', 'policy', 'negotiated', 'students', 'duffey', 'latest', 'occupation', 'began', 'students', 'rallying', 'monday', 'student', 'union', 'military', 'research', 'marched', 'administration', 'building', 'ducked', 'memorial', 'hall', 'en', 'route', 'followed', 'members', 'local', 'chapter', 'american', 'friends', 'service', 'committee', 'contended', 'research', 'dangerous', 'town', 'promotes', 'militarism', 'banned', 'university', 'argued', 'purpose', 'anthrax', 'research', 'peaceful', 'strain', 'bacteria', 'non', 'virulent', 'study', 'school', '23', 'years', 'incident', 'amherst', 'health', 'board', 'scheduled', 'hearing', 'wednesday', 'question', 'safety', 'anthrax', 'research', 'tuesday', 'time', '1969', 'classes', 'city', 'college', 'new', 'york', 'canceled', 'student', 'protests', 'school', 'spokesman', 'charles', 'deciccio', 'protesters', 'demanding', 'face', 'face', 'meeting', 'gov', 'mario', 'cuomo', 'feared', 'tuition', 'college', '1', '250', 'increased', 'college', 'staff', 'reduced', 'state', 'budget', 'cuts', 'governor', 'immediate', 'comment', 'tuition', 'set', 'deciccio']\n"
     ]
    }
   ],
   "source": [
    "print([id2token[word_id] for word_id in example_document[1] if word_id > 0])"
   ]
  },
  {
   "cell_type": "markdown",
   "metadata": {},
   "source": [
    "The reverse can also be done, say we want to look for news about the \"University of Massachusetts\", the tokens of that query can be converted to ids using the reverse dictionary:"
   ]
  },
  {
   "cell_type": "code",
   "execution_count": 8,
   "metadata": {},
   "outputs": [
    {
     "name": "stdout",
     "output_type": "stream",
     "text": [
      "Query by tokens: ['university', '', 'massachusetts']\n",
      "Query by ids with stopwords: [200, 0, 894]\n",
      "Query by ids without stopwords: [200, 894]\n"
     ]
    }
   ],
   "source": [
    "query_tokens = index.tokenize(\"University of Massachusetts\")\n",
    "print(\"Query by tokens:\", query_tokens)\n",
    "query_id_tokens = [token2id.get(query_token,0) for query_token in query_tokens]\n",
    "print(\"Query by ids with stopwords:\", query_id_tokens)\n",
    "query_id_tokens = [word_id for word_id in query_id_tokens if word_id > 0]\n",
    "print(\"Query by ids without stopwords:\", query_id_tokens)"
   ]
  },
  {
   "cell_type": "markdown",
   "metadata": {},
   "source": [
    "Naturally we can now match the document and query in the id space, let's see how often a word from the query occurs in our example document:"
   ]
  },
  {
   "cell_type": "code",
   "execution_count": 9,
   "metadata": {},
   "outputs": [
    {
     "name": "stdout",
     "output_type": "stream",
     "text": [
      "Document AP890425-0001 has 13 word matches with query: \"university  massachusetts\".\n",
      "Document AP890425-0001 and query \"university  massachusetts\" have a 2.5% overlap.\n"
     ]
    }
   ],
   "source": [
    "matching_words = sum([True for word_id in example_document[1] if word_id in query_id_tokens])\n",
    "print(\"Document %s has %d word matches with query: \\\"%s\\\".\" % (example_document[0], matching_words, ' '.join(query_tokens)))\n",
    "print(\"Document %s and query \\\"%s\\\" have a %.01f%% overlap.\" % (example_document[0], ' '.join(query_tokens),matching_words/float(len(example_document[1]))*100))"
   ]
  },
  {
   "cell_type": "markdown",
   "metadata": {},
   "source": [
    "While this is certainly not everything Pyndri can do, it should give you an idea of how to use it. Please take a look at the [examples](https://github.com/cvangysel/pyndri) as it will help you a lot with this assignment.\n",
    "\n",
    "**CAUTION**: Avoid printing out the whole index in this Notebook as it will generate a lot of output and is likely to corrupt the Notebook."
   ]
  },
  {
   "cell_type": "markdown",
   "metadata": {},
   "source": [
    "### Parsing the query file\n",
    "You can parse the query file (`ap_88_89/topics_title`) using the following snippet:"
   ]
  },
  {
   "cell_type": "code",
   "execution_count": 10,
   "metadata": {},
   "outputs": [
    {
     "name": "stdout",
     "output_type": "stream",
     "text": [
      "OrderedDict([('51', 'Airbus Subsidies'), ('52', 'South African Sanctions'), ('53', 'Leveraged Buyouts'), ('54', 'Satellite Launch Contracts'), ('55', 'Insider Trading'), ('56', 'Prime (Lending) Rate Moves, Predictions'), ('57', 'MCI'), ('58', 'Rail Strikes'), ('59', 'Weather Related Fatalities'), ('60', 'Merit-Pay vs. Seniority'), ('61', 'Israeli Role in Iran-Contra Affair'), ('62', \"Military Coups D'etat\"), ('63', 'Machine Translation'), ('64', 'Hostage-Taking'), ('65', 'Information Retrieval Systems'), ('66', 'Natural Language Processing'), ('67', 'Politically Motivated Civil Disturbances'), ('68', 'Health Hazards from Fine-Diameter Fibers'), ('69', 'Attempts to Revive the SALT II Treaty'), ('70', 'Surrogate Motherhood'), ('71', 'Border Incursions'), ('72', 'Demographic Shifts in the U.S.'), ('73', 'Demographic Shifts across National Boundaries'), ('74', 'Conflicting Policy'), ('75', 'Automation'), ('76', 'U.S. Constitution - Original Intent'), ('77', 'Poaching'), ('78', 'Greenpeace'), ('79', 'FRG Political Party Positions'), ('80', '1988 Presidential Candidates Platforms'), ('81', 'Financial crunch for televangelists in the wake of the PTL scandal'), ('82', 'Genetic Engineering'), ('83', 'Measures to Protect the Atmosphere'), ('84', 'Alternative/renewable Energy Plant & Equipment Installation'), ('85', 'Official Corruption'), ('86', 'Bank Failures'), ('87', 'Criminal Actions Against Officers of Failed Financial Institutions'), ('88', 'Crude Oil Price Trends'), ('89', '\"Downstream\" Investments by OPEC Member States'), ('90', 'Data on Proven Reserves of Oil & Natural Gas Producers'), ('91', 'U.S. Army Acquisition of Advanced Weapons Systems'), ('92', 'International Military Equipment Sales'), ('93', 'What Backing Does the National Rifle Association Have?'), ('94', 'Computer-aided Crime'), ('95', 'Computer-aided Crime Detection'), ('96', 'Computer-Aided Medical Diagnosis'), ('97', 'Fiber Optics Applications'), ('98', 'Fiber Optics Equipment Manufacturers'), ('99', 'Iran-Contra Affair'), ('100', 'Controlling the Transfer of High Technology'), ('101', 'Design of the \"Star Wars\" Anti-missile Defense System'), ('102', \"Laser Research Applicable to the U.S.'s Strategic Defense Initiative\"), ('103', 'Welfare Reform'), ('104', 'Catastrophic Health Insurance'), ('105', '\"Black Monday\"'), ('106', 'U.S. Control of Insider Trading'), ('107', 'Japanese Regulation of Insider Trading'), ('108', 'Japanese Protectionist Measures'), ('109', 'Find Innovative Companies'), ('110', 'Black Resistance Against the South African Government'), ('111', 'Nuclear Proliferation'), ('112', 'Funding Biotechnology'), ('113', 'New Space Satellite Applications'), ('114', 'Non-commercial Satellite Launches'), ('115', 'Impact of the 1986 Immigration Law'), ('116', 'Generic Drug Substitutions'), ('117', 'Capacity of the U.S. Cellular Telephone Network'), ('118', 'International Terrorists'), ('119', 'Actions Against International Terrorists'), ('120', 'Economic Impact of International Terrorism'), ('121', 'Death from Cancer'), ('122', 'RDT&E of New Cancer Fighting Drugs'), ('123', 'Research into & Control of Carcinogens'), ('124', 'Alternatives to Traditional Cancer Therapies'), ('125', 'Anti-smoking Actions by Government'), ('126', 'Medical Ethics and Modern Technology'), ('127', 'U.S.-U.S.S.R. Arms Control Agreements'), ('128', 'Privatization of State Assets'), ('129', 'Soviet Spying on the U.S.'), ('130', 'Jewish Emigration and U.S.-USSR Relations'), ('131', 'McDonnell Douglas Contracts for Military Aircraft'), ('132', '\"Stealth\" Aircraft'), ('133', 'Hubble Space Telescope'), ('134', 'The Human Genome Project'), ('135', 'Possible Contributions of Gene Mapping to Medicine'), ('136', 'Diversification by Pacific Telesis'), ('137', 'Expansion in the U.S. Theme Park Industry'), ('138', 'Iranian Support for Lebanese Hostage-takers'), ('139', \"Iran's Islamic Revolution - Domestic and Foreign Social Consequences\"), ('140', 'Political Impact of Islamic Fundamentalism'), ('141', \"Japan's Handling of its Trade Surplus with the U.S.\"), ('142', 'Impact of Government Regulated Grain Farming on International Relations'), ('143', 'Why Protect U.S. Farmers?'), ('144', 'Management Problems at the United Nations'), ('145', 'Influence of the \"Pro-Israel Lobby\"'), ('146', 'Negotiating an End to the Nicaraguan Civil War'), ('147', 'Productivity Trends in the U.S. Economy'), ('148', 'Conflict in the Horn of Africa'), ('149', 'Industrial Espionage'), ('150', 'U.S. Political Campaign Financing'), ('151', 'Coping with overcrowded prisons'), ('152', 'Accusations of Cheating by Contractors on U.S. Defense Projects'), ('153', 'Insurance Coverage which pays for Long Term Care'), ('154', 'Oil Spills'), ('155', 'Right Wing Christian Fundamentalism in U.S.'), ('156', 'Efforts to enact Gun Control Legislation'), ('157', 'Causes and treatments of multiple sclerosis (MS)'), ('158', 'Term limitations for members of the U.S. Congress'), ('159', 'Electric Car Development'), ('160', 'Vitamins - The Cure for or Cause of Human Ailments'), ('161', 'Acid Rain'), ('162', 'Automobile Recalls'), ('163', 'Vietnam Veterans and Agent Orange'), ('164', 'Generic Drugs - Illegal Activities by Manufacturers'), ('165', 'Tobacco company advertising and the young'), ('166', 'Standardized testing and cultural bias'), ('167', 'Regulation of the showing of violence and explicit sex in motion picture theaters, on television, and on video cassettes.'), ('168', 'Financing AMTRAK'), ('169', 'Cost of Garbage/Trash Removal'), ('170', 'The Consequences of Implantation of Silicone Gel Breast Devices'), ('171', \"Use of Mutual Funds in an Individual's Retirement Strategy\"), ('172', 'The Effectiveness of Medical Products and Related Programs Utilized in the Cessation of Smoking.'), ('173', 'Smoking Bans'), ('174', 'Hazardous Waste Cleanup'), ('175', 'NRA Prevention of Gun Control Legislation'), ('176', 'Real-life private investigators'), ('177', 'English as the Official Language in U.S.'), ('178', 'Dog Maulings'), ('179', 'U. S. Restaurants in Foreign Lands'), ('180', 'Ineffectiveness of U.S. Embargoes/Sanctions'), ('181', 'Abuse of the Elderly by Family Members, and Medical and Nonmedical Personnel, and Initiatives Being Taken to Minimize This Mistreatment'), ('182', 'Commercial Overfishing Creates Food Fish Deficit'), ('183', 'Asbestos Related Lawsuits'), ('184', 'Corporate Pension Plans/Funds'), ('185', 'Reform of the U.S. Welfare System'), ('186', 'Difference of Learning Levels Among Inner City and More Suburban School Students'), ('187', 'Signs of the Demise of Independent Publishing'), ('188', 'Beachfront Erosion'), ('189', 'Real Motives for Murder'), ('190', 'Instances of Fraud Involving the Use of a Computer'), ('191', 'Efforts to Improve U.S. Schooling'), ('192', 'Oil Spill Cleanup'), ('193', 'Toys R Dangerous'), ('194', 'The Amount of Money Earned by Writers'), ('195', 'Stock Market Perturbations Attributable to Computer Initiated Trading'), ('196', 'School Choice Voucher System and its effects upon the entire U.S. educational program'), ('197', 'Reform of the jurisprudence system to stop juries from granting unreasonable monetary awards'), ('198', 'Gene Therapy and Its Benefits to Humankind'), ('199', 'Legality of Medically Assisted Suicides'), ('200', 'Impact of foreign textile imports on U.S. textile industry')])\n"
     ]
    }
   ],
   "source": [
    "import collections\n",
    "import io\n",
    "import logging\n",
    "import sys\n",
    "import time\n",
    "\n",
    "def parse_topics(file_or_files,\n",
    "                 max_topics=sys.maxsize, delimiter=';'):\n",
    "    assert max_topics >= 0 or max_topics is None\n",
    "\n",
    "    topics = collections.OrderedDict()\n",
    "\n",
    "    if not isinstance(file_or_files, list) and \\\n",
    "            not isinstance(file_or_files, tuple):\n",
    "        if hasattr(file_or_files, '__iter__'):\n",
    "            file_or_files = list(file_or_files)\n",
    "        else:\n",
    "            file_or_files = [file_or_files]\n",
    "\n",
    "    for f in file_or_files:\n",
    "        assert isinstance(f, io.IOBase)\n",
    "\n",
    "        for line in f:\n",
    "            assert(isinstance(line, str))\n",
    "\n",
    "            line = line.strip()\n",
    "\n",
    "            if not line:\n",
    "                continue\n",
    "\n",
    "            topic_id, terms = line.split(delimiter, 1)\n",
    "\n",
    "            if topic_id in topics and (topics[topic_id] != terms):\n",
    "                    logging.error('Duplicate topic \"%s\" (%s vs. %s).',\n",
    "                                  topic_id,\n",
    "                                  topics[topic_id],\n",
    "                                  terms)\n",
    "\n",
    "            topics[topic_id] = terms\n",
    "\n",
    "            if max_topics > 0 and len(topics) >= max_topics:\n",
    "                break\n",
    "\n",
    "    return topics\n",
    "\n",
    "with open('./ap_88_89/topics_title', 'r') as f_topics:\n",
    "    print(parse_topics([f_topics]))"
   ]
  },
  {
   "cell_type": "markdown",
   "metadata": {},
   "source": [
    "### Task 1: Implement and compare lexical IR methods [35 points] ### \n",
    "\n",
    "In this task you will implement a number of lexical methods for IR using the **Pyndri** framework. Then you will evaluate these methods on the dataset we have provided using **TREC Eval**.\n",
    "\n",
    "Use the **Pyndri** framework to get statistics of the documents (term frequency, document frequency, collection frequency; **you are not allowed to use the query functionality of Pyndri**) and implement the following scoring methods in **Python**:\n",
    "\n",
    "- [TF-IDF](http://nlp.stanford.edu/IR-book/html/htmledition/tf-idf-weighting-1.html) and \n",
    "- [BM25](http://nlp.stanford.edu/IR-book/html/htmledition/okapi-bm25-a-non-binary-model-1.html) with k1=1.2 and b=0.75. **[5 points]**\n",
    "- Language models ([survey](https://drive.google.com/file/d/0B-zklbckv9CHc0c3b245UW90NE0/view))\n",
    "    - Jelinek-Mercer (explore different values of 𝛌 in the range [0.1, 0.5, 0.9]). **[5 points]**\n",
    "    - Dirichlet Prior (explore different values of 𝛍 [500, 1000, 1500]). **[5 points]**\n",
    "    - Absolute discounting (explore different values of 𝛅 in the range [0.1, 0.5, 0.9]). **[5 points]**\n",
    "    - [Positional Language Models](http://sifaka.cs.uiuc.edu/~ylv2/pub/sigir09-plm.pdf) define a language model for each position of a document, and score a document based on the scores of its PLMs. The PLM is estimated based on propagated counts of words within a document through a proximity-based density function, which both captures proximity heuristics and achieves an effect of “soft” passage retrieval. Implement the PLM, all five kernels, but only the Best position strategy to score documents. Use 𝛔 equal to 50, and Dirichlet smoothing with 𝛍 optimized on the validation set (decide how to optimize this value yourself and motivate your decision in the report). **[10 points]**\n",
    "    \n",
    "Implement the above methods and report evaluation measures (on the test set) using the hyper parameter values you optimized on the validation set (also report the values of the hyper parameters). Use TREC Eval to obtain the results and report on `NDCG@10`, Mean Average Precision (`MAP@1000`), `Precision@5` and `Recall@1000`.\n",
    "\n",
    "For the language models, create plots showing `NDCG@10` with varying values of the parameters. You can do this by chaining small scripts using shell scripting (preferred) or execute trec_eval using Python's `subprocess`.\n",
    "\n",
    "Compute significance of the results using a [two-tailed paired Student t-test](https://docs.scipy.org/doc/scipy/reference/generated/scipy.stats.ttest_rel.html) **[5 points]**. Be wary of false rejection of the null hypothesis caused by the [multiple comparisons problem](https://en.wikipedia.org/wiki/Multiple_comparisons_problem). There are multiple ways to mitigate this problem and it is up to you to choose one.\n",
    "\n",
    "Analyse the results by identifying specific queries where different methods succeed or fail and discuss possible reasons that cause these differences. This is *very important* in order to understand who the different retrieval functions behave.\n",
    "\n",
    "**NOTE**: Don’t forget to use log computations in your calculations to avoid underflows. "
   ]
  },
  {
   "cell_type": "markdown",
   "metadata": {},
   "source": [
    "**IMPORTANT**: You should structure your code around the helper functions we provide below."
   ]
  },
  {
   "cell_type": "code",
   "execution_count": 12,
   "metadata": {},
   "outputs": [
    {
     "name": "stdout",
     "output_type": "stream",
     "text": [
      "Gathering statistics about 456 terms.\n"
     ]
    }
   ],
   "source": [
    "with open('./ap_88_89/topics_title', 'r') as f_topics:\n",
    "    queries = parse_topics([f_topics])\n",
    "\n",
    "index = pyndri.Index('index/')\n",
    "\n",
    "num_documents = index.maximum_document() - index.document_base()\n",
    "\n",
    "dictionary = pyndri.extract_dictionary(index)\n",
    "\n",
    "tokenized_queries = {\n",
    "    query_id: [dictionary.translate_token(token)\n",
    "               for token in index.tokenize(query_string)\n",
    "               if dictionary.has_token(token)]\n",
    "    for query_id, query_string in queries.items()}\n",
    "\n",
    "query_term_ids = set(\n",
    "    query_term_id\n",
    "    for query_term_ids in tokenized_queries.values()\n",
    "    for query_term_id in query_term_ids)\n",
    "\n",
    "print('Gathering statistics about', len(query_term_ids), 'terms.')\n",
    "\n",
    "# inverted index creation.\n",
    "\n",
    "document_lengths = {}\n",
    "unique_terms_per_document = {}\n",
    "\n",
    "inverted_index = collections.defaultdict(dict)\n",
    "collection_frequencies = collections.defaultdict(int)\n",
    "total_terms = 0\n",
    "\n",
    "for int_doc_id in range(index.document_base(), index.maximum_document()):\n",
    "    ext_doc_id, doc_token_ids = index.document(int_doc_id)\n",
    "\n",
    "    document_bow = collections.Counter(\n",
    "        token_id for token_id in doc_token_ids\n",
    "        if token_id > 0)\n",
    "    document_length = sum(document_bow.values())\n",
    "\n",
    "    document_lengths[int_doc_id] = document_length\n",
    "    total_terms += document_length\n",
    "\n",
    "    unique_terms_per_document[int_doc_id] = len(document_bow)\n",
    "\n",
    "    for query_term_id in query_term_ids:\n",
    "        assert query_term_id is not None\n",
    "\n",
    "        document_term_frequency = document_bow.get(query_term_id, 0)\n",
    "\n",
    "        if document_term_frequency == 0:\n",
    "            continue\n",
    "\n",
    "        collection_frequencies[query_term_id] += document_term_frequency\n",
    "        inverted_index[query_term_id][int_doc_id] = document_term_frequency\n",
    "\n",
    "avg_doc_length = total_terms / num_documents\n",
    "\n",
    "# print('Inverted index creation took', time.time() - start_time, 'seconds.')"
   ]
  },
  {
   "cell_type": "code",
   "execution_count": 114,
   "metadata": {},
   "outputs": [
    {
     "name": "stdout",
     "output_type": "stream",
     "text": [
      "Retrieving using BM25\n"
     ]
    },
    {
     "ename": "KeyboardInterrupt",
     "evalue": "",
     "output_type": "error",
     "traceback": [
      "\u001b[0;31m---------------------------------------------------------------------------\u001b[0m",
      "\u001b[0;31mKeyboardInterrupt\u001b[0m                         Traceback (most recent call last)",
      "\u001b[0;32m<ipython-input-114-d668fa33c592>\u001b[0m in \u001b[0;36m<module>\u001b[0;34m()\u001b[0m\n\u001b[1;32m     63\u001b[0m \u001b[0mparams\u001b[0m \u001b[0;34m=\u001b[0m \u001b[0;34m[\u001b[0m\u001b[0;36m50\u001b[0m\u001b[0;34m,\u001b[0m \u001b[0;36m500\u001b[0m\u001b[0;34m]\u001b[0m\u001b[0;34m\u001b[0m\u001b[0m\n\u001b[1;32m     64\u001b[0m \u001b[0mbm25_params\u001b[0m \u001b[0;34m=\u001b[0m \u001b[0;34m[\u001b[0m\u001b[0;36m1.2\u001b[0m\u001b[0;34m,\u001b[0m \u001b[0;36m0.75\u001b[0m\u001b[0;34m]\u001b[0m\u001b[0;34m\u001b[0m\u001b[0m\n\u001b[0;32m---> 65\u001b[0;31m \u001b[0mrun_retrieval\u001b[0m\u001b[0;34m(\u001b[0m\u001b[0;34m'BM25'\u001b[0m\u001b[0;34m,\u001b[0m \u001b[0mBM25\u001b[0m\u001b[0;34m,\u001b[0m \u001b[0mbm25_params\u001b[0m\u001b[0;34m)\u001b[0m\u001b[0;34m\u001b[0m\u001b[0m\n\u001b[0m",
      "\u001b[0;32m<ipython-input-114-d668fa33c592>\u001b[0m in \u001b[0;36mrun_retrieval\u001b[0;34m(model_name, score_fn, params)\u001b[0m\n\u001b[1;32m     33\u001b[0m                 \u001b[0mk1\u001b[0m \u001b[0;34m=\u001b[0m \u001b[0mparams\u001b[0m\u001b[0;34m[\u001b[0m\u001b[0;36m0\u001b[0m\u001b[0;34m]\u001b[0m\u001b[0;34m\u001b[0m\u001b[0m\n\u001b[1;32m     34\u001b[0m                 \u001b[0mb\u001b[0m \u001b[0;34m=\u001b[0m \u001b[0mparams\u001b[0m\u001b[0;34m[\u001b[0m\u001b[0;36m1\u001b[0m\u001b[0;34m]\u001b[0m\u001b[0;34m\u001b[0m\u001b[0m\n\u001b[0;32m---> 35\u001b[0;31m                 \u001b[0mscore\u001b[0m \u001b[0;34m=\u001b[0m \u001b[0mscore_fn\u001b[0m\u001b[0;34m(\u001b[0m\u001b[0mdoc_id\u001b[0m\u001b[0;34m,\u001b[0m \u001b[0mtokenized_queries\u001b[0m\u001b[0;34m[\u001b[0m\u001b[0mquery_id\u001b[0m\u001b[0;34m]\u001b[0m\u001b[0;34m,\u001b[0m \u001b[0minverted_index\u001b[0m\u001b[0;34m,\u001b[0m \u001b[0mdocument_lengths\u001b[0m\u001b[0;34m,\u001b[0m \u001b[0mk1\u001b[0m\u001b[0;34m,\u001b[0m \u001b[0mb\u001b[0m\u001b[0;34m)\u001b[0m\u001b[0;34m\u001b[0m\u001b[0m\n\u001b[0m\u001b[1;32m     36\u001b[0m             \u001b[0;32melif\u001b[0m \u001b[0mmodel_name\u001b[0m \u001b[0;34m==\u001b[0m \u001b[0;34m'JM'\u001b[0m \u001b[0;32mor\u001b[0m \u001b[0mmodel_name\u001b[0m \u001b[0;34m==\u001b[0m \u001b[0;34m'DP'\u001b[0m \u001b[0;32mor\u001b[0m \u001b[0mmodel_name\u001b[0m \u001b[0;34m==\u001b[0m \u001b[0;34m'AD'\u001b[0m\u001b[0;34m:\u001b[0m\u001b[0;34m\u001b[0m\u001b[0m\n\u001b[1;32m     37\u001b[0m                 \u001b[0mparam\u001b[0m \u001b[0;34m=\u001b[0m \u001b[0mparams\u001b[0m\u001b[0;34m[\u001b[0m\u001b[0;36m0\u001b[0m\u001b[0;34m]\u001b[0m\u001b[0;34m\u001b[0m\u001b[0m\n",
      "\u001b[0;32m<ipython-input-110-a276c5116bc9>\u001b[0m in \u001b[0;36mBM25\u001b[0;34m(document_id, query_ids, inverted_index, document_lengths, k1, b)\u001b[0m\n\u001b[1;32m      3\u001b[0m     \u001b[0munique_query_terms\u001b[0m \u001b[0;34m=\u001b[0m \u001b[0mset\u001b[0m\u001b[0;34m(\u001b[0m\u001b[0mquery_ids\u001b[0m\u001b[0;34m)\u001b[0m\u001b[0;34m\u001b[0m\u001b[0m\n\u001b[1;32m      4\u001b[0m     \u001b[0ml_d\u001b[0m \u001b[0;34m=\u001b[0m \u001b[0mdocument_lengths\u001b[0m\u001b[0;34m[\u001b[0m\u001b[0mdocument_id\u001b[0m\u001b[0;34m]\u001b[0m\u001b[0;34m\u001b[0m\u001b[0m\n\u001b[0;32m----> 5\u001b[0;31m     \u001b[0mtotal_length\u001b[0m \u001b[0;34m=\u001b[0m \u001b[0msum\u001b[0m\u001b[0;34m(\u001b[0m\u001b[0mdocument_lengths\u001b[0m\u001b[0;34m.\u001b[0m\u001b[0mvalues\u001b[0m\u001b[0;34m(\u001b[0m\u001b[0;34m)\u001b[0m\u001b[0;34m)\u001b[0m\u001b[0;34m\u001b[0m\u001b[0m\n\u001b[0m\u001b[1;32m      6\u001b[0m     \u001b[0ml_avg\u001b[0m \u001b[0;34m=\u001b[0m \u001b[0mtotal_length\u001b[0m\u001b[0;34m/\u001b[0m\u001b[0mN\u001b[0m\u001b[0;34m\u001b[0m\u001b[0m\n\u001b[1;32m      7\u001b[0m     \u001b[0mBM25\u001b[0m \u001b[0;34m=\u001b[0m \u001b[0;36m0\u001b[0m\u001b[0;34m\u001b[0m\u001b[0m\n",
      "\u001b[0;31mKeyboardInterrupt\u001b[0m: "
     ]
    }
   ],
   "source": [
    "def run_retrieval(model_name, score_fn, params):\n",
    "    \"\"\"\n",
    "    Runs a retrieval method for all the queries and writes the TREC-friendly results in a file.\n",
    "    \n",
    "    :param model_name: the name of the model (a string)\n",
    "    :param score_fn: the scoring function (a function - see below for an example) \n",
    "    :param params: params needed for chosen model\n",
    "    \"\"\"\n",
    "    if model_name == 'JM' or model_name == 'DP' or model_name == 'AD':\n",
    "        params_string = '-'.join(map(str, params))\n",
    "        run_out_path = '{0}-{1}.run'.format(model_name, params_string)\n",
    "    else:\n",
    "        run_out_path = '{}.run'.format(model_name)    \n",
    "        \n",
    "    # Don't run twice\n",
    "    if os.path.exists(run_out_path):\n",
    "        return\n",
    "\n",
    "    retrieval_start_time = time.time()\n",
    "\n",
    "    print('Retrieving using', model_name)\n",
    "    \n",
    "    data = {}\n",
    "    for query_id in queries:\n",
    "        scores = []\n",
    "        for doc_id in range(index.document_base(), index.maximum_document()):\n",
    "            ext_doc_id, _ = index.document(doc_id)\n",
    "            score = 0\n",
    "            if model_name == 'tfidf':\n",
    "                for query_token in tokenized_queries[query_id]:\n",
    "                    score += score_fn(doc_id, query_token, inverted_index, num_documents)\n",
    "            elif model_name == 'BM25':\n",
    "                k1 = params[0]\n",
    "                b = params[1]\n",
    "                score = score_fn(doc_id, tokenized_queries[query_id], inverted_index, document_lengths, k1, b)\n",
    "            elif model_name == 'JM' or model_name == 'DP' or model_name == 'AD':\n",
    "                param = params[0]  \n",
    "                query_tokens = tokenized_queries[query_id]\n",
    "                lm = score_fn(doc_id, query_tokens, inverted_index, collection_frequencies, unique_terms_per_document, model_name, param)\n",
    "                # Calculate P(q|d)\n",
    "                P_q_d = 1\n",
    "                for query_token in query_tokens:\n",
    "                    P_q_d *= lm[query_token]\n",
    "                score = P_q_d\n",
    "            elif model_name == 'PLM':\n",
    "                sigma = params[0]\n",
    "                mu = params[1]\n",
    "                query_tokens = tokenized_queries[query_id]\n",
    "                score = score_fn(doc_id, query_tokens, inverted_index, collection_frequencies, index, sigma, mu)\n",
    "            scores.append((score, ext_doc_id))\n",
    "        data[query_id] = scores\n",
    "    \n",
    "    # The dictionary data should have the form: query_id --> (document_score, external_doc_id)\n",
    "    \n",
    "    with open(run_out_path, 'w') as f_out:\n",
    "        write_run(\n",
    "            model_name=model_name,\n",
    "            data=data,\n",
    "            out_f=f_out,\n",
    "            max_objects_per_query=1000)\n",
    "        \n",
    "# Any parameters needed for the corresponding score function in the order in which the function takes them as argument\n",
    "params = [50, 500]\n",
    "bm25_params = [1.2, 0.75]\n",
    "run_retrieval('tfidf', tfidf, bm25_params)\n"
   ]
  },
  {
   "cell_type": "code",
   "execution_count": 116,
   "metadata": {},
   "outputs": [
    {
     "data": {
      "text/plain": [
       "OrderedDict([('51', 'Airbus Subsidies'),\n",
       "             ('52', 'South African Sanctions'),\n",
       "             ('53', 'Leveraged Buyouts'),\n",
       "             ('54', 'Satellite Launch Contracts'),\n",
       "             ('55', 'Insider Trading'),\n",
       "             ('56', 'Prime (Lending) Rate Moves, Predictions'),\n",
       "             ('57', 'MCI'),\n",
       "             ('58', 'Rail Strikes'),\n",
       "             ('59', 'Weather Related Fatalities'),\n",
       "             ('60', 'Merit-Pay vs. Seniority'),\n",
       "             ('61', 'Israeli Role in Iran-Contra Affair'),\n",
       "             ('62', \"Military Coups D'etat\"),\n",
       "             ('63', 'Machine Translation'),\n",
       "             ('64', 'Hostage-Taking'),\n",
       "             ('65', 'Information Retrieval Systems'),\n",
       "             ('66', 'Natural Language Processing'),\n",
       "             ('67', 'Politically Motivated Civil Disturbances'),\n",
       "             ('68', 'Health Hazards from Fine-Diameter Fibers'),\n",
       "             ('69', 'Attempts to Revive the SALT II Treaty'),\n",
       "             ('70', 'Surrogate Motherhood'),\n",
       "             ('71', 'Border Incursions'),\n",
       "             ('72', 'Demographic Shifts in the U.S.'),\n",
       "             ('73', 'Demographic Shifts across National Boundaries'),\n",
       "             ('74', 'Conflicting Policy'),\n",
       "             ('75', 'Automation'),\n",
       "             ('76', 'U.S. Constitution - Original Intent'),\n",
       "             ('77', 'Poaching'),\n",
       "             ('78', 'Greenpeace'),\n",
       "             ('79', 'FRG Political Party Positions'),\n",
       "             ('80', '1988 Presidential Candidates Platforms'),\n",
       "             ('81',\n",
       "              'Financial crunch for televangelists in the wake of the PTL scandal'),\n",
       "             ('82', 'Genetic Engineering'),\n",
       "             ('83', 'Measures to Protect the Atmosphere'),\n",
       "             ('84',\n",
       "              'Alternative/renewable Energy Plant & Equipment Installation'),\n",
       "             ('85', 'Official Corruption'),\n",
       "             ('86', 'Bank Failures'),\n",
       "             ('87',\n",
       "              'Criminal Actions Against Officers of Failed Financial Institutions'),\n",
       "             ('88', 'Crude Oil Price Trends'),\n",
       "             ('89', '\"Downstream\" Investments by OPEC Member States'),\n",
       "             ('90', 'Data on Proven Reserves of Oil & Natural Gas Producers'),\n",
       "             ('91', 'U.S. Army Acquisition of Advanced Weapons Systems'),\n",
       "             ('92', 'International Military Equipment Sales'),\n",
       "             ('93', 'What Backing Does the National Rifle Association Have?'),\n",
       "             ('94', 'Computer-aided Crime'),\n",
       "             ('95', 'Computer-aided Crime Detection'),\n",
       "             ('96', 'Computer-Aided Medical Diagnosis'),\n",
       "             ('97', 'Fiber Optics Applications'),\n",
       "             ('98', 'Fiber Optics Equipment Manufacturers'),\n",
       "             ('99', 'Iran-Contra Affair'),\n",
       "             ('100', 'Controlling the Transfer of High Technology'),\n",
       "             ('101', 'Design of the \"Star Wars\" Anti-missile Defense System'),\n",
       "             ('102',\n",
       "              \"Laser Research Applicable to the U.S.'s Strategic Defense Initiative\"),\n",
       "             ('103', 'Welfare Reform'),\n",
       "             ('104', 'Catastrophic Health Insurance'),\n",
       "             ('105', '\"Black Monday\"'),\n",
       "             ('106', 'U.S. Control of Insider Trading'),\n",
       "             ('107', 'Japanese Regulation of Insider Trading'),\n",
       "             ('108', 'Japanese Protectionist Measures'),\n",
       "             ('109', 'Find Innovative Companies'),\n",
       "             ('110', 'Black Resistance Against the South African Government'),\n",
       "             ('111', 'Nuclear Proliferation'),\n",
       "             ('112', 'Funding Biotechnology'),\n",
       "             ('113', 'New Space Satellite Applications'),\n",
       "             ('114', 'Non-commercial Satellite Launches'),\n",
       "             ('115', 'Impact of the 1986 Immigration Law'),\n",
       "             ('116', 'Generic Drug Substitutions'),\n",
       "             ('117', 'Capacity of the U.S. Cellular Telephone Network'),\n",
       "             ('118', 'International Terrorists'),\n",
       "             ('119', 'Actions Against International Terrorists'),\n",
       "             ('120', 'Economic Impact of International Terrorism'),\n",
       "             ('121', 'Death from Cancer'),\n",
       "             ('122', 'RDT&E of New Cancer Fighting Drugs'),\n",
       "             ('123', 'Research into & Control of Carcinogens'),\n",
       "             ('124', 'Alternatives to Traditional Cancer Therapies'),\n",
       "             ('125', 'Anti-smoking Actions by Government'),\n",
       "             ('126', 'Medical Ethics and Modern Technology'),\n",
       "             ('127', 'U.S.-U.S.S.R. Arms Control Agreements'),\n",
       "             ('128', 'Privatization of State Assets'),\n",
       "             ('129', 'Soviet Spying on the U.S.'),\n",
       "             ('130', 'Jewish Emigration and U.S.-USSR Relations'),\n",
       "             ('131', 'McDonnell Douglas Contracts for Military Aircraft'),\n",
       "             ('132', '\"Stealth\" Aircraft'),\n",
       "             ('133', 'Hubble Space Telescope'),\n",
       "             ('134', 'The Human Genome Project'),\n",
       "             ('135', 'Possible Contributions of Gene Mapping to Medicine'),\n",
       "             ('136', 'Diversification by Pacific Telesis'),\n",
       "             ('137', 'Expansion in the U.S. Theme Park Industry'),\n",
       "             ('138', 'Iranian Support for Lebanese Hostage-takers'),\n",
       "             ('139',\n",
       "              \"Iran's Islamic Revolution - Domestic and Foreign Social Consequences\"),\n",
       "             ('140', 'Political Impact of Islamic Fundamentalism'),\n",
       "             ('141', \"Japan's Handling of its Trade Surplus with the U.S.\"),\n",
       "             ('142',\n",
       "              'Impact of Government Regulated Grain Farming on International Relations'),\n",
       "             ('143', 'Why Protect U.S. Farmers?'),\n",
       "             ('144', 'Management Problems at the United Nations'),\n",
       "             ('145', 'Influence of the \"Pro-Israel Lobby\"'),\n",
       "             ('146', 'Negotiating an End to the Nicaraguan Civil War'),\n",
       "             ('147', 'Productivity Trends in the U.S. Economy'),\n",
       "             ('148', 'Conflict in the Horn of Africa'),\n",
       "             ('149', 'Industrial Espionage'),\n",
       "             ('150', 'U.S. Political Campaign Financing'),\n",
       "             ('151', 'Coping with overcrowded prisons'),\n",
       "             ('152',\n",
       "              'Accusations of Cheating by Contractors on U.S. Defense Projects'),\n",
       "             ('153', 'Insurance Coverage which pays for Long Term Care'),\n",
       "             ('154', 'Oil Spills'),\n",
       "             ('155', 'Right Wing Christian Fundamentalism in U.S.'),\n",
       "             ('156', 'Efforts to enact Gun Control Legislation'),\n",
       "             ('157', 'Causes and treatments of multiple sclerosis (MS)'),\n",
       "             ('158', 'Term limitations for members of the U.S. Congress'),\n",
       "             ('159', 'Electric Car Development'),\n",
       "             ('160', 'Vitamins - The Cure for or Cause of Human Ailments'),\n",
       "             ('161', 'Acid Rain'),\n",
       "             ('162', 'Automobile Recalls'),\n",
       "             ('163', 'Vietnam Veterans and Agent Orange'),\n",
       "             ('164', 'Generic Drugs - Illegal Activities by Manufacturers'),\n",
       "             ('165', 'Tobacco company advertising and the young'),\n",
       "             ('166', 'Standardized testing and cultural bias'),\n",
       "             ('167',\n",
       "              'Regulation of the showing of violence and explicit sex in motion picture theaters, on television, and on video cassettes.'),\n",
       "             ('168', 'Financing AMTRAK'),\n",
       "             ('169', 'Cost of Garbage/Trash Removal'),\n",
       "             ('170',\n",
       "              'The Consequences of Implantation of Silicone Gel Breast Devices'),\n",
       "             ('171',\n",
       "              \"Use of Mutual Funds in an Individual's Retirement Strategy\"),\n",
       "             ('172',\n",
       "              'The Effectiveness of Medical Products and Related Programs Utilized in the Cessation of Smoking.'),\n",
       "             ('173', 'Smoking Bans'),\n",
       "             ('174', 'Hazardous Waste Cleanup'),\n",
       "             ('175', 'NRA Prevention of Gun Control Legislation'),\n",
       "             ('176', 'Real-life private investigators'),\n",
       "             ('177', 'English as the Official Language in U.S.'),\n",
       "             ('178', 'Dog Maulings'),\n",
       "             ('179', 'U. S. Restaurants in Foreign Lands'),\n",
       "             ('180', 'Ineffectiveness of U.S. Embargoes/Sanctions'),\n",
       "             ('181',\n",
       "              'Abuse of the Elderly by Family Members, and Medical and Nonmedical Personnel, and Initiatives Being Taken to Minimize This Mistreatment'),\n",
       "             ('182', 'Commercial Overfishing Creates Food Fish Deficit'),\n",
       "             ('183', 'Asbestos Related Lawsuits'),\n",
       "             ('184', 'Corporate Pension Plans/Funds'),\n",
       "             ('185', 'Reform of the U.S. Welfare System'),\n",
       "             ('186',\n",
       "              'Difference of Learning Levels Among Inner City and More Suburban School Students'),\n",
       "             ('187', 'Signs of the Demise of Independent Publishing'),\n",
       "             ('188', 'Beachfront Erosion'),\n",
       "             ('189', 'Real Motives for Murder'),\n",
       "             ('190', 'Instances of Fraud Involving the Use of a Computer'),\n",
       "             ('191', 'Efforts to Improve U.S. Schooling'),\n",
       "             ('192', 'Oil Spill Cleanup'),\n",
       "             ('193', 'Toys R Dangerous'),\n",
       "             ('194', 'The Amount of Money Earned by Writers'),\n",
       "             ('195',\n",
       "              'Stock Market Perturbations Attributable to Computer Initiated Trading'),\n",
       "             ('196',\n",
       "              'School Choice Voucher System and its effects upon the entire U.S. educational program'),\n",
       "             ('197',\n",
       "              'Reform of the jurisprudence system to stop juries from granting unreasonable monetary awards'),\n",
       "             ('198', 'Gene Therapy and Its Benefits to Humankind'),\n",
       "             ('199', 'Legality of Medically Assisted Suicides'),\n",
       "             ('200',\n",
       "              'Impact of foreign textile imports on U.S. textile industry')])"
      ]
     },
     "execution_count": 116,
     "metadata": {},
     "output_type": "execute_result"
    }
   ],
   "source": []
  },
  {
   "cell_type": "code",
   "execution_count": 13,
   "metadata": {
    "scrolled": true
   },
   "outputs": [
    {
     "name": "stdout",
     "output_type": "stream",
     "text": [
      "('Quit', 'in')\n",
      "('Quit', 'in')\n",
      "('Quit', 'in')\n",
      "('Quit', 'in')\n"
     ]
    }
   ],
   "source": [
    "import numpy as np\n",
    "\n",
    "def evaluate(run_file, qrel_file):\n",
    "    qrel_location = \"ap_88_89/\" + qrel_file\n",
    "    \n",
    "    map_1000 = !trec_eval/trec_eval -m all_trec -q {qrel_location} {run_file} | grep \"map_cut_1000\"  \n",
    "    ndcg_10 = !trec_eval/trec_eval -m all_trec -q {qrel_location} {run_file} | grep \"ndcg_cut_10\"\n",
    "    precision_5 = !trec_eval/trec_eval -m all_trec -q {qrel_location} {run_file} | grep \"P_5\"  \n",
    "    recall_1000 = !trec_eval/trec_eval -m all_trec -q {qrel_location} {run_file} | grep \"recall_1000\"  \n",
    "    \n",
    "    # Retrieve id and score from trec_eval output\n",
    "    map_1000 = [(score.split()[1], score.split()[2]) for score in np.array(map_1000)]\n",
    "    ndcg_10 = [(score.split()[1], score.split()[2]) for score in np.array(ndcg_10)]\n",
    "    precision_5 = [(score.split()[1], score.split()[2]) for score in np.array(precision_5)]\n",
    "    recall_1000 = [(score.split()[1], score.split()[2]) for score in np.array(recall_1000)]\n",
    "   \n",
    "    return map_1000, ndcg_10, precision_5, recall_1000\n",
    "\n",
    "map_1000, ndcg_10, precision_5, recall_1000 = evaluate('tfidf.run', 'qrel_validation')\n",
    "\n",
    "print(map_1000[-1])\n",
    "print(ndcg_10[-1])\n",
    "print(precision_5[-1])\n",
    "print(recall_1000[-1])"
   ]
  },
  {
   "cell_type": "code",
   "execution_count": 14,
   "metadata": {},
   "outputs": [
    {
     "ename": "NameError",
     "evalue": "name 'run_retrieval' is not defined",
     "output_type": "error",
     "traceback": [
      "\u001b[0;31m---------------------------------------------------------------------------\u001b[0m",
      "\u001b[0;31mNameError\u001b[0m                                 Traceback (most recent call last)",
      "\u001b[0;32m<ipython-input-14-2eb607446b10>\u001b[0m in \u001b[0;36m<module>\u001b[0;34m()\u001b[0m\n\u001b[1;32m     26\u001b[0m \u001b[0mtfidf\u001b[0m\u001b[0;34m(\u001b[0m\u001b[0;36m2\u001b[0m\u001b[0;34m,\u001b[0m \u001b[0;36m20\u001b[0m\u001b[0;34m,\u001b[0m \u001b[0minverted_index\u001b[0m\u001b[0;34m,\u001b[0m \u001b[0mnum_documents\u001b[0m\u001b[0;34m)\u001b[0m\u001b[0;34m\u001b[0m\u001b[0m\n\u001b[1;32m     27\u001b[0m \u001b[0;31m# combining the two functions above:\u001b[0m\u001b[0;34m\u001b[0m\u001b[0;34m\u001b[0m\u001b[0m\n\u001b[0;32m---> 28\u001b[0;31m \u001b[0mrun_retrieval\u001b[0m\u001b[0;34m(\u001b[0m\u001b[0;34m'tfidf'\u001b[0m\u001b[0;34m,\u001b[0m \u001b[0mtfidf\u001b[0m\u001b[0;34m)\u001b[0m\u001b[0;34m\u001b[0m\u001b[0m\n\u001b[0m\u001b[1;32m     29\u001b[0m \u001b[0;31m# TODO implement the rest of the retrieval functions\u001b[0m\u001b[0;34m\u001b[0m\u001b[0;34m\u001b[0m\u001b[0m\n\u001b[1;32m     30\u001b[0m \u001b[0;34m\u001b[0m\u001b[0m\n",
      "\u001b[0;31mNameError\u001b[0m: name 'run_retrieval' is not defined"
     ]
    }
   ],
   "source": [
    "import math\n",
    "\n",
    "def calculate_tf(document_id, query_term_id, inverted_index):\n",
    "    try:\n",
    "        document_term_frequency = inverted_index[query_term_id][document_id]\n",
    "        log_tf = 1 + math.log(document_term_frequency)\n",
    "        return log_tf\n",
    "    except KeyError:\n",
    "        return 0\n",
    "\n",
    "def tfidf(int_document_id, query_term_id, inverted_index, N):\n",
    "    \"\"\"\n",
    "    Scoring function for a document and a query term\n",
    "    \n",
    "    :param int_document_id: the document id\n",
    "    :param query_token_id: the query term id (assuming you have split the query to tokens)\n",
    "    :param document_term_freq: the document term frequency of the query term \n",
    "    \"\"\"\n",
    "    \n",
    "    log_tf = calculate_tf(int_document_id, query_term_id, inverted_index)\n",
    "    document_frequency = len(inverted_index[query_term_id])\n",
    "    log_idf = math.log(N) - math.log(document_frequency)\n",
    "    score = log_tf*log_idf\n",
    "    return score\n",
    "\n",
    "tfidf(2, 20, inverted_index, num_documents)\n",
    "# combining the two functions above: \n",
    "run_retrieval('tfidf', tfidf)\n",
    "# TODO implement the rest of the retrieval functions \n",
    "\n",
    "# TODO implement tools to help you with the analysis of the results."
   ]
  },
  {
   "cell_type": "code",
   "execution_count": 110,
   "metadata": {},
   "outputs": [
    {
     "data": {
      "text/plain": [
       "7.5346740771599805"
      ]
     },
     "execution_count": 110,
     "metadata": {},
     "output_type": "execute_result"
    }
   ],
   "source": [
    "def BM25(document_id, query_ids, inverted_index, document_lengths, k1, b):\n",
    "    N = len(document_lengths)\n",
    "    unique_query_terms = set(query_ids)\n",
    "    l_d = document_lengths[document_id]\n",
    "    total_length = sum(document_lengths.values())\n",
    "    l_avg = total_length/N\n",
    "    BM25 = 0\n",
    "    for query_term_id in unique_query_terms:\n",
    "        try:\n",
    "            log_tf = calculate_tf(document_id, query_term_id, inverted_index)\n",
    "            document_frequency = len(inverted_index[query_term_id])\n",
    "            log_idf = math.log(N) - math.log(document_frequency)\n",
    "            BM25 += ((k1 + 1)*log_tf)/(k1*((1 - b) + b * (l_d/l_avg)) + log_tf) * log_idf\n",
    "        except KeyError:\n",
    "            BM25 += 0\n",
    "    return BM25\n",
    "\n",
    "BM25(99783, tokenized_queries['90'], inverted_index, document_lengths, 1.2, 0.75)"
   ]
  },
  {
   "cell_type": "code",
   "execution_count": 16,
   "metadata": {},
   "outputs": [
    {
     "data": {
      "text/plain": [
       "0.004776927520830531"
      ]
     },
     "execution_count": 16,
     "metadata": {},
     "output_type": "execute_result"
    }
   ],
   "source": [
    "def JM_smoothing(document_id, query_term_id, collection_frequencies, document_lengths, inverted_index, l):\n",
    "    log_tf = calculate_tf(document_id, query_term_id, inverted_index)\n",
    "    tf_C = collection_frequencies[query_term_id]\n",
    "    log_tf_C = 1 + math.log(tf_C)\n",
    "    doc_length = document_lengths[document_id]\n",
    "    len_C = sum(document_lengths.values())\n",
    "    P_JM = l*(log_tf/doc_length) + (1 - l)*(log_tf_C)/len_C\n",
    "    return P_JM\n",
    "\n",
    "l = 0.9\n",
    "JM_smoothing(99783, 1275, collection_frequencies, document_lengths, inverted_index, l)"
   ]
  },
  {
   "cell_type": "code",
   "execution_count": 17,
   "metadata": {},
   "outputs": [
    {
     "data": {
      "text/plain": [
       "0.002994628735132055"
      ]
     },
     "execution_count": 17,
     "metadata": {},
     "output_type": "execute_result"
    }
   ],
   "source": [
    "def DP_smoothing(document_id, query_term_id, document_lengths, inverted_index, collection_frequencies, mu):\n",
    "    log_tf = calculate_tf(document_id, query_term_id, inverted_index)\n",
    "    doc_length = document_lengths[document_id]\n",
    "    tf_C = collection_frequencies[query_term_id]\n",
    "    P_w_C = tf_C/sum(collection_frequencies.values())\n",
    "    P_DP = (doc_length/(doc_length + mu))*(log_tf/doc_length) + (mu/(mu + doc_length))*P_w_C\n",
    "    return P_DP\n",
    "\n",
    "mu = 500\n",
    "DP_smoothing(99783, 1275, document_lengths, inverted_index, collection_frequencies, mu)"
   ]
  },
  {
   "cell_type": "code",
   "execution_count": 18,
   "metadata": {},
   "outputs": [
    {
     "data": {
      "text/plain": [
       "0.0051056100822080355"
      ]
     },
     "execution_count": 18,
     "metadata": {},
     "output_type": "execute_result"
    }
   ],
   "source": [
    "def AD_smoothing(document_id, query_term_id, document_lengths, inverted_index, collection_frequencies, unique_terms_per_document, delta):\n",
    "    log_tf = calculate_tf(document_id, query_term_id, inverted_index)\n",
    "    doc_length = document_lengths[document_id]\n",
    "    d_u = unique_terms_per_document[document_id]\n",
    "    tf_C = collection_frequencies[query_term_id]\n",
    "    P_w_C = tf_C/sum(collection_frequencies.values())\n",
    "    P_AD = max(log_tf - delta, 0)/doc_length + ((delta*d_u)/doc_length) * P_w_C\n",
    "    return P_AD\n",
    "\n",
    "delta = 0.1\n",
    "AD_smoothing(99783, 1275, document_lengths, inverted_index, collection_frequencies, unique_terms_per_document, delta)"
   ]
  },
  {
   "cell_type": "code",
   "execution_count": 19,
   "metadata": {},
   "outputs": [],
   "source": [
    "from collections import defaultdict\n",
    "\n",
    "def makeLM(document_id, query_ids, inverted_index, collection_frequencies, unique_terms_per_document, smoothing, param):\n",
    "    doc_length = document_lengths[document_id]\n",
    "    len_C = sum(document_lengths.values())\n",
    "    prob_query = defaultdict(float)\n",
    "    for query_id in query_ids:\n",
    "        log_tf = calculate_tf(document_id, query_id, inverted_index)\n",
    "        tf_C = collection_frequencies[query_id]\n",
    "        log_tf_C = 1 + math.log(tf_C)\n",
    "        P_w_C = tf_C/sum(collection_frequencies.values())\n",
    "        if smoothing == \"AD\":\n",
    "            d_u = unique_terms_per_document[document_id]\n",
    "            P_w_C = tf_C/sum(collection_frequencies.values())\n",
    "            prob_query[query_id] = max(log_tf - param, 0)/doc_length + ((param*d_u)/doc_length) * P_w_C\n",
    "        elif smoothing == \"DP\":\n",
    "            P_w_C = tf_C/sum(collection_frequencies.values())\n",
    "            prob_query[query_id] = (doc_length/(doc_length + param))*(log_tf/doc_length) + (param/(param + doc_length))*P_w_C\n",
    "        elif smoothing == \"JM\":\n",
    "            prob_query[query_id] = param*(log_tf/doc_length) + (1 - param)*(log_tf_C)/len_C\n",
    "    return prob_query\n",
    "\n",
    "smoothing = \"DP\"\n",
    "param = 0.1\n",
    "doc_id = 99783\n",
    "LM = makeLM(doc_id, query_term_ids, inverted_index, collection_frequencies, unique_terms_per_document, smoothing, param)\n"
   ]
  },
  {
   "cell_type": "code",
   "execution_count": 20,
   "metadata": {},
   "outputs": [
    {
     "data": {
      "text/plain": [
       "0.00200784812289836"
      ]
     },
     "execution_count": 20,
     "metadata": {},
     "output_type": "execute_result"
    }
   ],
   "source": [
    "def TFPP(document_id, word_id, inverted_index, tokens, sigma, j):\n",
    "    tf_sum = 0\n",
    "    Z_i = 0\n",
    "    for i in range(len(tokens)):\n",
    "        if tokens[i] == word_id:\n",
    "            tf_i = 1\n",
    "        else:\n",
    "            tf_i = 0\n",
    "        kernel = Gaussian(j, i, sigma)\n",
    "        Z_i += kernel\n",
    "        tf_sum += tf_i*kernel\n",
    "    return tf_sum, Z_i\n",
    "\n",
    "def LMPP(document_id, word_id, inverted_index, collection_frequencies, index, sigma, j, mu):\n",
    "    tokens = index.document(document_id)[1]\n",
    "    tf_C = collection_frequencies[word_id]\n",
    "    P_w_C = tf_C/sum(collection_frequencies.values())\n",
    "    tf_w, Z_i = TFPP(document_id, word_id, inverted_index, tokens, sigma, j)    \n",
    "    P_w_D = (tf_w + mu*P_w_C)/(Z_i + mu)\n",
    "    return P_w_D\n",
    "\n",
    "def Gaussian(i, j, sigma):\n",
    "    return math.exp((-(i - j)**2)/(2*sigma**2))\n",
    "\n",
    "def Triangle(i, j, sigma):\n",
    "    if abs(i - j) <= sigma:\n",
    "        return 1 - abs(i - j)/sigma\n",
    "    else:\n",
    "        return 0\n",
    "\n",
    "def Cosine(i, j, sigma):\n",
    "    if abs(i - j) <= sigma:\n",
    "        return 0.5*(1 + math.cos((abs((i - j) * math.pi))/sigma))\n",
    "    else:\n",
    "        return 0\n",
    "\n",
    "def Circle(i, j, sigma):\n",
    "    if abs(i - j) <= sigma:\n",
    "        return math.sqrt((1 - ((abs(i - j))/sigma)))\n",
    "    else:\n",
    "        return 0\n",
    "    \n",
    "def Passage(i, j, sigma):\n",
    "    if abs(i - j) <= sigma:\n",
    "        return 1\n",
    "    else:\n",
    "        return 0\n",
    "\n",
    "mu = 500\n",
    "j = 2\n",
    "sigma = 50\n",
    "doc_id = 99783\n",
    "term_id = 1275\n",
    "LMPP(doc_id, term_id, inverted_index, collection_frequencies, index, sigma, j, mu)"
   ]
  },
  {
   "cell_type": "code",
   "execution_count": 21,
   "metadata": {},
   "outputs": [],
   "source": [
    "with open(\"ap_88_89/qrel_test\") as f:\n",
    "    test_set = f.readlines()\n",
    "with open(\"ap_88_89/qrel_validation\") as f:\n",
    "    val_set = f.readlines()\n"
   ]
  },
  {
   "cell_type": "code",
   "execution_count": 22,
   "metadata": {},
   "outputs": [
    {
     "data": {
      "text/plain": [
       "-4.723197087353424"
      ]
     },
     "execution_count": 22,
     "metadata": {},
     "output_type": "execute_result"
    }
   ],
   "source": [
    "from collections import Counter\n",
    "\n",
    "def PLM_score(document_id, query_ids, inverted_index, collection_frequencies, index, sigma, j, mu):\n",
    "    score = 0\n",
    "    query_counter = Counter(query_ids)\n",
    "    unique_tokens = set(index.document(document_id)[1])\n",
    "    unique_query_ids = set(query_ids)\n",
    "    # Only calculate P_w_Q for words in query, for other words P_w_Q = 0\n",
    "    for word_id in unique_query_ids:\n",
    "        P_w_Q = query_counter[word_id]/len(query_ids)\n",
    "        P_w_D = LMPP(document_id, word_id, inverted_index, collection_frequencies, index, sigma, j, mu)\n",
    "        if P_w_D != 0:\n",
    "            score += P_w_Q*math.log(P_w_Q/P_w_D)\n",
    "    return -score\n",
    "        \n",
    "def best_position_strategy(document_id, query_ids, inverted_index, collection_frequencies, index, sigma, mu):\n",
    "    tokens = index.document(document_id)[1]\n",
    "    highest_score = PLM_score(document_id, query_ids, inverted_index, collection_frequencies, index, sigma, 0, mu)\n",
    "    for j in range(1, len(tokens)): \n",
    "        score = PLM_score(document_id, query_ids, inverted_index, collection_frequencies, index, sigma, j, mu)\n",
    "        if score > highest_score:\n",
    "            highest_score = score\n",
    "    return highest_score\n",
    "\n",
    "# print(index.document(doc_id)[1])\n",
    "query = [5063, 151114, 4414, 4160, 78152]\n",
    "best_position_strategy(doc_id, query, inverted_index, collection_frequencies, index, sigma, mu)"
   ]
  },
  {
   "cell_type": "code",
   "execution_count": null,
   "metadata": {},
   "outputs": [],
   "source": []
  },
  {
   "cell_type": "markdown",
   "metadata": {},
   "source": [
    "### Task 2: Latent Semantic Models (LSMs) [15 points] ###\n",
    "\n",
    "In this task you will experiment with applying distributional semantics methods ([LSI](http://lsa3.colorado.edu/papers/JASIS.lsi.90.pdf) **[5 points]** and [LDA](https://www.cs.princeton.edu/~blei/papers/BleiNgJordan2003.pdf) **[5 points]**) for retrieval.\n",
    "\n",
    "You do not need to implement LSI or LDA on your own. Instead, you can use [gensim](http://radimrehurek.com/gensim/index.html). An example on how to integrate Pyndri with Gensim for word2vec can be found [here](https://github.com/cvangysel/pyndri/blob/master/examples/word2vec.py). For the remaining latent vector space models, you will need to implement connector classes (such as `IndriSentences`) by yourself.\n",
    "\n",
    "In order to use a latent semantic model for retrieval, you need to:\n",
    "   * build a representation of the query **q**,\n",
    "   * build a representation of the document **d**,\n",
    "   * calculate the similarity between **q** and **d** (e.g., cosine similarity, KL-divergence).\n",
    "     \n",
    "The exact implementation here depends on the latent semantic model you are using. \n",
    "   \n",
    "Each of these LSMs come with various hyperparameters to tune. Make a choice on the parameters, and explicitly mention the reasons that led you to these decisions. You can use the validation set to optimize hyper parameters you see fit; motivate your decisions. In addition, mention clearly how the query/document representations were constructed for each LSM and explain your choices.\n",
    "\n",
    "In this experiment, you will first obtain an initial top-1000 ranking for each query using TF-IDF in **Task 1**, and then re-rank the documents using the LSMs. Use TREC Eval to obtain the results and report on `NDCG@10`, Mean Average Precision (`MAP@1000`), `Precision@5` and `Recall@1000`.\n",
    "\n",
    "Perform significance testing **[5 points]** (similar as in Task 1) in the class of semantic matching methods."
   ]
  },
  {
   "cell_type": "code",
   "execution_count": null,
   "metadata": {},
   "outputs": [],
   "source": []
  },
  {
   "cell_type": "markdown",
   "metadata": {},
   "source": [
    "### Task 3:  Word embeddings for ranking [20 points] (open-ended) ###\n",
    "\n",
    "First create word embeddings on the corpus we provided using [word2vec](http://arxiv.org/abs/1411.2738) -- [gensim implementation](https://radimrehurek.com/gensim/models/word2vec.html). You should extract the indexed documents using pyndri and provide them to gensim for training a model (see example [here](https://github.com/nickvosk/pyndri/blob/master/examples/word2vec.py)).\n",
    "   \n",
    "This is an open-ended task. It is left up you to decide how you will combine word embeddings to derive query and document representations. Note that since we provide the implementation for training word2vec, you will be graded based on your creativity on combining word embeddings for building query and document representations.\n",
    "\n",
    "Note: If you want to experiment with pre-trained word embeddings on a different corpus, you can use the word embeddings we provide alongside the assignment (./data/reduced_vectors_google.txt.tar.gz). These are the [google word2vec word embeddings](https://code.google.com/archive/p/word2vec/), reduced to only the words that appear in the document collection we use in this assignment."
   ]
  },
  {
   "cell_type": "code",
   "execution_count": 40,
   "metadata": {},
   "outputs": [],
   "source": [
    "import gensim\n",
    "import pyndri.compat\n",
    "\n",
    "def train_word2vec(corpus):\n",
    "    \n",
    "    word2vec_init = gensim.models.Word2Vec(\n",
    "    size=300,  # Embedding size\n",
    "    window=5,  # One-sided window size\n",
    "    sg=True,  # Skip-gram.\n",
    "    min_count=5,  # Minimum word frequency.\n",
    "    sample=1e-3,  # Sub-sample threshold.\n",
    "    hs=False,  # Hierarchical softmax.\n",
    "    negative=10,  # Number of negative examples.\n",
    "    iter=1,  # Number of iterations.\n",
    "    workers=8,  # Number of workers.\n",
    ")\n",
    "    word2vec_init.build_vocab(corpus, trim_rule=None)\n",
    "\n",
    "    models = [word2vec_init]\n",
    "    model = copy.deepcopy(models[-1])\n",
    "    model.train(corpus, total_examples=model.corpus_count, epochs=model.iter)\n",
    "\n",
    "    models.append(model)\n",
    "    return models\n",
    "    \n",
    "\n",
    "corpus = pyndri.compat.IndriSentences(index, dictionary)\n",
    "models = train_word2vec(corpus)\n",
    "\n"
   ]
  },
  {
   "cell_type": "code",
   "execution_count": 61,
   "metadata": {},
   "outputs": [
    {
     "name": "stdout",
     "output_type": "stream",
     "text": [
      "defaultdict(<class 'int'>, {78152: 0, 1: 171350, 3076: 2596, 2053: 4158, 8: 119771, 1033: 8094, 11: 96612, 13: 84131, 1042: 8015, 19: 73013, 20: 71782, 21: 69256, 66582: 353, 1056: 7934, 33: 56945, 35: 55709, 38: 54180, 39: 53986, 2088: 4081, 45097: 965, 690: 11287, 1070: 7819, 178525: 14, 160909: 158, 2097: 4064, 54: 46470, 55: 46166, 57: 45936, 4160: 0, 68: 41803, 69: 41350, 72: 40954, 2121: 4021, 1098: 7709, 75: 40696, 5197: 1308, 78: 40331, 2127: 4010, 80: 40019, 2129: 4004, 82: 39433, 1891: 4572, 85: 38950, 163926: 121, 65624: 747, 97318: 133, 92: 37135, 94: 36935, 97: 36376, 1122: 7543, 235195: 285, 237310: 17, 3173: 2501, 119910: 46, 140391: 737, 2152: 3961, 3177: 2498, 107: 34626, 4204: 1746, 110: 34232, 153960: 2, 114: 33910, 118: 33171, 119: 33025, 218232: 734, 1145: 7379, 231615: 234, 128: 32340, 2177: 3884, 2178: 3883, 2181: 3871, 163974: 574, 2183: 3869, 1160: 7310, 1161: 7298, 138: 31429, 140: 31256, 4072: 1820, 142: 30861, 227473: 220, 254101: 175, 159894: 536, 2199: 3836, 152: 30328, 1178: 7213, 156: 29758, 5279: 1276, 2208: 3822, 163: 29515, 1189: 7183, 166: 29062, 168: 28909, 170: 28706, 2563: 3226, 180: 28105, 2230: 3782, 2231: 3776, 186: 27287, 71869: 344, 191: 26730, 192: 26523, 29891: 181, 196: 26385, 3269: 2400, 86216: 732, 203: 25897, 205: 25704, 20692: 792, 213: 25049, 214: 25046, 1240: 6930, 219: 24804, 36062: 180, 229: 24017, 380: 17294, 235: 23551, 236: 23254, 238: 23162, 116975: 92, 241: 23068, 1099: 7704, 1268: 6782, 382: 17086, 2294: 3655, 248: 22702, 1275: 6724, 252: 22452, 82174: 758, 255: 22282, 258: 22224, 2313: 3636, 1510: 5753, 269: 21853, 20750: 379, 274: 21468, 190739: 817, 276: 21346, 277: 21343, 1302: 6597, 140799: 671, 281: 21112, 1987: 4337, 389: 16970, 2336: 3593, 71970: 183, 3291: 2383, 3367: 2323, 122153: 843, 1322: 6502, 2439: 3416, 116012: 863, 40238: 252, 303: 19926, 4400: 1644, 2353: 3565, 2354: 3565, 307: 19822, 122164: 979, 121054: 28, 310: 19727, 3383: 2310, 313: 19658, 735: 10816, 4414: 0, 5442: 1220, 2371: 3540, 325: 19280, 26337: 181, 328: 19151, 249163: 399, 104782: 855, 335: 18861, 2387: 3482, 341: 18536, 5465: 1212, 1373: 6267, 351: 18282, 4451: 1617, 358: 17972, 360: 17890, 2409: 3452, 154987: 969, 90480: 665, 128371: 41, 373: 17474, 4104: 1804, 237289: 168, 377: 17326, 1404: 6156, 3454: 2256, 1339: 6419, 5506: 1197, 2587: 3180, 388: 16989, 1138: 7440, 390: 16949, 391: 16923, 29064: 633, 74122: 380, 395: 16844, 397: 16717, 1424: 6089, 1434: 6040, 2460: 3377, 3485: 2227, 5189: 1313, 416: 16298, 156066: 166, 200099: 530, 420: 16168, 128358: 504, 61863: 811, 53672: 174, 1449: 5977, 3655: 2109, 1266: 6790, 431: 15984, 5552: 1183, 1459: 5930, 436: 15718, 2485: 3347, 203193: 942, 1466: 5913, 3516: 2205, 151114: 0, 447: 15403, 448: 15380, 451: 15328, 74181: 506, 88519: 501, 2636: 3119, 39370: 843, 1483: 5844, 2509: 3314, 2510: 3311, 77: 40579, 243152: 333, 89553: 959, 1490: 5830, 84387: 554, 6153: 1012, 472: 14676, 198109: 1, 2527: 3276, 483: 14412, 484: 14411, 485: 14393, 3558: 2181, 178428: 338, 3564: 2178, 496: 14103, 1525: 5692, 48553: 697, 3576: 2169, 3579: 2167, 1533: 5669, 5630: 1159, 1535: 5656, 392: 16900, 515: 13483, 518: 13455, 519: 13385, 520: 13377, 2569: 3213, 3594: 2159, 523: 13348, 5814: 1101, 192943: 352, 63065: 994, 539: 13087, 3614: 2146, 2598: 3168, 1116: 7588, 3628: 2128, 1583: 5479, 99893: 83, 30473: 229, 2619: 3147, 2621: 3144, 23989: 762, 3649: 2113, 4675: 1527, 580: 12547, 1605: 5390, 1633: 5264, 1608: 5375, 233033: 364, 117322: 39, 588: 12422, 590: 12360, 2642: 3104, 2643: 3103, 238862: 108, 1622: 5309, 215481: 336, 3672: 2095, 601: 12214, 213404: 182, 5723: 1133, 3676: 2090, 609: 12133, 172647: 417, 111208: 581, 54952: 475, 1644: 5233, 238866: 920, 625: 11959, 3698: 2074, 629: 11936, 631: 11909, 250488: 101, 2324: 3619, 4735: 1501, 1664: 5172, 141966: 254, 642: 11780, 2697: 3019, 176407: 80, 654: 11618, 96348: 4, 659: 11576, 73364: 40, 155285: 457, 73379: 591, 2673: 3051, 1704: 5059, 5802: 1104, 2731: 2980, 684: 11328, 1709: 5047, 2845: 2852, 5810: 1102, 692: 11268, 2846: 2850, 694: 11261, 2743: 2966, 5581: 1171, 1723: 4994, 226762: 669, 1312: 6554, 188098: 221, 2760: 2950, 202871: 65, 719: 10992, 2296: 3654, 63508: 239, 463: 14818, 2783: 2912, 1760: 4885, 237281: 365, 738: 10793, 187515: 629, 67300: 850, 2791: 2905, 28392: 927, 2793: 2902, 746: 10703, 157422: 807, 5872: 1086, 1781: 4827, 1783: 4823, 226043: 627, 231164: 14, 228094: 945, 811: 10011, 105220: 671, 774: 10408, 776: 10379, 1801: 4788, 781: 10328, 5902: 1078, 2832: 2860, 100114: 691, 1812: 4766, 789: 10238, 4886: 1433, 238359: 940, 1821: 4741, 1822: 4738, 804: 10069, 1329: 6458, 2856: 2840, 144171: 691, 812: 9996, 91954: 648, 78639: 219, 1842: 4684, 819: 9957, 4916: 1421, 1847: 4674, 824: 9865, 91961: 269, 829: 9806, 832: 9797, 76611: 764, 1861: 4636, 4934: 1413, 250383: 603, 120650: 106, 3895: 1925, 846: 9585, 5967: 1059, 1848: 4668, 851: 9535, 3924: 1906, 86670: 875, 862: 9400, 2911: 2779, 51043: 61, 243556: 553, 1893: 4570, 881: 9216, 1906: 4534, 4755: 1493, 5609: 1163, 1912: 4507, 100217: 23, 191898: 384, 1920: 4488, 1856: 4656, 52100: 119, 4193: 1753, 2540: 3253, 1931: 4461, 212881: 212, 83861: 98, 917: 8895, 922: 8847, 220439: 49, 254885: 55, 5030: 1372, 1959: 4400, 942: 8723, 5448: 1219, 946: 8695, 955: 8615, 76733: 132, 1982: 4349, 2549: 3241, 171612: 2, 121675: 853, 151493: 187, 5063: 0, 4040: 1837, 43984: 518, 201208: 100, 3027: 2656, 982: 8401, 985: 8396, 192484: 488, 2897: 2793, 1000: 8275, 5098: 1346, 53245: 785, 4081: 1816, 121844: 586, 3063: 2613, 3066: 2608, 3067: 2608, 3069: 2603, 64853: 185})\n"
     ]
    }
   ],
   "source": [
    "print(collection_frequencies)"
   ]
  },
  {
   "cell_type": "code",
   "execution_count": 105,
   "metadata": {},
   "outputs": [
    {
     "data": {
      "text/plain": [
       "array([ 3.42297703e-02,  1.79504812e-01, -1.89787671e-01,  3.73626500e-02,\n",
       "       -5.40211737e-01,  9.65279713e-02, -1.01969287e-01,  1.76160365e-01,\n",
       "       -6.62141368e-02, -4.67654288e-01, -9.28428676e-03,  1.57016501e-01,\n",
       "        4.53330502e-02, -8.76431540e-02,  6.48423582e-02,  1.01889908e-01,\n",
       "        1.20397657e-04,  3.52838039e-01,  4.03705239e-01,  4.94697303e-01,\n",
       "        3.83278966e-01, -1.69290170e-01, -1.04092285e-01,  1.09430090e-01,\n",
       "        1.53636068e-01,  1.82842821e-01,  9.32084545e-02,  5.82165569e-02,\n",
       "        4.94382158e-02,  2.98161715e-01,  9.26617384e-02, -1.94016263e-01,\n",
       "       -1.27619639e-01, -1.24728121e-02, -6.97756559e-03,  2.01732069e-02,\n",
       "       -5.13505220e-01,  3.66343766e-01,  4.70881835e-02,  1.39084443e-01,\n",
       "        6.20896935e-01,  1.99873522e-02,  3.26636672e-01,  1.68139845e-01,\n",
       "        2.87087351e-01,  3.04125249e-03,  9.81723815e-02, -1.31375819e-01,\n",
       "       -3.22964638e-01, -7.24940598e-02,  4.24066216e-01,  5.52364171e-01,\n",
       "       -1.52556583e-01,  1.88823134e-01,  3.61269355e-01, -7.95818269e-02,\n",
       "       -3.39360386e-02,  3.54779422e-01,  1.26540408e-01,  3.72851789e-02,\n",
       "       -1.10467952e-02, -3.95634234e-01,  3.29927653e-01,  1.36566013e-01,\n",
       "        1.93379931e-02, -2.52590269e-01,  2.09723979e-01,  3.69410357e-03,\n",
       "        1.31454002e-02, -2.00214446e-01,  1.88156694e-01, -1.34729460e-01,\n",
       "       -2.22226858e-01, -1.27838105e-01, -2.84892589e-01,  6.76489249e-02,\n",
       "        2.03860253e-01, -1.12521507e-01, -2.91063190e-01, -2.38628127e-03,\n",
       "        1.42387062e-01,  1.08559236e-01, -5.69689870e-02,  3.58579546e-01,\n",
       "        4.99721058e-02,  1.14892289e-01,  1.02301866e-01, -5.48893400e-03,\n",
       "       -1.28040642e-01, -4.55720067e-01,  7.61516159e-03,  1.57601051e-02,\n",
       "       -2.96509564e-01,  4.14210856e-01, -3.10381055e-01,  9.19530168e-02,\n",
       "       -2.19713479e-01,  1.12061664e-01, -5.23483574e-01,  2.28558734e-01,\n",
       "        2.86540002e-01,  1.04756117e-01,  1.68081522e-01, -4.08167392e-02,\n",
       "        8.02797899e-02, -4.34634447e-01,  5.43999746e-02,  1.43951029e-01,\n",
       "       -3.12573254e-01, -3.65626484e-01,  3.33195090e-01, -1.92577362e-01,\n",
       "        2.08518252e-01,  1.50480494e-03,  2.18147337e-02,  1.80603921e-01,\n",
       "        3.36327665e-02,  3.64148766e-01, -3.90196182e-02,  7.61269331e-02,\n",
       "        2.05155164e-01, -3.05002570e-01,  5.85939139e-02,  4.46725011e-01,\n",
       "        3.41197848e-02,  3.70028019e-02,  2.72965908e-01, -1.64669544e-01,\n",
       "       -1.52773082e-01, -1.31759927e-01,  8.03354084e-02, -1.38153479e-01,\n",
       "        5.70702925e-02,  2.14732334e-01,  4.75279391e-01, -3.23761851e-01,\n",
       "       -1.47771955e-01, -5.22068031e-02,  3.97493578e-02,  5.26680887e-01,\n",
       "        2.10613906e-01,  8.89496654e-02,  1.96786106e-01, -1.43270075e-01,\n",
       "        4.26835507e-01, -7.01656416e-02, -4.97705117e-02,  2.74259865e-01,\n",
       "       -2.27216661e-01,  1.76799655e-01, -1.83791757e-01,  1.20475456e-01,\n",
       "        2.06467688e-01, -6.44904673e-02,  8.81800652e-02,  2.05428377e-01,\n",
       "       -3.09763104e-02,  6.76701218e-02,  7.80022889e-02, -1.22443870e-01,\n",
       "        9.59746763e-02, -1.50491163e-01, -3.64901066e-01,  1.23556972e-01,\n",
       "       -5.53492486e-01, -2.18844637e-01, -2.59972543e-01, -4.85740490e-02,\n",
       "        9.29666907e-02, -1.16986826e-01, -8.54388103e-02, -4.88192648e-01,\n",
       "       -1.65248774e-02, -1.51402950e-01, -8.91852751e-03,  4.41650271e-01,\n",
       "        3.01597323e-02, -3.35809022e-01,  1.27758622e-01, -2.81963497e-01,\n",
       "       -5.57386987e-02,  1.58835441e-01,  2.85892367e-01, -4.15664852e-01,\n",
       "        2.02559754e-01, -3.68647546e-01,  5.15839681e-02,  1.21967301e-01,\n",
       "       -2.15891227e-01,  5.57921827e-04,  8.14615637e-02,  1.83906078e-01,\n",
       "       -3.22708488e-01, -7.81996623e-02,  3.06436345e-02,  1.63212776e-01,\n",
       "       -7.20336318e-01,  1.66201562e-01,  5.07234894e-02, -7.13964924e-02,\n",
       "        1.53397471e-01,  6.77027553e-02, -3.71263437e-02, -1.03209324e-01,\n",
       "       -6.83703348e-02, -1.42234460e-01,  3.78059447e-02, -2.90738285e-01,\n",
       "       -5.87253273e-02, -1.94104016e-03,  6.72636867e-01, -7.33435526e-02,\n",
       "        1.13265023e-01,  1.39528692e-01,  1.70401514e-01,  2.97395587e-02,\n",
       "        6.08000383e-02,  2.71149516e-01, -2.27553621e-01, -1.64197803e-01,\n",
       "        1.32360354e-01, -6.24363683e-02, -1.95074584e-02, -1.73557907e-01,\n",
       "       -9.44179073e-02,  2.66304106e-01, -1.17360093e-01, -1.05256699e-02,\n",
       "        3.94931316e-01, -3.29985559e-01,  1.86394285e-02,  1.11574821e-01,\n",
       "        6.62452281e-02, -3.00569266e-01, -2.45903619e-02, -2.91368198e-02,\n",
       "        3.02206278e-01,  2.51643836e-01, -1.74832284e-01,  3.13007772e-01,\n",
       "        3.32034707e-01, -3.68213236e-01, -9.73618589e-05,  1.73787445e-01,\n",
       "        1.09970897e-01, -2.83488072e-03,  4.17221785e-02, -4.83564585e-02,\n",
       "       -2.71274261e-02,  4.24323194e-02, -2.19845250e-01,  3.94512236e-01,\n",
       "       -8.05221274e-02, -2.78146490e-02, -1.27019525e-01,  3.51396576e-02,\n",
       "        2.05402195e-01, -2.06168741e-01,  6.47320151e-02,  2.69083351e-01,\n",
       "        7.06270114e-02, -4.53468949e-01, -3.59868482e-02,  1.70619980e-01,\n",
       "        1.36641487e-01, -1.36000171e-01, -4.24858093e-01,  3.84250164e-01,\n",
       "       -1.21741988e-01,  1.82338387e-01,  4.00574625e-01, -3.00391406e-01,\n",
       "       -1.27657115e-01,  7.68923238e-02,  8.80174786e-02, -1.40928179e-01,\n",
       "        1.35797366e-01,  4.80507135e-01, -2.67391503e-01, -1.56135589e-01,\n",
       "        7.43797123e-02, -1.14969991e-01, -6.54901683e-01,  6.77314103e-02,\n",
       "       -4.33137193e-02,  5.63892722e-02,  2.28771999e-01,  3.55805516e-01,\n",
       "       -3.54405008e-02,  2.96404921e-02,  7.26357661e-03,  2.08644018e-01,\n",
       "        3.03683579e-02,  1.33878067e-01,  2.01632738e-01,  1.97855130e-01,\n",
       "       -2.13156924e-01,  1.34106711e-01,  1.01544425e-01, -4.58285511e-02],\n",
       "      dtype=float32)"
      ]
     },
     "execution_count": 105,
     "metadata": {},
     "output_type": "execute_result"
    }
   ],
   "source": [
    "def text_representation(word2vec_model, tokens, N):\n",
    "    tokens = tokens.split()\n",
    "    token_counter = Counter(tokens)\n",
    "    embedded_tokens = [word2vec_model.wv[token.lower()] for token in tokens]\n",
    "    token_weights = []\n",
    "    for i in range(len(tokens)):\n",
    "        token_id = token2id[tokens[i]]\n",
    "        document_frequency = len(inverted_index[token_id])\n",
    "        log_idf = math.log(N) - math.log(document_frequency)\n",
    "        term_frequency = token_counter[tokens[i]]\n",
    "        log_tf = 1 + math.log(term_frequency)\n",
    "        token_weights.append(log_tf*log_idf)\n",
    "    avg_token_weights = np.array(token_weights)/sum(token_weights)\n",
    "    representation = []\n",
    "    for i in range(len(tokens)):\n",
    "        representation.append(embedded_tokens[i]*avg_token_weights[i])\n",
    "    return sum(representation)\n",
    "text_representation(models[1], queries['161'].lower(), num_documents)\n"
   ]
  },
  {
   "cell_type": "code",
   "execution_count": 108,
   "metadata": {},
   "outputs": [],
   "source": [
    "query = 'acid rain'\n",
    "query_vector = text_representation(models[1], query, num_documents)"
   ]
  },
  {
   "cell_type": "code",
   "execution_count": 109,
   "metadata": {},
   "outputs": [
    {
     "data": {
      "text/plain": [
       "[('acid', 0.9081491231918335),\n",
       " ('rain', 0.8299046754837036),\n",
       " ('nitric', 0.72994464635849),\n",
       " ('sulfur', 0.7215514183044434),\n",
       " ('hydrochloric', 0.6968904733657837),\n",
       " ('sulfuric', 0.6951553821563721),\n",
       " ('dioxide', 0.6951542496681213),\n",
       " ('pollutants', 0.6905497908592224),\n",
       " ('oxides', 0.6879680156707764),\n",
       " ('acidity', 0.6878735423088074)]"
      ]
     },
     "execution_count": 109,
     "metadata": {},
     "output_type": "execute_result"
    }
   ],
   "source": [
    "models[1].wv.similar_by_vector(query_vector)"
   ]
  },
  {
   "cell_type": "markdown",
   "metadata": {},
   "source": [
    "### Task 4: Learning to rank (LTR) [15 points] (open-ended) ###\n",
    "\n",
    "In this task you will get an introduction into learning to rank for information retrieval.\n",
    "\n",
    "You can explore different ways for devising features for the model. Obviously, you can use the retrieval methods you implemented in Task 1, Task 2 and Task 3 as features. Think about other features you can use (e.g. query/document length). Creativity on devising new features and providing motivation for them will be taken into account when grading.\n",
    "\n",
    "For every query, first create a document candidate set using the top-1000 documents using TF-IDF, and subsequently compute features given a query and a document. Note that the feature values of different retrieval methods are likely to be distributed differently.\n",
    "\n",
    "You are adviced to start some pointwise learning to rank algorithm e.g. logistic regression, implemented in [scikit-learn](http://scikit-learn.org/stable/modules/generated/sklearn.linear_model.LogisticRegression.html).\n",
    "Train your LTR model using 10-fold cross validation on the test set. More advanced learning to rank algorithms will be appreciated when grading."
   ]
  },
  {
   "cell_type": "code",
   "execution_count": null,
   "metadata": {},
   "outputs": [],
   "source": []
  },
  {
   "cell_type": "markdown",
   "metadata": {
    "collapsed": true
   },
   "source": [
    "### Task 4: Write a report [15 points; instant FAIL if not provided] ###\n",
    "\n",
    "The report should be a PDF file created using the [sigconf ACM template](https://www.acm.org/publications/proceedings-template) and will determine a significant part of your grade.\n",
    "\n",
    "   * It should explain what you have implemented, motivate your experiments and detail what you expect to learn from them. **[10 points]**\n",
    "   * Lastly, provide a convincing analysis of your results and conclude the report accordingly. **[10 points]**\n",
    "      * Do all methods perform similarly on all queries? Why?\n",
    "      * Is there a single retrieval model that outperforms all other retrieval models (i.e., silver bullet)?\n",
    "      * ...\n",
    "\n",
    "**Hand in the report and your self-contained implementation source files.** Only send us the files that matter, organized in a well-documented zip/tgz file with clear instructions on how to reproduce your results. That is, we want to be able to regenerate all your results with minimal effort. You can assume that the index and ground-truth information is present in the same file structure as the one we have provided.\n"
   ]
  },
  {
   "cell_type": "code",
   "execution_count": null,
   "metadata": {},
   "outputs": [],
   "source": []
  },
  {
   "cell_type": "code",
   "execution_count": null,
   "metadata": {},
   "outputs": [],
   "source": []
  },
  {
   "cell_type": "code",
   "execution_count": null,
   "metadata": {},
   "outputs": [],
   "source": []
  },
  {
   "cell_type": "code",
   "execution_count": null,
   "metadata": {},
   "outputs": [],
   "source": []
  }
 ],
 "metadata": {
  "anaconda-cloud": {},
  "kernelspec": {
   "display_name": "Python 3",
   "language": "python",
   "name": "python3"
  },
  "language_info": {
   "codemirror_mode": {
    "name": "ipython",
    "version": 3
   },
   "file_extension": ".py",
   "mimetype": "text/x-python",
   "name": "python",
   "nbconvert_exporter": "python",
   "pygments_lexer": "ipython3",
   "version": "3.5.2"
  }
 },
 "nbformat": 4,
 "nbformat_minor": 1
}
